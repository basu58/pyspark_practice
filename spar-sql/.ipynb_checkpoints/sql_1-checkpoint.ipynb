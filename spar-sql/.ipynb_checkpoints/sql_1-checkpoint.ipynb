{
 "cells": [
  {
   "cell_type": "code",
   "execution_count": 3,
   "id": "f056d2ea-c45f-4042-8743-f7369563862c",
   "metadata": {},
   "outputs": [
    {
     "name": "stderr",
     "output_type": "stream",
     "text": [
      "23/12/29 14:37:29 WARN Utils: Your hostname, Tech-Buddy resolves to a loopback address: 127.0.1.1; using 172.17.35.137 instead (on interface eth0)\n",
      "23/12/29 14:37:29 WARN Utils: Set SPARK_LOCAL_IP if you need to bind to another address\n",
      "Setting default log level to \"WARN\".\n",
      "To adjust logging level use sc.setLogLevel(newLevel). For SparkR, use setLogLevel(newLevel).\n",
      "23/12/29 14:37:30 WARN NativeCodeLoader: Unable to load native-hadoop library for your platform... using builtin-java classes where applicable\n",
      "23/12/29 14:37:31 WARN Utils: Service 'SparkUI' could not bind on port 4040. Attempting port 4041.\n"
     ]
    }
   ],
   "source": [
    "import findspark\n",
    "findspark.init()\n",
    "import pyspark\n",
    "from pyspark.sql import SparkSession\n",
    "spark = SparkSession.builder.master('local[1]').appName('Sample').getOrCreate()"
   ]
  },
  {
   "cell_type": "code",
   "execution_count": 4,
   "id": "3e95cbf2-181f-4525-93a8-69a5893c8cd6",
   "metadata": {},
   "outputs": [
    {
     "name": "stdout",
     "output_type": "stream",
     "text": [
      "<pyspark.sql.session.SparkSession object at 0x7f8ba81cb580>\n"
     ]
    }
   ],
   "source": [
    "print(spark)"
   ]
  },
  {
   "cell_type": "code",
   "execution_count": 5,
   "id": "c984c290-fa2b-4379-bef1-a1374bba57e4",
   "metadata": {},
   "outputs": [
    {
     "name": "stderr",
     "output_type": "stream",
     "text": [
      "23/12/29 14:47:48 WARN SparkSession: Using an existing Spark session; only runtime SQL configurations will take effect.\n",
      "                                                                                \r"
     ]
    },
    {
     "name": "stdout",
     "output_type": "stream",
     "text": [
      "+--------------+----------------+--------+---+\n",
      "|           _c0|             _c1|     _c2|_c3|\n",
      "+--------------+----------------+--------+---+\n",
      "|   other-empty|ラジオテレタイプ|external| 60|\n",
      "|  other-search|ラジオテレタイプ|external|165|\n",
      "|         PSK31|ラジオテレタイプ|    link| 18|\n",
      "|other-external|          御馳走|external| 13|\n",
      "|   other-empty|          御馳走|external| 40|\n",
      "|  other-search|          御馳走|external|306|\n",
      "|   other-empty|      池田和歌子|external| 81|\n",
      "|  other-search|      池田和歌子|external| 75|\n",
      "|   other-empty|  アインベッカー|external| 23|\n",
      "|  other-search|  アインベッカー|external| 26|\n",
      "+--------------+----------------+--------+---+\n",
      "only showing top 10 rows\n",
      "\n"
     ]
    }
   ],
   "source": [
    "from pyspark import SparkFiles\n",
    "from pyspark.sql import SparkSession\n",
    "\n",
    "spark = SparkSession.builder.appName(\"test\").getOrCreate()\n",
    "\n",
    "url = \"https://dumps.wikimedia.org/other/clickstream/2017-11/clickstream-jawiki-2017-11.tsv.gz\"\n",
    "spark.sparkContext.addFile(url)\n",
    "\n",
    "df = spark.read.option(\"sep\", \"\\t\").csv(\"file://\" + SparkFiles.get(\"clickstream-jawiki-2017-11.tsv.gz\"))\n",
    "df.show(10)"
   ]
  },
  {
   "cell_type": "code",
   "execution_count": 11,
   "id": "6f468e10-0157-4c93-9540-780ddc5577f4",
   "metadata": {},
   "outputs": [],
   "source": [
    "df.createOrReplaceTempView(\"sample\")"
   ]
  },
  {
   "cell_type": "code",
   "execution_count": 12,
   "id": "1a1b0311-5a58-4136-a4aa-41673310b673",
   "metadata": {},
   "outputs": [
    {
     "name": "stdout",
     "output_type": "stream",
     "text": [
      "+--------------+------------------+--------+----+\n",
      "|           _c0|               _c1|     _c2| _c3|\n",
      "+--------------+------------------+--------+----+\n",
      "|   other-empty|  ラジオテレタイプ|external|  60|\n",
      "|  other-search|  ラジオテレタイプ|external| 165|\n",
      "|         PSK31|  ラジオテレタイプ|    link|  18|\n",
      "|other-external|            御馳走|external|  13|\n",
      "|   other-empty|            御馳走|external|  40|\n",
      "|  other-search|            御馳走|external| 306|\n",
      "|   other-empty|        池田和歌子|external|  81|\n",
      "|  other-search|        池田和歌子|external|  75|\n",
      "|   other-empty|    アインベッカー|external|  23|\n",
      "|  other-search|    アインベッカー|external|  26|\n",
      "|other-external|            箸置き|external|  15|\n",
      "|   other-empty|            箸置き|external| 103|\n",
      "|other-internal|            箸置き|external|  22|\n",
      "|  other-search|            箸置き|external| 259|\n",
      "|   other-empty|          土井利久|external|  75|\n",
      "|other-external|              保延|external|  14|\n",
      "|   other-empty|              保延|external|  44|\n",
      "|  other-search|              保延|external|  59|\n",
      "|other-external|いただきストリート|external| 306|\n",
      "|   other-empty|いただきストリート|external|1286|\n",
      "+--------------+------------------+--------+----+\n",
      "only showing top 20 rows\n",
      "\n"
     ]
    }
   ],
   "source": [
    "df1 = spark.sql(\"select * from sample\")\n",
    "df1.show()"
   ]
  },
  {
   "cell_type": "code",
   "execution_count": 13,
   "id": "6703af1d-e5f0-457a-8a57-ca660d81722a",
   "metadata": {},
   "outputs": [
    {
     "name": "stdout",
     "output_type": "stream",
     "text": [
      "root\n",
      " |-- _c0: string (nullable = true)\n",
      " |-- _c1: string (nullable = true)\n",
      " |-- _c2: string (nullable = true)\n",
      " |-- _c3: string (nullable = true)\n",
      "\n"
     ]
    }
   ],
   "source": [
    "df1.printSchema()"
   ]
  },
  {
   "cell_type": "code",
   "execution_count": null,
   "id": "a4602f92-2060-4535-b317-e01de2ac4201",
   "metadata": {},
   "outputs": [],
   "source": [
    "df = "
   ]
  }
 ],
 "metadata": {
  "kernelspec": {
   "display_name": "Python 3 (ipykernel)",
   "language": "python",
   "name": "python3"
  },
  "language_info": {
   "codemirror_mode": {
    "name": "ipython",
    "version": 3
   },
   "file_extension": ".py",
   "mimetype": "text/x-python",
   "name": "python",
   "nbconvert_exporter": "python",
   "pygments_lexer": "ipython3",
   "version": "3.10.12"
  }
 },
 "nbformat": 4,
 "nbformat_minor": 5
}
