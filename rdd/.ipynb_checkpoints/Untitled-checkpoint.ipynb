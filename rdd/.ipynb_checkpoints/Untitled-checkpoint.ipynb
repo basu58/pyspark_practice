{
 "cells": [
  {
   "cell_type": "code",
   "execution_count": null,
   "id": "688fe27f-e9b2-4502-8081-79338545f126",
   "metadata": {},
   "outputs": [],
   "source": [
    "from pyspark import SparkContext, SparkConf\n",
    "import os\n",
    "\n",
    "# Create a SparkConf and SparkContext\n",
    "conf = SparkConf().setAppName(\"RemoveDuplicates\")\n",
    "sc = SparkContext(conf=conf)\n",
    "\n",
    "# Read the text file into an RDD\n",
    "file_path = \"/home/basu/data/source.txt\"\n",
    "text_rdd = sc.textFile(file_path)\n",
    "\n",
    "# Split each line into words and flatten the RDD\n",
    "words_rdd = text_rdd.flatMap(lambda line: line.split(\" \"))\n",
    "\n",
    "# Remove duplicates using distinct()\n",
    "unique_words_rdd = words_rdd.distinct()\n",
    "# Group words to find duplicates\n",
    "grouped_rdd = words_rdd.map(lambda word: (word, 1)).groupByKey()\n",
    "grouped_rdd.collect()\n",
    "# Filter out groups with a size greater than 1 (duplicates)\n",
    "duplicates_rdd = grouped_rdd.filter(lambda x: len(x[1]) > 1).keys()\n",
    "\n",
    "\n",
    "output_path = \"/home/basu/data/removed_duplicates.txt\"\n",
    "output_path_duplicates = \"/home/basu/data/duplicates.txt\"\n",
    "\n",
    "\n",
    "# Remove existing output directories\n",
    "if os.path.exists(output_path):\n",
    "    os.system(\"rm -r {}\".format(output_path))\n",
    "if os.path.exists(output_path_duplicates):\n",
    "    os.system(\"rm -r {}\".format(output_path_duplicates))\n",
    "\n",
    "\n",
    "# Save the unique words as a text file\n",
    "\n",
    "unique_words_rdd.coalesce(1).saveAsTextFile(output_path)\n",
    "output_path_duplicates = \"/home/basu/data/duplicates.txt\"\n",
    "duplicates_rdd.coalesce(1).saveAsTextFile(output_path_duplicates)\n",
    "# Stop the SparkContext\n",
    "sc.stop()\n"
   ]
  }
 ],
 "metadata": {
  "kernelspec": {
   "display_name": "Python 3 (ipykernel)",
   "language": "python",
   "name": "python3"
  },
  "language_info": {
   "codemirror_mode": {
    "name": "ipython",
    "version": 3
   },
   "file_extension": ".py",
   "mimetype": "text/x-python",
   "name": "python",
   "nbconvert_exporter": "python",
   "pygments_lexer": "ipython3",
   "version": "3.10.12"
  }
 },
 "nbformat": 4,
 "nbformat_minor": 5
}
