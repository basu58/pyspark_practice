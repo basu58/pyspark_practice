{
  "nbformat": 4,
  "nbformat_minor": 0,
  "metadata": {
    "colab": {
      "provenance": []
    },
    "kernelspec": {
      "name": "python3",
      "display_name": "Python 3"
    },
    "language_info": {
      "name": "python"
    }
  },
  "cells": [
    {
      "cell_type": "code",
      "source": [
        "pip install pyspark"
      ],
      "metadata": {
        "colab": {
          "base_uri": "https://localhost:8080/"
        },
        "id": "jGxE3t9BxnLV",
        "outputId": "3dddbb60-ea88-4865-caf2-c4b62c444bd9"
      },
      "execution_count": null,
      "outputs": [
        {
          "output_type": "stream",
          "name": "stdout",
          "text": [
            "Collecting pyspark\n",
            "  Downloading pyspark-3.5.0.tar.gz (316.9 MB)\n",
            "\u001b[2K     \u001b[90m━━━━━━━━━━━━━━━━━━━━━━━━━━━━━━━━━━━━━━━━\u001b[0m \u001b[32m316.9/316.9 MB\u001b[0m \u001b[31m2.0 MB/s\u001b[0m eta \u001b[36m0:00:00\u001b[0m\n",
            "\u001b[?25h  Preparing metadata (setup.py) ... \u001b[?25l\u001b[?25hdone\n",
            "Requirement already satisfied: py4j==0.10.9.7 in /usr/local/lib/python3.10/dist-packages (from pyspark) (0.10.9.7)\n",
            "Building wheels for collected packages: pyspark\n",
            "  Building wheel for pyspark (setup.py) ... \u001b[?25l\u001b[?25hdone\n",
            "  Created wheel for pyspark: filename=pyspark-3.5.0-py2.py3-none-any.whl size=317425345 sha256=032581a7cf094349a0f420408ec41a2154d266aefecd322982d4526f89c5e130\n",
            "  Stored in directory: /root/.cache/pip/wheels/41/4e/10/c2cf2467f71c678cfc8a6b9ac9241e5e44a01940da8fbb17fc\n",
            "Successfully built pyspark\n",
            "Installing collected packages: pyspark\n",
            "Successfully installed pyspark-3.5.0\n"
          ]
        }
      ]
    },
    {
      "cell_type": "code",
      "source": [
        "from pyspark import SparkContext\n",
        "from pyspark.sql import SparkSession\n",
        "\n",
        "sc=SparkContext()\n",
        "spark = SparkSession(sc)"
      ],
      "metadata": {
        "id": "kfpVRsJ0xpGA"
      },
      "execution_count": null,
      "outputs": []
    },
    {
      "cell_type": "code",
      "source": [
        "source_df=spark.read.parquet(\"/content/lbd_pq_10k.parquet\")\n",
        "source_df.printSchema()"
      ],
      "metadata": {
        "id": "m9ySko8n4_k8"
      },
      "execution_count": null,
      "outputs": []
    },
    {
      "cell_type": "code",
      "source": [
        "import pandas as pd\n"
      ],
      "metadata": {
        "id": "JsCJkLHJlyrW"
      },
      "execution_count": null,
      "outputs": []
    },
    {
      "cell_type": "code",
      "source": [
        "#create two another dataframe of metadata of current source data\n",
        "#and compare those using outer join\n",
        "# pd_df1=pd.DataFrame(source_std_data.dtypes,columns=['column','data_type'])\n",
        "pd_df2=pd.DataFrame(source_df.dtypes,columns=['column','data_type'])"
      ],
      "metadata": {
        "id": "wt8kH_jT6MhX"
      },
      "execution_count": null,
      "outputs": []
    },
    {
      "cell_type": "code",
      "source": [
        "old_names=pd_df2['column'].tolist()"
      ],
      "metadata": {
        "id": "1shdmn22Teo0"
      },
      "execution_count": null,
      "outputs": []
    },
    {
      "cell_type": "code",
      "source": [
        "# old_names"
      ],
      "metadata": {
        "id": "cUvpxz8OWP2W"
      },
      "execution_count": null,
      "outputs": []
    },
    {
      "cell_type": "code",
      "source": [
        "lbd_df=pd.read_excel(\"LBD,LBBD,Loan.xlsx\",sheet_name='loan_by_day')"
      ],
      "metadata": {
        "id": "ee_trs-eWcWP"
      },
      "execution_count": null,
      "outputs": []
    },
    {
      "cell_type": "code",
      "source": [
        "#convert pandas df into spark df\n",
        "lbd_spark=spark.createDataFrame(lbd_df)"
      ],
      "metadata": {
        "id": "5ZjGqApyXeiw"
      },
      "execution_count": null,
      "outputs": []
    },
    {
      "cell_type": "code",
      "source": [
        "#select 'Target Field Name NEW(Display Name)','Source Field Names' where 'Processing Order' ==1 and 'Pre Processing Rules' == 'rename'"
      ],
      "metadata": {
        "id": "JcSKscZVXsNs"
      },
      "execution_count": null,
      "outputs": []
    },
    {
      "cell_type": "code",
      "source": [
        "rename_df=lbd_spark.select(lbd_spark['Target Field Name NEW(Display Name)'],lbd_spark['Source Field Names']).filter((lbd_spark['Processing Order']==1)&(lbd_spark['Pre Processing Rules']=='rename'))"
      ],
      "metadata": {
        "id": "POOtqEfmazXh"
      },
      "execution_count": null,
      "outputs": []
    },
    {
      "cell_type": "code",
      "source": [
        "rename=rename_df.toPandas()"
      ],
      "metadata": {
        "id": "YYeWJ64ofUWD"
      },
      "execution_count": null,
      "outputs": []
    },
    {
      "cell_type": "code",
      "source": [
        "rename"
      ],
      "metadata": {
        "colab": {
          "base_uri": "https://localhost:8080/",
          "height": 423
        },
        "id": "3faGkJVP_jtM",
        "outputId": "571c94cb-545d-402e-b624-01fdbecd42aa"
      },
      "execution_count": null,
      "outputs": [
        {
          "output_type": "execute_result",
          "data": {
            "text/plain": [
              "              Target Field Name NEW(Display Name)  \\\n",
              "0                    loan_customer_application_id   \n",
              "1                            prev_ops_loan_status   \n",
              "2                                 ops_loan_status   \n",
              "3                   past_due_total_amount_to_date   \n",
              "4                                  prev_late_date   \n",
              "..                                            ...   \n",
              "204              total_paid_tco_recoveries_amount   \n",
              "205            total_refund_tco_recoveries_amount   \n",
              "206  total_refinance_payoff_tco_recoveries_amount   \n",
              "207              late_fees_added_after_tco_amount   \n",
              "208               nsf_fees_added_after_tco_amount   \n",
              "\n",
              "                       Source Field Names  \n",
              "0                 customer_application_id  \n",
              "1                             status_prev  \n",
              "2                             loan_status  \n",
              "3                  past_due_total_to_date  \n",
              "4                          late_date_prev  \n",
              "..                                    ...  \n",
              "204               total_paid_tco_recovery  \n",
              "205           total_refunded_tco_recovery  \n",
              "206  total_refinance_payoffs_tco_recovery  \n",
              "207          late_fees_added_tco_recovery  \n",
              "208           nsf_fees_added_tco_recovery  \n",
              "\n",
              "[209 rows x 2 columns]"
            ],
            "text/html": [
              "\n",
              "  <div id=\"df-f4dc9176-ebee-4f43-8c87-8cba8f02922e\" class=\"colab-df-container\">\n",
              "    <div>\n",
              "<style scoped>\n",
              "    .dataframe tbody tr th:only-of-type {\n",
              "        vertical-align: middle;\n",
              "    }\n",
              "\n",
              "    .dataframe tbody tr th {\n",
              "        vertical-align: top;\n",
              "    }\n",
              "\n",
              "    .dataframe thead th {\n",
              "        text-align: right;\n",
              "    }\n",
              "</style>\n",
              "<table border=\"1\" class=\"dataframe\">\n",
              "  <thead>\n",
              "    <tr style=\"text-align: right;\">\n",
              "      <th></th>\n",
              "      <th>Target Field Name NEW(Display Name)</th>\n",
              "      <th>Source Field Names</th>\n",
              "    </tr>\n",
              "  </thead>\n",
              "  <tbody>\n",
              "    <tr>\n",
              "      <th>0</th>\n",
              "      <td>loan_customer_application_id</td>\n",
              "      <td>customer_application_id</td>\n",
              "    </tr>\n",
              "    <tr>\n",
              "      <th>1</th>\n",
              "      <td>prev_ops_loan_status</td>\n",
              "      <td>status_prev</td>\n",
              "    </tr>\n",
              "    <tr>\n",
              "      <th>2</th>\n",
              "      <td>ops_loan_status</td>\n",
              "      <td>loan_status</td>\n",
              "    </tr>\n",
              "    <tr>\n",
              "      <th>3</th>\n",
              "      <td>past_due_total_amount_to_date</td>\n",
              "      <td>past_due_total_to_date</td>\n",
              "    </tr>\n",
              "    <tr>\n",
              "      <th>4</th>\n",
              "      <td>prev_late_date</td>\n",
              "      <td>late_date_prev</td>\n",
              "    </tr>\n",
              "    <tr>\n",
              "      <th>...</th>\n",
              "      <td>...</td>\n",
              "      <td>...</td>\n",
              "    </tr>\n",
              "    <tr>\n",
              "      <th>204</th>\n",
              "      <td>total_paid_tco_recoveries_amount</td>\n",
              "      <td>total_paid_tco_recovery</td>\n",
              "    </tr>\n",
              "    <tr>\n",
              "      <th>205</th>\n",
              "      <td>total_refund_tco_recoveries_amount</td>\n",
              "      <td>total_refunded_tco_recovery</td>\n",
              "    </tr>\n",
              "    <tr>\n",
              "      <th>206</th>\n",
              "      <td>total_refinance_payoff_tco_recoveries_amount</td>\n",
              "      <td>total_refinance_payoffs_tco_recovery</td>\n",
              "    </tr>\n",
              "    <tr>\n",
              "      <th>207</th>\n",
              "      <td>late_fees_added_after_tco_amount</td>\n",
              "      <td>late_fees_added_tco_recovery</td>\n",
              "    </tr>\n",
              "    <tr>\n",
              "      <th>208</th>\n",
              "      <td>nsf_fees_added_after_tco_amount</td>\n",
              "      <td>nsf_fees_added_tco_recovery</td>\n",
              "    </tr>\n",
              "  </tbody>\n",
              "</table>\n",
              "<p>209 rows × 2 columns</p>\n",
              "</div>\n",
              "    <div class=\"colab-df-buttons\">\n",
              "\n",
              "  <div class=\"colab-df-container\">\n",
              "    <button class=\"colab-df-convert\" onclick=\"convertToInteractive('df-f4dc9176-ebee-4f43-8c87-8cba8f02922e')\"\n",
              "            title=\"Convert this dataframe to an interactive table.\"\n",
              "            style=\"display:none;\">\n",
              "\n",
              "  <svg xmlns=\"http://www.w3.org/2000/svg\" height=\"24px\" viewBox=\"0 -960 960 960\">\n",
              "    <path d=\"M120-120v-720h720v720H120Zm60-500h600v-160H180v160Zm220 220h160v-160H400v160Zm0 220h160v-160H400v160ZM180-400h160v-160H180v160Zm440 0h160v-160H620v160ZM180-180h160v-160H180v160Zm440 0h160v-160H620v160Z\"/>\n",
              "  </svg>\n",
              "    </button>\n",
              "\n",
              "  <style>\n",
              "    .colab-df-container {\n",
              "      display:flex;\n",
              "      gap: 12px;\n",
              "    }\n",
              "\n",
              "    .colab-df-convert {\n",
              "      background-color: #E8F0FE;\n",
              "      border: none;\n",
              "      border-radius: 50%;\n",
              "      cursor: pointer;\n",
              "      display: none;\n",
              "      fill: #1967D2;\n",
              "      height: 32px;\n",
              "      padding: 0 0 0 0;\n",
              "      width: 32px;\n",
              "    }\n",
              "\n",
              "    .colab-df-convert:hover {\n",
              "      background-color: #E2EBFA;\n",
              "      box-shadow: 0px 1px 2px rgba(60, 64, 67, 0.3), 0px 1px 3px 1px rgba(60, 64, 67, 0.15);\n",
              "      fill: #174EA6;\n",
              "    }\n",
              "\n",
              "    .colab-df-buttons div {\n",
              "      margin-bottom: 4px;\n",
              "    }\n",
              "\n",
              "    [theme=dark] .colab-df-convert {\n",
              "      background-color: #3B4455;\n",
              "      fill: #D2E3FC;\n",
              "    }\n",
              "\n",
              "    [theme=dark] .colab-df-convert:hover {\n",
              "      background-color: #434B5C;\n",
              "      box-shadow: 0px 1px 3px 1px rgba(0, 0, 0, 0.15);\n",
              "      filter: drop-shadow(0px 1px 2px rgba(0, 0, 0, 0.3));\n",
              "      fill: #FFFFFF;\n",
              "    }\n",
              "  </style>\n",
              "\n",
              "    <script>\n",
              "      const buttonEl =\n",
              "        document.querySelector('#df-f4dc9176-ebee-4f43-8c87-8cba8f02922e button.colab-df-convert');\n",
              "      buttonEl.style.display =\n",
              "        google.colab.kernel.accessAllowed ? 'block' : 'none';\n",
              "\n",
              "      async function convertToInteractive(key) {\n",
              "        const element = document.querySelector('#df-f4dc9176-ebee-4f43-8c87-8cba8f02922e');\n",
              "        const dataTable =\n",
              "          await google.colab.kernel.invokeFunction('convertToInteractive',\n",
              "                                                    [key], {});\n",
              "        if (!dataTable) return;\n",
              "\n",
              "        const docLinkHtml = 'Like what you see? Visit the ' +\n",
              "          '<a target=\"_blank\" href=https://colab.research.google.com/notebooks/data_table.ipynb>data table notebook</a>'\n",
              "          + ' to learn more about interactive tables.';\n",
              "        element.innerHTML = '';\n",
              "        dataTable['output_type'] = 'display_data';\n",
              "        await google.colab.output.renderOutput(dataTable, element);\n",
              "        const docLink = document.createElement('div');\n",
              "        docLink.innerHTML = docLinkHtml;\n",
              "        element.appendChild(docLink);\n",
              "      }\n",
              "    </script>\n",
              "  </div>\n",
              "\n",
              "\n",
              "<div id=\"df-fd09467d-0938-4be3-bad0-035c09e02f53\">\n",
              "  <button class=\"colab-df-quickchart\" onclick=\"quickchart('df-fd09467d-0938-4be3-bad0-035c09e02f53')\"\n",
              "            title=\"Suggest charts\"\n",
              "            style=\"display:none;\">\n",
              "\n",
              "<svg xmlns=\"http://www.w3.org/2000/svg\" height=\"24px\"viewBox=\"0 0 24 24\"\n",
              "     width=\"24px\">\n",
              "    <g>\n",
              "        <path d=\"M19 3H5c-1.1 0-2 .9-2 2v14c0 1.1.9 2 2 2h14c1.1 0 2-.9 2-2V5c0-1.1-.9-2-2-2zM9 17H7v-7h2v7zm4 0h-2V7h2v10zm4 0h-2v-4h2v4z\"/>\n",
              "    </g>\n",
              "</svg>\n",
              "  </button>\n",
              "\n",
              "<style>\n",
              "  .colab-df-quickchart {\n",
              "      --bg-color: #E8F0FE;\n",
              "      --fill-color: #1967D2;\n",
              "      --hover-bg-color: #E2EBFA;\n",
              "      --hover-fill-color: #174EA6;\n",
              "      --disabled-fill-color: #AAA;\n",
              "      --disabled-bg-color: #DDD;\n",
              "  }\n",
              "\n",
              "  [theme=dark] .colab-df-quickchart {\n",
              "      --bg-color: #3B4455;\n",
              "      --fill-color: #D2E3FC;\n",
              "      --hover-bg-color: #434B5C;\n",
              "      --hover-fill-color: #FFFFFF;\n",
              "      --disabled-bg-color: #3B4455;\n",
              "      --disabled-fill-color: #666;\n",
              "  }\n",
              "\n",
              "  .colab-df-quickchart {\n",
              "    background-color: var(--bg-color);\n",
              "    border: none;\n",
              "    border-radius: 50%;\n",
              "    cursor: pointer;\n",
              "    display: none;\n",
              "    fill: var(--fill-color);\n",
              "    height: 32px;\n",
              "    padding: 0;\n",
              "    width: 32px;\n",
              "  }\n",
              "\n",
              "  .colab-df-quickchart:hover {\n",
              "    background-color: var(--hover-bg-color);\n",
              "    box-shadow: 0 1px 2px rgba(60, 64, 67, 0.3), 0 1px 3px 1px rgba(60, 64, 67, 0.15);\n",
              "    fill: var(--button-hover-fill-color);\n",
              "  }\n",
              "\n",
              "  .colab-df-quickchart-complete:disabled,\n",
              "  .colab-df-quickchart-complete:disabled:hover {\n",
              "    background-color: var(--disabled-bg-color);\n",
              "    fill: var(--disabled-fill-color);\n",
              "    box-shadow: none;\n",
              "  }\n",
              "\n",
              "  .colab-df-spinner {\n",
              "    border: 2px solid var(--fill-color);\n",
              "    border-color: transparent;\n",
              "    border-bottom-color: var(--fill-color);\n",
              "    animation:\n",
              "      spin 1s steps(1) infinite;\n",
              "  }\n",
              "\n",
              "  @keyframes spin {\n",
              "    0% {\n",
              "      border-color: transparent;\n",
              "      border-bottom-color: var(--fill-color);\n",
              "      border-left-color: var(--fill-color);\n",
              "    }\n",
              "    20% {\n",
              "      border-color: transparent;\n",
              "      border-left-color: var(--fill-color);\n",
              "      border-top-color: var(--fill-color);\n",
              "    }\n",
              "    30% {\n",
              "      border-color: transparent;\n",
              "      border-left-color: var(--fill-color);\n",
              "      border-top-color: var(--fill-color);\n",
              "      border-right-color: var(--fill-color);\n",
              "    }\n",
              "    40% {\n",
              "      border-color: transparent;\n",
              "      border-right-color: var(--fill-color);\n",
              "      border-top-color: var(--fill-color);\n",
              "    }\n",
              "    60% {\n",
              "      border-color: transparent;\n",
              "      border-right-color: var(--fill-color);\n",
              "    }\n",
              "    80% {\n",
              "      border-color: transparent;\n",
              "      border-right-color: var(--fill-color);\n",
              "      border-bottom-color: var(--fill-color);\n",
              "    }\n",
              "    90% {\n",
              "      border-color: transparent;\n",
              "      border-bottom-color: var(--fill-color);\n",
              "    }\n",
              "  }\n",
              "</style>\n",
              "\n",
              "  <script>\n",
              "    async function quickchart(key) {\n",
              "      const quickchartButtonEl =\n",
              "        document.querySelector('#' + key + ' button');\n",
              "      quickchartButtonEl.disabled = true;  // To prevent multiple clicks.\n",
              "      quickchartButtonEl.classList.add('colab-df-spinner');\n",
              "      try {\n",
              "        const charts = await google.colab.kernel.invokeFunction(\n",
              "            'suggestCharts', [key], {});\n",
              "      } catch (error) {\n",
              "        console.error('Error during call to suggestCharts:', error);\n",
              "      }\n",
              "      quickchartButtonEl.classList.remove('colab-df-spinner');\n",
              "      quickchartButtonEl.classList.add('colab-df-quickchart-complete');\n",
              "    }\n",
              "    (() => {\n",
              "      let quickchartButtonEl =\n",
              "        document.querySelector('#df-fd09467d-0938-4be3-bad0-035c09e02f53 button');\n",
              "      quickchartButtonEl.style.display =\n",
              "        google.colab.kernel.accessAllowed ? 'block' : 'none';\n",
              "    })();\n",
              "  </script>\n",
              "</div>\n",
              "\n",
              "  <div id=\"id_c34ec338-09c7-477c-a542-1766cc02ebb7\">\n",
              "    <style>\n",
              "      .colab-df-generate {\n",
              "        background-color: #E8F0FE;\n",
              "        border: none;\n",
              "        border-radius: 50%;\n",
              "        cursor: pointer;\n",
              "        display: none;\n",
              "        fill: #1967D2;\n",
              "        height: 32px;\n",
              "        padding: 0 0 0 0;\n",
              "        width: 32px;\n",
              "      }\n",
              "\n",
              "      .colab-df-generate:hover {\n",
              "        background-color: #E2EBFA;\n",
              "        box-shadow: 0px 1px 2px rgba(60, 64, 67, 0.3), 0px 1px 3px 1px rgba(60, 64, 67, 0.15);\n",
              "        fill: #174EA6;\n",
              "      }\n",
              "\n",
              "      [theme=dark] .colab-df-generate {\n",
              "        background-color: #3B4455;\n",
              "        fill: #D2E3FC;\n",
              "      }\n",
              "\n",
              "      [theme=dark] .colab-df-generate:hover {\n",
              "        background-color: #434B5C;\n",
              "        box-shadow: 0px 1px 3px 1px rgba(0, 0, 0, 0.15);\n",
              "        filter: drop-shadow(0px 1px 2px rgba(0, 0, 0, 0.3));\n",
              "        fill: #FFFFFF;\n",
              "      }\n",
              "    </style>\n",
              "    <button class=\"colab-df-generate\" onclick=\"generateWithVariable('rename')\"\n",
              "            title=\"Generate code using this dataframe.\"\n",
              "            style=\"display:none;\">\n",
              "\n",
              "  <svg xmlns=\"http://www.w3.org/2000/svg\" height=\"24px\"viewBox=\"0 0 24 24\"\n",
              "       width=\"24px\">\n",
              "    <path d=\"M7,19H8.4L18.45,9,17,7.55,7,17.6ZM5,21V16.75L18.45,3.32a2,2,0,0,1,2.83,0l1.4,1.43a1.91,1.91,0,0,1,.58,1.4,1.91,1.91,0,0,1-.58,1.4L9.25,21ZM18.45,9,17,7.55Zm-12,3A5.31,5.31,0,0,0,4.9,8.1,5.31,5.31,0,0,0,1,6.5,5.31,5.31,0,0,0,4.9,4.9,5.31,5.31,0,0,0,6.5,1,5.31,5.31,0,0,0,8.1,4.9,5.31,5.31,0,0,0,12,6.5,5.46,5.46,0,0,0,6.5,12Z\"/>\n",
              "  </svg>\n",
              "    </button>\n",
              "    <script>\n",
              "      (() => {\n",
              "      const buttonEl =\n",
              "        document.querySelector('#id_c34ec338-09c7-477c-a542-1766cc02ebb7 button.colab-df-generate');\n",
              "      buttonEl.style.display =\n",
              "        google.colab.kernel.accessAllowed ? 'block' : 'none';\n",
              "\n",
              "      buttonEl.onclick = () => {\n",
              "        google.colab.notebook.generateWithVariable('rename');\n",
              "      }\n",
              "      })();\n",
              "    </script>\n",
              "  </div>\n",
              "\n",
              "    </div>\n",
              "  </div>\n"
            ]
          },
          "metadata": {},
          "execution_count": 12
        }
      ]
    },
    {
      "cell_type": "code",
      "source": [
        "old_names=rename['Source Field Names'].tolist()\n",
        "target_name=rename['Target Field Name NEW(Display Name)'].tolist()"
      ],
      "metadata": {
        "id": "l6j_5I9_6PUl"
      },
      "execution_count": null,
      "outputs": []
    },
    {
      "cell_type": "code",
      "source": [
        "for old_col, new_col in zip(old_names,target_name):\n",
        "  target_rename_df=source_df.withColumnRenamed(old_col,new_col)"
      ],
      "metadata": {
        "id": "Nn1tYqhb6YhN"
      },
      "execution_count": null,
      "outputs": []
    },
    {
      "cell_type": "code",
      "source": [
        "target_rename_df.show()"
      ],
      "metadata": {
        "id": "BM16UvEH7elB"
      },
      "execution_count": null,
      "outputs": []
    },
    {
      "cell_type": "code",
      "source": [
        "source_df.show()"
      ],
      "metadata": {
        "id": "YhTVqscn-7A9"
      },
      "execution_count": null,
      "outputs": []
    },
    {
      "cell_type": "code",
      "source": [
        "target_rename_df1=source_df.withColumnRenamed('customer_application_id', 'loan_customer_application_id')"
      ],
      "metadata": {
        "id": "zpsSASAa_aTE"
      },
      "execution_count": null,
      "outputs": []
    },
    {
      "cell_type": "code",
      "source": [
        "target_rename_df1.show()"
      ],
      "metadata": {
        "id": "pHWOheBB_3rF"
      },
      "execution_count": null,
      "outputs": []
    },
    {
      "cell_type": "code",
      "source": [
        "from pyspark.sql.functions import *\n",
        "from pyspark.sql.types import *\n",
        "from pyspark.sql import Window"
      ],
      "metadata": {
        "id": "FLhN1gNUBPYu"
      },
      "execution_count": null,
      "outputs": []
    },
    {
      "cell_type": "code",
      "source": [
        "\n",
        "mapping = dict(zip(old_names,target_name))\n",
        "target=source_df.select([col(c).alias(mapping.get(c, c)) for c in source_df.columns])"
      ],
      "metadata": {
        "id": "Pi-Tv4g0_5WD"
      },
      "execution_count": null,
      "outputs": []
    },
    {
      "cell_type": "code",
      "source": [
        "target.show()"
      ],
      "metadata": {
        "id": "akex_7KDBd2x"
      },
      "execution_count": null,
      "outputs": []
    },
    {
      "cell_type": "code",
      "source": [
        "target = target.withColumn(\n",
        "    \"age_of_book\",\n",
        "    when(\n",
        "        (col(\"final_take_payment_date\").isNotNull()) &\n",
        "        (col(\"final_take_payment_date\") <= col(\"measurement_date\")),\n",
        "        months_between(col(\"final_take_payment_date\"), col(\"origination_date\")).cast(IntegerType())\n",
        "    ).when(\n",
        "        (col(\"treasury_charge_off_date\").isNotNull()) &\n",
        "        (col(\"treasury_charge_off_date\") <= col(\"measurement_date\")),\n",
        "        months_between(col(\"treasury_charge_off_date\"), col(\"origination_date\")).cast(IntegerType())\n",
        "    ).when(\n",
        "        col(\"origination_date\") > col(\"measurement_date\"),\n",
        "        0\n",
        "    ).otherwise(\n",
        "        months_between(col(\"measurement_date\"), col(\"origination_date\")).cast(IntegerType())\n",
        "    )\n",
        ")"
      ],
      "metadata": {
        "id": "9KAU6StTBgiZ"
      },
      "execution_count": null,
      "outputs": []
    },
    {
      "cell_type": "code",
      "source": [
        "window = Window.orderBy(\"measurement_date\")\n",
        "target = target.withColumn(\"temp_first_10_days_late\", when(target.days_late_excl_charge_off >= 10, target.measurement_date))\n",
        "target = target.withColumn(\"first_10_days_late_date\", first(target.temp_first_10_days_late, True) \\\n",
        "        .over(window))"
      ],
      "metadata": {
        "id": "HSw241f3WkFE"
      },
      "execution_count": null,
      "outputs": []
    },
    {
      "cell_type": "code",
      "source": [
        "target.select(col('first_10_days_late_date')).show(n=200)"
      ],
      "metadata": {
        "id": "-2Zq2zW5_1tl"
      },
      "execution_count": null,
      "outputs": []
    },
    {
      "cell_type": "code",
      "source": [
        "target = target.drop(\"temp_first_10_days_late\")"
      ],
      "metadata": {
        "id": "IuXSj82-BdIW"
      },
      "execution_count": null,
      "outputs": []
    },
    {
      "cell_type": "code",
      "source": [
        "window = Window.orderBy(col(\"measurement_date\").desc())\n",
        "\n",
        "#target = target.withColumn(\"temp_first_60_days_late\", when(col(\"days_late_excl_charge_off\") >= 60, col(\"measurement_date\")))\n",
        "target = target.withColumn(\"temp_first_60_days_late\", when(col(\"days_late_excl_charge_off\") >= 60, col(\"measurement_date\"))).filter(col(\"temp_first_60_days_late\").isNotNull())\n",
        "target = target.filter(col(\"temp_first_60_days_late\").isNotNull())\n",
        "target = target.withColumn(\"first_60_days_late_date\", first(\"temp_first_60_days_late\", True).over(window))\n",
        "\n",
        "# Drop the temporary column if needed\n",
        "target = target.drop(\"temp_first_60_days_late\")"
      ],
      "metadata": {
        "id": "onkcQ3DtDfLp"
      },
      "execution_count": null,
      "outputs": []
    },
    {
      "cell_type": "code",
      "source": [
        "target.select(col('temp_first_60_days_late'), col('days_late_excl_charge_off'), col('measurement_date')).show(n=300)"
      ],
      "metadata": {
        "id": "AVrnRPd1EdTh"
      },
      "execution_count": null,
      "outputs": []
    },
    {
      "cell_type": "code",
      "source": [
        "target.select(col('first_60_days_late_date')).show()"
      ],
      "metadata": {
        "id": "Cvnaiqibndn1"
      },
      "execution_count": null,
      "outputs": []
    },
    {
      "cell_type": "code",
      "source": [
        "from pyspark.sql.functions import max as spark_max\n",
        "target = target.withColumn(\n",
        "    \"current_maturity_date\",\n",
        "    when(\n",
        "        col(\"status\") == \"paid_off\",\n",
        "        col(\"final_take_payment_date\")\n",
        "    ).when(\n",
        "        (col(\"treasury_charge_off_date\").isNotNull()) &\n",
        "        (col(\"treasury_charge_off_date\") <= col(\"measurement_date\")),\n",
        "        None\n",
        "    ).when(\n",
        "        col(\"settlement_flag\") == \"true\",\n",
        "        col(\"settlement_adjusted_end_date\")\n",
        "    ).otherwise(\n",
        "        col(\"max_installment_date\")\n",
        "    )\n",
        ")"
      ],
      "metadata": {
        "id": "gxDniZQ6IRZg"
      },
      "execution_count": null,
      "outputs": []
    },
    {
      "cell_type": "code",
      "source": [
        "target.select(col('status')).show()"
      ],
      "metadata": {
        "id": "xDZV2BxnKTD1",
        "colab": {
          "base_uri": "https://localhost:8080/"
        },
        "outputId": "24669e84-6f9a-4963-88a1-cc87d30efcfa"
      },
      "execution_count": null,
      "outputs": [
        {
          "output_type": "stream",
          "name": "stdout",
          "text": [
            "+-----------+\n",
            "|     status|\n",
            "+-----------+\n",
            "|       late|\n",
            "|charged_off|\n",
            "|charged_off|\n",
            "|charged_off|\n",
            "|charged_off|\n",
            "|charged_off|\n",
            "|       late|\n",
            "|charged_off|\n",
            "|charged_off|\n",
            "|charged_off|\n",
            "|charged_off|\n",
            "|charged_off|\n",
            "|charged_off|\n",
            "|charged_off|\n",
            "|charged_off|\n",
            "|charged_off|\n",
            "|charged_off|\n",
            "|charged_off|\n",
            "|charged_off|\n",
            "|charged_off|\n",
            "+-----------+\n",
            "only showing top 20 rows\n",
            "\n"
          ]
        }
      ]
    },
    {
      "cell_type": "code",
      "source": [
        "window = Window().orderBy(\"late_date\").rowsBetween(Window.unboundedPreceding, Window.currentRow)\n",
        "\n",
        "# Add the temporary column based on the condition\n",
        "target = target.withColumn(\"temp_first_120_days_late\", when(date_diff(target.late_date, target.measurement_date) >= 120, target.measurement_date))\n",
        "\n",
        "# Add the final column using the window specification\n",
        "target = target.withColumn(\"first_120_days_late_date\", first(\"temp_first_120_days_late\", True).over(window))\n",
        "\n",
        "# Show the resulting DataFrame\n",
        "target.show()"
      ],
      "metadata": {
        "id": "BrO1BXcBLO5V"
      },
      "execution_count": null,
      "outputs": []
    },
    {
      "cell_type": "code",
      "source": [
        "target = target.withColumn(\"temp_most_recent_90_days_late_date\",\\\n",
        "                           when(target.days_late_excl_charge_off == 90, target.measurement_date))\n",
        "target = target.withColumn(\"most_recent_90_days_late_date\", last(target.temp_most_recent_90_days_late_date, True) \\\n",
        "                           .over(Window.partitionBy(target.loan_id).orderBy(target.measurement_date)))"
      ],
      "metadata": {
        "id": "J9X-1J6SQKmM"
      },
      "execution_count": null,
      "outputs": []
    },
    {
      "cell_type": "code",
      "source": [
        "target.select(col('most_recent_90_days_late_date')).show(n=200)"
      ],
      "metadata": {
        "id": "Wc1_GCVxQ1Sb"
      },
      "execution_count": null,
      "outputs": []
    },
    {
      "cell_type": "code",
      "source": [
        "window = Window().partitionBy(\"loan_id\", \"late_date\")\n",
        "target = target.withColumn(\"temp_number_of_instances_late\", \\\n",
        "                           row_number() \\\n",
        "                           .over(Window.partitionBy(target.loan_id, target.late_date).orderBy(target.measurement_date)))\n",
        "target = target.withColumn(\"number_of_instances_late\", \\\n",
        "                           sum(when(\n",
        "                               (target.prev_days_late_excl_charge_off.isNull() | (target.prev_days_late_excl_charge_off == 0)) \\\n",
        "                               & (target.temp_number_of_instances_late == 1) & (target.late_date.isNotNull()), 1).otherwise(0)) \\\n",
        "                           .over(window))"
      ],
      "metadata": {
        "id": "9jLxtiyPRD9Y"
      },
      "execution_count": null,
      "outputs": []
    },
    {
      "cell_type": "code",
      "source": [
        "target.select(col('number_of_instances_late')).show(n=200)"
      ],
      "metadata": {
        "id": "ODQu7KLEZRmY"
      },
      "execution_count": null,
      "outputs": []
    },
    {
      "cell_type": "code",
      "source": [
        "target = target.withColumn(\"late_120_month\",\\\n",
        "                           when(target.first_120_days_late_date.isNotNull(),\\\n",
        "                                trunc(target.first_120_days_late_date, 'month')).otherwise(None))"
      ],
      "metadata": {
        "id": "JlWHZfa70CdE"
      },
      "execution_count": null,
      "outputs": []
    },
    {
      "cell_type": "code",
      "source": [
        "target.select('late_120_month').show()"
      ],
      "metadata": {
        "id": "kFcKjkbM8LBs"
      },
      "execution_count": null,
      "outputs": []
    }
  ]
}