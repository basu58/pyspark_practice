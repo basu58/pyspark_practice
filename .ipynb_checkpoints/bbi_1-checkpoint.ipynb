{
 "cells": [
  {
   "cell_type": "code",
   "execution_count": 25,
   "id": "b1cbc0a6-752c-40a8-ba5b-68e1f22ffc55",
   "metadata": {
    "editable": true,
    "slideshow": {
     "slide_type": ""
    },
    "tags": []
   },
   "outputs": [
    {
     "name": "stderr",
     "output_type": "stream",
     "text": [
      "24/01/10 23:47:04 WARN SparkSession: Using an existing Spark session; only runtime SQL configurations will take effect.\n"
     ]
    }
   ],
   "source": [
    "import findspark\n",
    "findspark.init()\n",
    "import pyspark\n",
    "from pyspark.sql import SparkSession\n",
    "from pyspark.sql.functions import *\n",
    "import os\n",
    "\n",
    "spark = SparkSession.builder.master('local[1]').appName('bbi').getOrCreate()"
   ]
  },
  {
   "cell_type": "code",
   "execution_count": 8,
   "id": "da77f419-267d-4330-8e4c-5f63dbf12d31",
   "metadata": {},
   "outputs": [
    {
     "name": "stdout",
     "output_type": "stream",
     "text": [
      "+----+---------+------------+----------+------+------------+---------+------+--------------------+\n",
      "| mpg|cylinders|displacement|horsepower|weight|acceleration|modelyear|origin|             carname|\n",
      "+----+---------+------------+----------+------+------------+---------+------+--------------------+\n",
      "|18.0|        8|       307.0|     130.0| 3504.|        12.0|       70|     1|chevrolet chevell...|\n",
      "|15.0|        8|       350.0|     165.0| 3693.|        11.5|       70|     1|   buick skylark 320|\n",
      "|18.0|        8|       318.0|     150.0| 3436.|        11.0|       70|     1|  plymouth satellite|\n",
      "|16.0|        8|       304.0|     150.0| 3433.|        12.0|       70|     1|       amc rebel sst|\n",
      "|17.0|        8|       302.0|     140.0| 3449.|        10.5|       70|     1|         ford torino|\n",
      "|15.0|        8|       429.0|     198.0| 4341.|        10.0|       70|     1|    ford galaxie 500|\n",
      "|14.0|        8|       454.0|     220.0| 4354.|         9.0|       70|     1|    chevrolet impala|\n",
      "|14.0|        8|       440.0|     215.0| 4312.|         8.5|       70|     1|   plymouth fury iii|\n",
      "|14.0|        8|       455.0|     225.0| 4425.|        10.0|       70|     1|    pontiac catalina|\n",
      "|15.0|        8|       390.0|     190.0| 3850.|         8.5|       70|     1|  amc ambassador dpl|\n",
      "|15.0|        8|       383.0|     170.0| 3563.|        10.0|       70|     1| dodge challenger se|\n",
      "|14.0|        8|       340.0|     160.0| 3609.|         8.0|       70|     1|  plymouth 'cuda 340|\n",
      "|15.0|        8|       400.0|     150.0| 3761.|         9.5|       70|     1|chevrolet monte c...|\n",
      "|14.0|        8|       455.0|     225.0| 3086.|        10.0|       70|     1|buick estate wago...|\n",
      "|24.0|        4|       113.0|     95.00| 2372.|        15.0|       70|     3|toyota corona mar...|\n",
      "|22.0|        6|       198.0|     95.00| 2833.|        15.5|       70|     1|     plymouth duster|\n",
      "|18.0|        6|       199.0|     97.00| 2774.|        15.5|       70|     1|          amc hornet|\n",
      "|21.0|        6|       200.0|     85.00| 2587.|        16.0|       70|     1|       ford maverick|\n",
      "|27.0|        4|       97.00|     88.00| 2130.|        14.5|       70|     3|        datsun pl510|\n",
      "|26.0|        4|       97.00|     46.00| 1835.|        20.5|       70|     2|vw 1131 deluxe sedan|\n",
      "+----+---------+------------+----------+------+------------+---------+------+--------------------+\n",
      "only showing top 20 rows\n",
      "\n",
      "root\n",
      " |-- mpg: string (nullable = true)\n",
      " |-- cylinders: string (nullable = true)\n",
      " |-- displacement: string (nullable = true)\n",
      " |-- horsepower: string (nullable = true)\n",
      " |-- weight: string (nullable = true)\n",
      " |-- acceleration: string (nullable = true)\n",
      " |-- modelyear: string (nullable = true)\n",
      " |-- origin: string (nullable = true)\n",
      " |-- carname: string (nullable = true)\n",
      "\n"
     ]
    }
   ],
   "source": [
    "auto_df_fixed = spark.read.format(\"csv\").option(\"header\", True).load(\"data/auto-mpg-fixed.csv\")\n",
    "auto_df_fixed.show()\n",
    "auto_df_fixed.printSchema()"
   ]
  },
  {
   "cell_type": "code",
   "execution_count": 9,
   "id": "cd78518f-4178-44d6-8201-620dd4b5f740",
   "metadata": {},
   "outputs": [],
   "source": [
    "for (column_name) in (\"mpg cylinders displacement horsepower weight acceleration\".split()):\n",
    "    auto_df_fixed = auto_df_fixed.withColumn(column_name, col(column_name).cast(\"double\"))\n",
    "auto_df_fixed = auto_df_fixed.withColumn(\"modelyear\", col(\"modelyear\").cast(\"int\"))\n",
    "auto_df_fixed = auto_df_fixed.withColumn(\"origin\", col(\"origin\").cast(\"int\"))"
   ]
  },
  {
   "cell_type": "code",
   "execution_count": 15,
   "id": "9df8583d-f843-4ad1-b509-00b29770073d",
   "metadata": {
    "collapsed": true,
    "jupyter": {
     "outputs_hidden": true
    }
   },
   "outputs": [
    {
     "name": "stdout",
     "output_type": "stream",
     "text": [
      "+----+---------+------------+----------+------+------------+---------+------+--------------------+--------------------+\n",
      "| mpg|cylinders|displacement|horsepower|weight|acceleration|modelyear|origin|             carname|               upper|\n",
      "+----+---------+------------+----------+------+------------+---------+------+--------------------+--------------------+\n",
      "|18.0|      8.0|       307.0|     130.0|3504.0|        12.0|       70|     1|chevrolet chevell...|CHEVROLET CHEVELL...|\n",
      "|15.0|      8.0|       350.0|     165.0|3693.0|        11.5|       70|     1|   buick skylark 320|   BUICK SKYLARK 320|\n",
      "|18.0|      8.0|       318.0|     150.0|3436.0|        11.0|       70|     1|  plymouth satellite|  PLYMOUTH SATELLITE|\n",
      "|16.0|      8.0|       304.0|     150.0|3433.0|        12.0|       70|     1|       amc rebel sst|       AMC REBEL SST|\n",
      "|17.0|      8.0|       302.0|     140.0|3449.0|        10.5|       70|     1|         ford torino|         FORD TORINO|\n",
      "|15.0|      8.0|       429.0|     198.0|4341.0|        10.0|       70|     1|    ford galaxie 500|    FORD GALAXIE 500|\n",
      "|14.0|      8.0|       454.0|     220.0|4354.0|         9.0|       70|     1|    chevrolet impala|    CHEVROLET IMPALA|\n",
      "|14.0|      8.0|       440.0|     215.0|4312.0|         8.5|       70|     1|   plymouth fury iii|   PLYMOUTH FURY III|\n",
      "|14.0|      8.0|       455.0|     225.0|4425.0|        10.0|       70|     1|    pontiac catalina|    PONTIAC CATALINA|\n",
      "|15.0|      8.0|       390.0|     190.0|3850.0|         8.5|       70|     1|  amc ambassador dpl|  AMC AMBASSADOR DPL|\n",
      "|15.0|      8.0|       383.0|     170.0|3563.0|        10.0|       70|     1| dodge challenger se| DODGE CHALLENGER SE|\n",
      "|14.0|      8.0|       340.0|     160.0|3609.0|         8.0|       70|     1|  plymouth 'cuda 340|  PLYMOUTH 'CUDA 340|\n",
      "|15.0|      8.0|       400.0|     150.0|3761.0|         9.5|       70|     1|chevrolet monte c...|CHEVROLET MONTE C...|\n",
      "|14.0|      8.0|       455.0|     225.0|3086.0|        10.0|       70|     1|buick estate wago...|BUICK ESTATE WAGO...|\n",
      "|24.0|      4.0|       113.0|      95.0|2372.0|        15.0|       70|     3|toyota corona mar...|TOYOTA CORONA MAR...|\n",
      "|22.0|      6.0|       198.0|      95.0|2833.0|        15.5|       70|     1|     plymouth duster|     PLYMOUTH DUSTER|\n",
      "|18.0|      6.0|       199.0|      97.0|2774.0|        15.5|       70|     1|          amc hornet|          AMC HORNET|\n",
      "|21.0|      6.0|       200.0|      85.0|2587.0|        16.0|       70|     1|       ford maverick|       FORD MAVERICK|\n",
      "|27.0|      4.0|        97.0|      88.0|2130.0|        14.5|       70|     3|        datsun pl510|        DATSUN PL510|\n",
      "|26.0|      4.0|        97.0|      46.0|1835.0|        20.5|       70|     2|vw 1131 deluxe sedan|VW 1131 DELUXE SEDAN|\n",
      "+----+---------+------------+----------+------+------------+---------+------+--------------------+--------------------+\n",
      "only showing top 20 rows\n",
      "\n"
     ]
    }
   ],
   "source": [
    "df = auto_df_fixed.withColumn('upper', upper(col('carname'))).show()"
   ]
  },
  {
   "cell_type": "code",
   "execution_count": 16,
   "id": "0b9b5697-f7cf-41dc-a1eb-be47a1242e8e",
   "metadata": {
    "collapsed": true,
    "jupyter": {
     "outputs_hidden": true
    }
   },
   "outputs": [
    {
     "name": "stdout",
     "output_type": "stream",
     "text": [
      "+----+---------+------------+----------+------+------------+---------+------+--------------------+--------------------+\n",
      "| mpg|cylinders|displacement|horsepower|weight|acceleration|modelyear|origin|             carname|               lower|\n",
      "+----+---------+------------+----------+------+------------+---------+------+--------------------+--------------------+\n",
      "|18.0|      8.0|       307.0|     130.0|3504.0|        12.0|       70|     1|chevrolet chevell...|chevrolet chevell...|\n",
      "|15.0|      8.0|       350.0|     165.0|3693.0|        11.5|       70|     1|   buick skylark 320|   buick skylark 320|\n",
      "|18.0|      8.0|       318.0|     150.0|3436.0|        11.0|       70|     1|  plymouth satellite|  plymouth satellite|\n",
      "|16.0|      8.0|       304.0|     150.0|3433.0|        12.0|       70|     1|       amc rebel sst|       amc rebel sst|\n",
      "|17.0|      8.0|       302.0|     140.0|3449.0|        10.5|       70|     1|         ford torino|         ford torino|\n",
      "|15.0|      8.0|       429.0|     198.0|4341.0|        10.0|       70|     1|    ford galaxie 500|    ford galaxie 500|\n",
      "|14.0|      8.0|       454.0|     220.0|4354.0|         9.0|       70|     1|    chevrolet impala|    chevrolet impala|\n",
      "|14.0|      8.0|       440.0|     215.0|4312.0|         8.5|       70|     1|   plymouth fury iii|   plymouth fury iii|\n",
      "|14.0|      8.0|       455.0|     225.0|4425.0|        10.0|       70|     1|    pontiac catalina|    pontiac catalina|\n",
      "|15.0|      8.0|       390.0|     190.0|3850.0|         8.5|       70|     1|  amc ambassador dpl|  amc ambassador dpl|\n",
      "|15.0|      8.0|       383.0|     170.0|3563.0|        10.0|       70|     1| dodge challenger se| dodge challenger se|\n",
      "|14.0|      8.0|       340.0|     160.0|3609.0|         8.0|       70|     1|  plymouth 'cuda 340|  plymouth 'cuda 340|\n",
      "|15.0|      8.0|       400.0|     150.0|3761.0|         9.5|       70|     1|chevrolet monte c...|chevrolet monte c...|\n",
      "|14.0|      8.0|       455.0|     225.0|3086.0|        10.0|       70|     1|buick estate wago...|buick estate wago...|\n",
      "|24.0|      4.0|       113.0|      95.0|2372.0|        15.0|       70|     3|toyota corona mar...|toyota corona mar...|\n",
      "|22.0|      6.0|       198.0|      95.0|2833.0|        15.5|       70|     1|     plymouth duster|     plymouth duster|\n",
      "|18.0|      6.0|       199.0|      97.0|2774.0|        15.5|       70|     1|          amc hornet|          amc hornet|\n",
      "|21.0|      6.0|       200.0|      85.0|2587.0|        16.0|       70|     1|       ford maverick|       ford maverick|\n",
      "|27.0|      4.0|        97.0|      88.0|2130.0|        14.5|       70|     3|        datsun pl510|        datsun pl510|\n",
      "|26.0|      4.0|        97.0|      46.0|1835.0|        20.5|       70|     2|vw 1131 deluxe sedan|vw 1131 deluxe sedan|\n",
      "+----+---------+------------+----------+------+------------+---------+------+--------------------+--------------------+\n",
      "only showing top 20 rows\n",
      "\n"
     ]
    }
   ],
   "source": [
    "auto_df_fixed.withColumn('lower', lower(col('carname'))).show()"
   ]
  },
  {
   "cell_type": "code",
   "execution_count": 18,
   "id": "40e54c6f-9f8f-4902-8fd5-2cfbc2a8ff4a",
   "metadata": {
    "collapsed": true,
    "editable": true,
    "jupyter": {
     "outputs_hidden": true
    },
    "slideshow": {
     "slide_type": ""
    },
    "tags": []
   },
   "outputs": [
    {
     "name": "stdout",
     "output_type": "stream",
     "text": [
      "+----+---------+------------+----------+------+------------+---------+------+--------------------+\n",
      "| mpg|cylinders|displacement|horsepower|weight|acceleration|modelyear|origin|             carname|\n",
      "+----+---------+------------+----------+------+------------+---------+------+--------------------+\n",
      "|18.0|      8.0|       307.0|     130.0|3504.0|        12.0|     1970|     1|chevrolet chevell...|\n",
      "|15.0|      8.0|       350.0|     165.0|3693.0|        11.5|     1970|     1|   buick skylark 320|\n",
      "|18.0|      8.0|       318.0|     150.0|3436.0|        11.0|     1970|     1|  plymouth satellite|\n",
      "|16.0|      8.0|       304.0|     150.0|3433.0|        12.0|     1970|     1|       amc rebel sst|\n",
      "|17.0|      8.0|       302.0|     140.0|3449.0|        10.5|     1970|     1|         ford torino|\n",
      "|15.0|      8.0|       429.0|     198.0|4341.0|        10.0|     1970|     1|    ford galaxie 500|\n",
      "|14.0|      8.0|       454.0|     220.0|4354.0|         9.0|     1970|     1|    chevrolet impala|\n",
      "|14.0|      8.0|       440.0|     215.0|4312.0|         8.5|     1970|     1|   plymouth fury iii|\n",
      "|14.0|      8.0|       455.0|     225.0|4425.0|        10.0|     1970|     1|    pontiac catalina|\n",
      "|15.0|      8.0|       390.0|     190.0|3850.0|         8.5|     1970|     1|  amc ambassador dpl|\n",
      "|15.0|      8.0|       383.0|     170.0|3563.0|        10.0|     1970|     1| dodge challenger se|\n",
      "|14.0|      8.0|       340.0|     160.0|3609.0|         8.0|     1970|     1|  plymouth 'cuda 340|\n",
      "|15.0|      8.0|       400.0|     150.0|3761.0|         9.5|     1970|     1|chevrolet monte c...|\n",
      "|14.0|      8.0|       455.0|     225.0|3086.0|        10.0|     1970|     1|buick estate wago...|\n",
      "|24.0|      4.0|       113.0|      95.0|2372.0|        15.0|     1970|     3|toyota corona mar...|\n",
      "|22.0|      6.0|       198.0|      95.0|2833.0|        15.5|     1970|     1|     plymouth duster|\n",
      "|18.0|      6.0|       199.0|      97.0|2774.0|        15.5|     1970|     1|          amc hornet|\n",
      "|21.0|      6.0|       200.0|      85.0|2587.0|        16.0|     1970|     1|       ford maverick|\n",
      "|27.0|      4.0|        97.0|      88.0|2130.0|        14.5|     1970|     3|        datsun pl510|\n",
      "|26.0|      4.0|        97.0|      46.0|1835.0|        20.5|     1970|     2|vw 1131 deluxe sedan|\n",
      "+----+---------+------------+----------+------+------------+---------+------+--------------------+\n",
      "only showing top 20 rows\n",
      "\n"
     ]
    }
   ],
   "source": [
    "auto_df_fixed.withColumn('modelyear', concat(lit(19), col('modelyear'))).show()"
   ]
  },
  {
   "cell_type": "code",
   "execution_count": 19,
   "id": "e34e4b41-5539-460a-b305-a852b80f6e80",
   "metadata": {
    "collapsed": true,
    "editable": true,
    "jupyter": {
     "outputs_hidden": true
    },
    "slideshow": {
     "slide_type": ""
    },
    "tags": []
   },
   "outputs": [
    {
     "name": "stdout",
     "output_type": "stream",
     "text": [
      "+---+---------+------------+----------+------+------------+---------+------+--------------------+\n",
      "|mpg|cylinders|displacement|horsepower|weight|acceleration|modelyear|origin|             carname|\n",
      "+---+---------+------------+----------+------+------------+---------+------+--------------------+\n",
      "|low|      8.0|       307.0|     130.0|3504.0|        12.0|       70|     1|chevrolet chevell...|\n",
      "|low|      8.0|       350.0|     165.0|3693.0|        11.5|       70|     1|   buick skylark 320|\n",
      "|low|      8.0|       318.0|     150.0|3436.0|        11.0|       70|     1|  plymouth satellite|\n",
      "|low|      8.0|       304.0|     150.0|3433.0|        12.0|       70|     1|       amc rebel sst|\n",
      "|low|      8.0|       302.0|     140.0|3449.0|        10.5|       70|     1|         ford torino|\n",
      "|low|      8.0|       429.0|     198.0|4341.0|        10.0|       70|     1|    ford galaxie 500|\n",
      "|low|      8.0|       454.0|     220.0|4354.0|         9.0|       70|     1|    chevrolet impala|\n",
      "|low|      8.0|       440.0|     215.0|4312.0|         8.5|       70|     1|   plymouth fury iii|\n",
      "|low|      8.0|       455.0|     225.0|4425.0|        10.0|       70|     1|    pontiac catalina|\n",
      "|low|      8.0|       390.0|     190.0|3850.0|         8.5|       70|     1|  amc ambassador dpl|\n",
      "|low|      8.0|       383.0|     170.0|3563.0|        10.0|       70|     1| dodge challenger se|\n",
      "|low|      8.0|       340.0|     160.0|3609.0|         8.0|       70|     1|  plymouth 'cuda 340|\n",
      "|low|      8.0|       400.0|     150.0|3761.0|         9.5|       70|     1|chevrolet monte c...|\n",
      "|low|      8.0|       455.0|     225.0|3086.0|        10.0|       70|     1|buick estate wago...|\n",
      "|mid|      4.0|       113.0|      95.0|2372.0|        15.0|       70|     3|toyota corona mar...|\n",
      "|mid|      6.0|       198.0|      95.0|2833.0|        15.5|       70|     1|     plymouth duster|\n",
      "|low|      6.0|       199.0|      97.0|2774.0|        15.5|       70|     1|          amc hornet|\n",
      "|mid|      6.0|       200.0|      85.0|2587.0|        16.0|       70|     1|       ford maverick|\n",
      "|mid|      4.0|        97.0|      88.0|2130.0|        14.5|       70|     3|        datsun pl510|\n",
      "|mid|      4.0|        97.0|      46.0|1835.0|        20.5|       70|     2|vw 1131 deluxe sedan|\n",
      "+---+---------+------------+----------+------+------------+---------+------+--------------------+\n",
      "only showing top 20 rows\n",
      "\n"
     ]
    }
   ],
   "source": [
    "auto_df_fixed.withColumn('mpg', when(col('mpg') <= 20, 'low').\n",
    "                        when(col('mpg') <= 30, 'mid').\n",
    "                         when(col('mpg') <= 40, 'high').\n",
    "                         otherwise('Very High')).show()\n",
    "                         "
   ]
  },
  {
   "cell_type": "code",
   "execution_count": 20,
   "id": "4511a787-eab4-4b8c-bd80-737b34c4f108",
   "metadata": {
    "editable": true,
    "slideshow": {
     "slide_type": ""
    },
    "tags": []
   },
   "outputs": [
    {
     "name": "stdout",
     "output_type": "stream",
     "text": [
      "+----+---------+------------+----------+------+------------+---------+------+--------------------+---+\n",
      "| mpg|cylinders|displacement|horsepower|weight|acceleration|modelyear|origin|             carname|xyz|\n",
      "+----+---------+------------+----------+------+------------+---------+------+--------------------+---+\n",
      "|18.0|      8.0|       307.0|     130.0|3504.0|        12.0|       70|     1|chevrolet chevell...| 19|\n",
      "|15.0|      8.0|       350.0|     165.0|3693.0|        11.5|       70|     1|   buick skylark 320| 19|\n",
      "|18.0|      8.0|       318.0|     150.0|3436.0|        11.0|       70|     1|  plymouth satellite| 19|\n",
      "|16.0|      8.0|       304.0|     150.0|3433.0|        12.0|       70|     1|       amc rebel sst| 19|\n",
      "|17.0|      8.0|       302.0|     140.0|3449.0|        10.5|       70|     1|         ford torino| 19|\n",
      "|15.0|      8.0|       429.0|     198.0|4341.0|        10.0|       70|     1|    ford galaxie 500| 19|\n",
      "|14.0|      8.0|       454.0|     220.0|4354.0|         9.0|       70|     1|    chevrolet impala| 19|\n",
      "|14.0|      8.0|       440.0|     215.0|4312.0|         8.5|       70|     1|   plymouth fury iii| 19|\n",
      "|14.0|      8.0|       455.0|     225.0|4425.0|        10.0|       70|     1|    pontiac catalina| 19|\n",
      "|15.0|      8.0|       390.0|     190.0|3850.0|         8.5|       70|     1|  amc ambassador dpl| 19|\n",
      "|15.0|      8.0|       383.0|     170.0|3563.0|        10.0|       70|     1| dodge challenger se| 19|\n",
      "|14.0|      8.0|       340.0|     160.0|3609.0|         8.0|       70|     1|  plymouth 'cuda 340| 19|\n",
      "|15.0|      8.0|       400.0|     150.0|3761.0|         9.5|       70|     1|chevrolet monte c...| 19|\n",
      "|14.0|      8.0|       455.0|     225.0|3086.0|        10.0|       70|     1|buick estate wago...| 19|\n",
      "|24.0|      4.0|       113.0|      95.0|2372.0|        15.0|       70|     3|toyota corona mar...| 19|\n",
      "|22.0|      6.0|       198.0|      95.0|2833.0|        15.5|       70|     1|     plymouth duster| 19|\n",
      "|18.0|      6.0|       199.0|      97.0|2774.0|        15.5|       70|     1|          amc hornet| 19|\n",
      "|21.0|      6.0|       200.0|      85.0|2587.0|        16.0|       70|     1|       ford maverick| 19|\n",
      "|27.0|      4.0|        97.0|      88.0|2130.0|        14.5|       70|     3|        datsun pl510| 19|\n",
      "|26.0|      4.0|        97.0|      46.0|1835.0|        20.5|       70|     2|vw 1131 deluxe sedan| 19|\n",
      "+----+---------+------------+----------+------+------------+---------+------+--------------------+---+\n",
      "only showing top 20 rows\n",
      "\n"
     ]
    }
   ],
   "source": [
    "auto_df_fixed.withColumn('xyz', lit(19)).show()"
   ]
  }
 ],
 "metadata": {
  "kernelspec": {
   "display_name": "Python 3 (ipykernel)",
   "language": "python",
   "name": "python3"
  },
  "language_info": {
   "codemirror_mode": {
    "name": "ipython",
    "version": 3
   },
   "file_extension": ".py",
   "mimetype": "text/x-python",
   "name": "python",
   "nbconvert_exporter": "python",
   "pygments_lexer": "ipython3",
   "version": "3.10.12"
  }
 },
 "nbformat": 4,
 "nbformat_minor": 5
}
