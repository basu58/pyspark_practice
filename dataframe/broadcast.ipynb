{
 "cells": [
  {
   "cell_type": "code",
   "execution_count": 1,
   "id": "8b331afc-3c8d-43d1-a14d-b088669fa4c4",
   "metadata": {},
   "outputs": [
    {
     "name": "stderr",
     "output_type": "stream",
     "text": [
      "24/02/03 12:21:17 WARN Utils: Your hostname, Tech-Buddy resolves to a loopback address: 127.0.1.1; using 172.17.35.137 instead (on interface eth0)\n",
      "24/02/03 12:21:17 WARN Utils: Set SPARK_LOCAL_IP if you need to bind to another address\n",
      "Setting default log level to \"WARN\".\n",
      "To adjust logging level use sc.setLogLevel(newLevel). For SparkR, use setLogLevel(newLevel).\n",
      "24/02/03 12:21:18 WARN NativeCodeLoader: Unable to load native-hadoop library for your platform... using builtin-java classes where applicable\n",
      "                                                                                \r"
     ]
    },
    {
     "name": "stdout",
     "output_type": "stream",
     "text": [
      "+---+---------------+-----+\n",
      "| id|    description| name|\n",
      "+---+---------------+-----+\n",
      "|  1|      Some data| John|\n",
      "|  2|      More data| Jane|\n",
      "|  3|Additional data|Alice|\n",
      "+---+---------------+-----+\n",
      "\n"
     ]
    }
   ],
   "source": [
    "import findspark\n",
    "findspark.init()\n",
    "from pyspark.sql import SparkSession\n",
    "from pyspark.sql.functions import broadcast\n",
    "from pyspark.sql.types import *\n",
    "\n",
    "# Create a Spark session\n",
    "spark = SparkSession.builder.appName(\"BroadcastExample\").getOrCreate()\n",
    "\n",
    "# Sample DataFrame with data to be broadcasted\n",
    "lookup_data = [(1, 'John'), (2, 'Jane'), (3, 'Alice')]\n",
    "lookup_columns = [\"id\", \"name\"]\n",
    "lookup_df = spark.createDataFrame(lookup_data, lookup_columns)\n",
    "\n",
    "# Sample DataFrame with a column to be joined using the broadcast variable\n",
    "data = [(1, 'Some data'), (2, 'More data'), (3, 'Additional data')]\n",
    "columns = [\"id\", \"description\"]\n",
    "df = spark.createDataFrame(data, columns)\n",
    "\n",
    "# Broadcast the lookup DataFrame\n",
    "broadcast_lookup_df = broadcast(lookup_df)\n",
    "\n",
    "# Perform a join using the broadcast variable\n",
    "result_df = df.join(broadcast_lookup_df, \"id\")\n",
    "\n",
    "# Show the result\n",
    "result_df.show()"
   ]
  },
  {
   "cell_type": "code",
   "execution_count": 32,
   "id": "9d27a818-33d4-4631-b11b-97b7da174f54",
   "metadata": {
    "collapsed": true,
    "jupyter": {
     "outputs_hidden": true
    }
   },
   "outputs": [
    {
     "name": "stderr",
     "output_type": "stream",
     "text": [
      "24/01/27 23:23:33 WARN HintErrorLogger: A join hint (strategy=broadcast) is specified but it is not part of a join relation.\n"
     ]
    },
    {
     "name": "stdout",
     "output_type": "stream",
     "text": [
      "+---+-----+\n",
      "| id| name|\n",
      "+---+-----+\n",
      "|  1| John|\n",
      "|  2| Jane|\n",
      "|  3|Alice|\n",
      "+---+-----+\n",
      "\n"
     ]
    }
   ],
   "source": [
    "broadcast_lookup_df.show()"
   ]
  },
  {
   "cell_type": "code",
   "execution_count": 22,
   "id": "568acbd7-1cb6-4478-990b-a8a05661b6de",
   "metadata": {},
   "outputs": [],
   "source": [
    "from pyspark import SparkContext\n",
    "sc = spark.sparkContext"
   ]
  },
  {
   "cell_type": "code",
   "execution_count": 29,
   "id": "7e1ca9b2-879e-4dba-ba41-901ed09ac785",
   "metadata": {},
   "outputs": [
    {
     "name": "stdout",
     "output_type": "stream",
     "text": [
      "[('James', 'Smith', 'USA', 'California'), ('Michael', 'Rose', 'USA', 'New York'), ('Robert', 'Williams', 'USA', 'California'), ('Maria', 'Jones', 'USA', 'Florida')]\n"
     ]
    }
   ],
   "source": [
    "states = {\"NY\":\"New York\", \"CA\":\"California\", \"FL\":\"Florida\"}\n",
    "broadcastStates = spark.sparkContext.broadcast(states)\n",
    "\n",
    "data = [(\"James\",\"Smith\",\"USA\",\"CA\"),\n",
    "    (\"Michael\",\"Rose\",\"USA\",\"NY\"),\n",
    "    (\"Robert\",\"Williams\",\"USA\",\"CA\"),\n",
    "    (\"Maria\",\"Jones\",\"USA\",\"FL\")\n",
    "  ]\n",
    "\n",
    "rdd = spark.sparkContext.parallelize(data)\n",
    "\n",
    "def state_convert(code):\n",
    "    return broadcastStates.value[code]\n",
    "\n",
    "result = rdd.map(lambda x: (x[0],x[1],x[2],state_convert(x[3]))).collect()\n",
    "print(result)"
   ]
  },
  {
   "cell_type": "code",
   "execution_count": 37,
   "id": "cf708b03-d248-4f87-8f91-99ebe7cb2300",
   "metadata": {
    "collapsed": true,
    "jupyter": {
     "outputs_hidden": true
    }
   },
   "outputs": [
    {
     "name": "stdout",
     "output_type": "stream",
     "text": [
      "+---+----+\n",
      "| id|name|\n",
      "+---+----+\n",
      "|  1|   x|\n",
      "|  2|   y|\n",
      "|  3|   z|\n",
      "|  4|   a|\n",
      "|  5|   b|\n",
      "+---+----+\n",
      "\n",
      "root\n",
      " |-- id: integer (nullable = false)\n",
      " |-- name: string (nullable = true)\n",
      "\n"
     ]
    }
   ],
   "source": [
    "data = [{'id':1, 'name':'x'},\n",
    "       {'id':2, 'name':'y'},\n",
    "       {'id':3, 'name':'z'},\n",
    "       {'id':4, 'name':'a'},\n",
    "       {'id':5, 'name':'b'}]\n",
    "schema = StructType([\n",
    "    StructField('id', IntegerType(), False),\n",
    "    StructField('name', StringType(), True)\n",
    "])\n",
    "df1 = spark.createDataFrame(data = data, schema = schema)\n",
    "df1.show()\n",
    "df1.printSchema()"
   ]
  },
  {
   "cell_type": "code",
   "execution_count": 38,
   "id": "42ea9f03-da91-4467-923b-37dc61f7fbef",
   "metadata": {},
   "outputs": [],
   "source": [
    "broadcastdf = broadcast(df1)\n"
   ]
  },
  {
   "cell_type": "code",
   "execution_count": 39,
   "id": "e95e0854-e8a3-4488-a1b0-e66e1b85c688",
   "metadata": {
    "collapsed": true,
    "jupyter": {
     "outputs_hidden": true
    }
   },
   "outputs": [
    {
     "name": "stdout",
     "output_type": "stream",
     "text": [
      "+---+----+\n",
      "| id|name|\n",
      "+---+----+\n",
      "|  1|   p|\n",
      "|  2|   q|\n",
      "|  5|   r|\n",
      "|  6|   s|\n",
      "|  9|   t|\n",
      "+---+----+\n",
      "\n",
      "root\n",
      " |-- id: integer (nullable = false)\n",
      " |-- name: string (nullable = true)\n",
      "\n"
     ]
    }
   ],
   "source": [
    "data1 = [{'id':1, 'name':'p'},\n",
    "       {'id':2, 'name':'q'},\n",
    "       {'id':5, 'name':'r'},\n",
    "       {'id':6, 'name':'s'},\n",
    "       {'id':9, 'name':'t'}]\n",
    "schema1 = StructType([\n",
    "    StructField('id', IntegerType(), False),\n",
    "    StructField('name', StringType(), True)\n",
    "])\n",
    "df2 = spark.createDataFrame(data = data1, schema = schema1)\n",
    "df2.show()\n",
    "df2.printSchema()"
   ]
  },
  {
   "cell_type": "code",
   "execution_count": 40,
   "id": "7671b84c-e127-420e-864f-afdfa039bfd8",
   "metadata": {},
   "outputs": [
    {
     "name": "stdout",
     "output_type": "stream",
     "text": [
      "+---+----+----+\n",
      "| id|name|name|\n",
      "+---+----+----+\n",
      "|  1|   p|   x|\n",
      "|  2|   q|   y|\n",
      "|  5|   r|   b|\n",
      "+---+----+----+\n",
      "\n"
     ]
    }
   ],
   "source": [
    "resultdf1 = df2.join(broadcastdf, 'id')\n",
    "resultdf1.show()"
   ]
  },
  {
   "cell_type": "code",
   "execution_count": 12,
   "id": "084b7da7-de73-42b8-bbe4-cde3e8eeba03",
   "metadata": {},
   "outputs": [],
   "source": [
    "lookup_data = [(1, 'John'), (2, 'Jane'), (3, 'Alice'), (None, 'Sam'), (1, 'John')]\n",
    "lookup_columns = [\"id\", \"name\"]\n",
    "df = spark.createDataFrame(lookup_data, lookup_columns)\n",
    "df = df.na.drop(subset='id').drop_duplicates()"
   ]
  },
  {
   "cell_type": "code",
   "execution_count": 13,
   "id": "fbbcf910-ce74-4a7f-bb64-3d9851dbf7e5",
   "metadata": {},
   "outputs": [
    {
     "name": "stdout",
     "output_type": "stream",
     "text": [
      "+---+-----+\n",
      "| id| name|\n",
      "+---+-----+\n",
      "|  1| John|\n",
      "|  2| Jane|\n",
      "|  3|Alice|\n",
      "+---+-----+\n",
      "\n"
     ]
    }
   ],
   "source": [
    "df.show()"
   ]
  },
  {
   "cell_type": "code",
   "execution_count": 9,
   "id": "debe3db4-0b4a-42d1-baab-c24f1fc918dd",
   "metadata": {},
   "outputs": [
    {
     "name": "stdout",
     "output_type": "stream",
     "text": [
      "+----+-----+\n",
      "|  id| name|\n",
      "+----+-----+\n",
      "|   1| John|\n",
      "|   2| Jane|\n",
      "|   3|Alice|\n",
      "|NULL|  Sam|\n",
      "+----+-----+\n",
      "\n"
     ]
    }
   ],
   "source": [
    "df = df.drop_duplicates()\n",
    "df.show()"
   ]
  }
 ],
 "metadata": {
  "kernelspec": {
   "display_name": "Python 3 (ipykernel)",
   "language": "python",
   "name": "python3"
  },
  "language_info": {
   "codemirror_mode": {
    "name": "ipython",
    "version": 3
   },
   "file_extension": ".py",
   "mimetype": "text/x-python",
   "name": "python",
   "nbconvert_exporter": "python",
   "pygments_lexer": "ipython3",
   "version": "3.10.12"
  }
 },
 "nbformat": 4,
 "nbformat_minor": 5
}
