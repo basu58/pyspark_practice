{
 "cells": [
  {
   "cell_type": "code",
   "execution_count": 1,
   "id": "87c42162-d417-4fc7-aa52-b926c051735f",
   "metadata": {},
   "outputs": [
    {
     "name": "stderr",
     "output_type": "stream",
     "text": [
      "24/01/09 10:56:58 WARN Utils: Your hostname, Tech-Buddy resolves to a loopback address: 127.0.1.1; using 172.17.35.137 instead (on interface eth0)\n",
      "24/01/09 10:56:58 WARN Utils: Set SPARK_LOCAL_IP if you need to bind to another address\n",
      "Setting default log level to \"WARN\".\n",
      "To adjust logging level use sc.setLogLevel(newLevel). For SparkR, use setLogLevel(newLevel).\n",
      "24/01/09 10:56:59 WARN NativeCodeLoader: Unable to load native-hadoop library for your platform... using builtin-java classes where applicable\n",
      "24/01/09 10:57:00 WARN Utils: Service 'SparkUI' could not bind on port 4040. Attempting port 4041.\n"
     ]
    }
   ],
   "source": [
    "import findspark\n",
    "findspark.init()\n",
    "import pyspark\n",
    "from pyspark import SparkFiles\n",
    "from pyspark.sql import SparkSession\n",
    "from pyspark.sql.functions import *\n",
    "from pyspark.sql.types import *\n",
    "spark = SparkSession.builder.master('local[1]').appName('Sample').getOrCreate()"
   ]
  },
  {
   "cell_type": "code",
   "execution_count": 2,
   "id": "a5763e64-5fd1-40a1-b6ed-52438ad6ac54",
   "metadata": {},
   "outputs": [
    {
     "name": "stdout",
     "output_type": "stream",
     "text": [
      "+------------------+---------+--------------------+-------------------+-----------+--------+\n",
      "|        First_Name|Last_Name|               Local|               City|      State|Zip_Code|\n",
      "+------------------+---------+--------------------+-------------------+-----------+--------+\n",
      "|              John|      Doe|   120 jefferson st.|          Riverside|         NJ|   08075|\n",
      "|              Jack| McGinnis|        220 hobo Av.|              Phila|         PA|   09119|\n",
      "| \"John \"\"Da Man\"\"\"|   Repici|   120 Jefferson St.|          Riverside|         NJ|   08075|\n",
      "|           Stephen|    Tyler|\"7452 Terrace \"\"A...|           SomeTown|         SD|   91234|\n",
      "|              NULL| Blankman|                NULL|           SomeTown|         SD|   00298|\n",
      "|\"Joan \"\"the bone\"\"|    Anne\"|                 Jet|9th, at Terrace plc|Desert City|      CO|\n",
      "+------------------+---------+--------------------+-------------------+-----------+--------+\n",
      "\n"
     ]
    }
   ],
   "source": [
    "path= \"/home/basu/pyspark/dataframe/addresses.csv\"\n",
    "schema = StructType([\\\n",
    "    StructField(\"First_Name\", StringType(), True),\\\n",
    "    StructField(\"Last_Name\", StringType(), True),\\\n",
    "    StructField(\"Local\", StringType(), True),\\\n",
    "    StructField(\"City\", StringType(), True),\\\n",
    "    StructField(\"State\", StringType(), True),\\\n",
    "    StructField(\"Zip_Code\", StringType(), True)])\n",
    "df2 = spark.read.format(\"csv\").option(\"header\", \"false\").schema(schema).load(path)\n",
    "df2.show()"
   ]
  },
  {
   "cell_type": "code",
   "execution_count": 5,
   "id": "df774c7e-5a03-4933-a229-17998a8f4093",
   "metadata": {},
   "outputs": [
    {
     "name": "stdout",
     "output_type": "stream",
     "text": [
      "+---+------+\n",
      "| Id|  Name|\n",
      "+---+------+\n",
      "|  1|  Java|\n",
      "|  2|Python|\n",
      "|  3| Scala|\n",
      "|  4|     R|\n",
      "+---+------+\n",
      "\n",
      "root\n",
      " |-- Id: long (nullable = true)\n",
      " |-- Name: string (nullable = true)\n",
      "\n"
     ]
    },
    {
     "name": "stderr",
     "output_type": "stream",
     "text": [
      "                                                                                \r"
     ]
    }
   ],
   "source": [
    "data = [{'Id':1, 'Name': 'Java'},\n",
    "       {'Id':2, 'Name': 'Python'},\n",
    "       {'Id':3, 'Name': 'Scala'},\n",
    "       {'Id':4, 'Name': 'R'}]\n",
    "schema = StructType([StructField('Id', IntegerType(), True),\n",
    "                    StructField('Name', StringType(), True)])\n",
    "df = spark.createDataFrame(data = data)\n",
    "df.show()\n",
    "df.printSchema()"
   ]
  },
  {
   "cell_type": "code",
   "execution_count": 6,
   "id": "0e98e395-cdca-4764-b837-c19457dfbbf4",
   "metadata": {},
   "outputs": [
    {
     "data": {
      "text/plain": [
       "'/home/basu/pyspark/dataframe'"
      ]
     },
     "execution_count": 6,
     "metadata": {},
     "output_type": "execute_result"
    }
   ],
   "source": [
    "pwd"
   ]
  }
 ],
 "metadata": {
  "kernelspec": {
   "display_name": "Python 3 (ipykernel)",
   "language": "python",
   "name": "python3"
  },
  "language_info": {
   "codemirror_mode": {
    "name": "ipython",
    "version": 3
   },
   "file_extension": ".py",
   "mimetype": "text/x-python",
   "name": "python",
   "nbconvert_exporter": "python",
   "pygments_lexer": "ipython3",
   "version": "3.10.12"
  }
 },
 "nbformat": 4,
 "nbformat_minor": 5
}
