{
 "cells": [
  {
   "cell_type": "code",
   "execution_count": 1,
   "id": "b2e7dde0-7ef8-47b0-bba9-38543b8ea269",
   "metadata": {},
   "outputs": [
    {
     "name": "stderr",
     "output_type": "stream",
     "text": [
      "24/01/09 10:55:54 WARN Utils: Your hostname, Tech-Buddy resolves to a loopback address: 127.0.1.1; using 172.17.35.137 instead (on interface eth0)\n",
      "24/01/09 10:55:54 WARN Utils: Set SPARK_LOCAL_IP if you need to bind to another address\n",
      "Setting default log level to \"WARN\".\n",
      "To adjust logging level use sc.setLogLevel(newLevel). For SparkR, use setLogLevel(newLevel).\n",
      "24/01/09 10:55:55 WARN NativeCodeLoader: Unable to load native-hadoop library for your platform... using builtin-java classes where applicable\n"
     ]
    }
   ],
   "source": [
    "import findspark\n",
    "findspark.init()\n",
    "import pyspark\n",
    "from pyspark import SparkFiles\n",
    "from pyspark.sql import SparkSession\n",
    "spark = SparkSession.builder.master('local[1]').appName('Sample').getOrCreate()"
   ]
  },
  {
   "cell_type": "code",
   "execution_count": 2,
   "id": "3a40bdba-0a64-4c5e-85db-6d19c099649c",
   "metadata": {},
   "outputs": [],
   "source": [
    "url = \"https://people.sc.fsu.edu/~jburkardt/data/csv/addresses.csv\"\n",
    "spark.sparkContext.addFile(url)"
   ]
  },
  {
   "cell_type": "code",
   "execution_count": 3,
   "id": "2d8415c3-645d-4e61-8839-8c18491248fd",
   "metadata": {},
   "outputs": [
    {
     "name": "stderr",
     "output_type": "stream",
     "text": [
      "                                                                                \r"
     ]
    }
   ],
   "source": [
    "path  = SparkFiles.get(\"addresses.csv\")\n",
    "df = spark.read.csv(path, header=True, inferSchema= True)"
   ]
  },
  {
   "cell_type": "code",
   "execution_count": 4,
   "id": "a6272384-ff9e-4bcf-9056-7197eab01023",
   "metadata": {},
   "outputs": [
    {
     "name": "stdout",
     "output_type": "stream",
     "text": [
      "+------------------+--------+--------------------+-------------------+-----------+------+\n",
      "|              John|     Doe|   120 jefferson st.|          Riverside|         NJ| 08075|\n",
      "+------------------+--------+--------------------+-------------------+-----------+------+\n",
      "|              Jack|McGinnis|        220 hobo Av.|              Phila|         PA| 09119|\n",
      "| \"John \"\"Da Man\"\"\"|  Repici|   120 Jefferson St.|          Riverside|         NJ| 08075|\n",
      "|           Stephen|   Tyler|\"7452 Terrace \"\"A...|           SomeTown|         SD| 91234|\n",
      "|              NULL|Blankman|                NULL|           SomeTown|         SD| 00298|\n",
      "|\"Joan \"\"the bone\"\"|   Anne\"|                 Jet|9th, at Terrace plc|Desert City|    CO|\n",
      "+------------------+--------+--------------------+-------------------+-----------+------+\n",
      "\n"
     ]
    }
   ],
   "source": [
    "df.show()"
   ]
  },
  {
   "cell_type": "code",
   "execution_count": 12,
   "id": "7d920e47-d451-4b63-9ee7-2cb8f58018cf",
   "metadata": {
    "collapsed": true,
    "jupyter": {
     "outputs_hidden": true
    }
   },
   "outputs": [
    {
     "name": "stderr",
     "output_type": "stream",
     "text": [
      "23/12/29 15:48:07 WARN SparkContext: The path http://localhost:9090/files/pyspark/dataframe/addresses.csv?_xsrf=2%7C0ecdc69c%7C63988d6875b88a3ad4d62dcc4a07fad9%7C1702446244 has been added already. Overwriting of added paths is not supported in the current version.\n"
     ]
    }
   ],
   "source": [
    "spark.sparkContext.addFile(\"http://localhost:9090/files/pyspark/dataframe/addresses.csv?_xsrf=2%7C0ecdc69c%7C63988d6875b88a3ad4d62dcc4a07fad9%7C1702446244\")"
   ]
  },
  {
   "cell_type": "code",
   "execution_count": 13,
   "id": "0955286e-97f2-45fd-aa1b-2cd3803ec7d9",
   "metadata": {},
   "outputs": [],
   "source": [
    "path1 = SparkFiles.get(\"addresses.csv\")"
   ]
  },
  {
   "cell_type": "code",
   "execution_count": 26,
   "id": "5304ecc4-4f60-4a03-9e43-4279bb328d25",
   "metadata": {},
   "outputs": [
    {
     "name": "stdout",
     "output_type": "stream",
     "text": [
      "/tmp/spark-64af00d9-a003-463a-a37c-f7ba66d347e9/userFiles-672acac8-e719-42ca-965d-86154b04b683/addresses.csv\n"
     ]
    }
   ],
   "source": [
    "print(path)"
   ]
  },
  {
   "cell_type": "code",
   "execution_count": 5,
   "id": "cf1db74b-c4b8-4393-b08d-1ffdc9638b4b",
   "metadata": {},
   "outputs": [
    {
     "name": "stdout",
     "output_type": "stream",
     "text": [
      "+------------------+--------+--------------------+-------------------+-----------+------+\n",
      "|              John|     Doe|   120 jefferson st.|          Riverside|         NJ| 08075|\n",
      "+------------------+--------+--------------------+-------------------+-----------+------+\n",
      "|              Jack|McGinnis|        220 hobo Av.|              Phila|         PA| 09119|\n",
      "| \"John \"\"Da Man\"\"\"|  Repici|   120 Jefferson St.|          Riverside|         NJ| 08075|\n",
      "|           Stephen|   Tyler|\"7452 Terrace \"\"A...|           SomeTown|         SD| 91234|\n",
      "|              NULL|Blankman|                NULL|           SomeTown|         SD| 00298|\n",
      "|\"Joan \"\"the bone\"\"|   Anne\"|                 Jet|9th, at Terrace plc|Desert City|    CO|\n",
      "+------------------+--------+--------------------+-------------------+-----------+------+\n",
      "\n"
     ]
    }
   ],
   "source": [
    "df2 = spark.read.csv(\"/home/basu/pyspark/dataframe/addresses.csv\", header = True, inferSchema = True)\n",
    "df2.show()"
   ]
  },
  {
   "cell_type": "code",
   "execution_count": null,
   "id": "2a39f919-bebc-4209-b014-f80521ca870b",
   "metadata": {},
   "outputs": [],
   "source": []
  },
  {
   "cell_type": "code",
   "execution_count": null,
   "id": "07b16f3d-12d0-4373-ac20-36c4a4e2a59f",
   "metadata": {},
   "outputs": [],
   "source": []
  }
 ],
 "metadata": {
  "kernelspec": {
   "display_name": "Python 3 (ipykernel)",
   "language": "python",
   "name": "python3"
  },
  "language_info": {
   "codemirror_mode": {
    "name": "ipython",
    "version": 3
   },
   "file_extension": ".py",
   "mimetype": "text/x-python",
   "name": "python",
   "nbconvert_exporter": "python",
   "pygments_lexer": "ipython3",
   "version": "3.10.12"
  }
 },
 "nbformat": 4,
 "nbformat_minor": 5
}
