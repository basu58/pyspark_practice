{
 "cells": [
  {
   "cell_type": "code",
   "execution_count": 14,
   "id": "4eaf0050-ea88-4ac8-a7b7-4aa433348c79",
   "metadata": {},
   "outputs": [],
   "source": [
    "import findspark\n",
    "findspark.init()\n",
    "import pyspark\n",
    "from pyspark.sql import SparkSession\n",
    "from pyspark.sql.types import *\n",
    "from pyspark.sql.functions import *\n",
    "import os\n",
    "\n",
    "spark = SparkSession.builder.appName('spark-snowflake').config(\"spark.jars\", \"/home/basu/jars/snowflake-jdbc-3.2.5.jar,/home/basu/jars/spark-snowflake_2.13-2.13.0-spark_3.4.jar\") \\\n",
    ".master('local[1]').getOrCreate()"
   ]
  },
  {
   "cell_type": "code",
   "execution_count": 16,
   "id": "d8782b26-a5ce-44a3-8025-fc2be846082d",
   "metadata": {},
   "outputs": [
    {
     "name": "stdout",
     "output_type": "stream",
     "text": [
      "/home/basu/jars/snowflake-jdbc-3.2.5.jar,/home/basu/jars/spark-snowflake_2.13-2.13.0-spark_3.4.jar\n"
     ]
    }
   ],
   "source": [
    "print(spark.conf.get(\"spark.jars\"))"
   ]
  },
  {
   "cell_type": "code",
   "execution_count": 17,
   "id": "3fe4f8c6-117e-43a2-a227-6187d50af8a5",
   "metadata": {},
   "outputs": [
    {
     "ename": "AttributeError",
     "evalue": "'SparkContext' object has no attribute 'addJar'",
     "output_type": "error",
     "traceback": [
      "\u001b[0;31m---------------------------------------------------------------------------\u001b[0m",
      "\u001b[0;31mAttributeError\u001b[0m                            Traceback (most recent call last)",
      "Cell \u001b[0;32mIn[17], line 1\u001b[0m\n\u001b[0;32m----> 1\u001b[0m \u001b[43mspark\u001b[49m\u001b[38;5;241;43m.\u001b[39;49m\u001b[43msparkContext\u001b[49m\u001b[38;5;241;43m.\u001b[39;49m\u001b[43maddJar\u001b[49m(\u001b[38;5;124m\"\u001b[39m\u001b[38;5;124m/home/basu/jars/snowflake-jdbc-3.2.5.jar\u001b[39m\u001b[38;5;124m\"\u001b[39m)\n\u001b[1;32m      2\u001b[0m spark\u001b[38;5;241m.\u001b[39msparkContext\u001b[38;5;241m.\u001b[39maddJar(\u001b[38;5;124m\"\u001b[39m\u001b[38;5;124m/home/basu/jars/spark-snowflake_2.13-2.13.0-spark_3.4.jar\u001b[39m\u001b[38;5;124m\"\u001b[39m)\n\u001b[1;32m      4\u001b[0m \u001b[38;5;66;03m# Define your Snowflake connection properties\u001b[39;00m\n",
      "\u001b[0;31mAttributeError\u001b[0m: 'SparkContext' object has no attribute 'addJar'"
     ]
    }
   ],
   "source": [
    "spark.sparkContext.addJar(\"/home/basu/jars/snowflake-jdbc-3.2.5.jar\")\n",
    "spark.sparkContext.addJar(\"/home/basu/jars/spark-snowflake_2.13-2.13.0-spark_3.4.jar\")\n",
    "\n",
    "# Define your Snowflake connection properties\n",
    "sfOptions = {\n",
    "    \"sfURL\" : \"https://agyuecu-co72452.snowflakecomputing.com\",\\\n",
    "    \"sfDatabase\" : \"personal\",\\\n",
    "    \"sfWarehouse\" : \"COMPUTE_WH\",\\\n",
    "    \"sfSchema\" : \"people\",\\\n",
    "    \"sfRole\" : \"sysadmin\",\\\n",
    "    \"sfUser\" : \"BASUDEVC\",\\\n",
    "    \"sfPassword\" : \"Basu@123\"\\\n",
    "}\n",
    "\n",
    "# Example PySpark DataFrame\n",
    "data = [(\"John\", 28), (\"Alice\", 25), (\"Bob\", 30)]\n",
    "schema = StructType([StructField(\"Name\", StringType(), True), StructField(\"Age\", IntegerType(), True)])\n",
    "df = spark.createDataFrame(data, schema=schema)\n",
    "\n",
    "# Write DataFrame to Snowflake\n",
    "df.write \\\n",
    "    .format(\"net.snowflake.spark.snowflake\") \\\n",
    "    .options(**sfOptions) \\\n",
    "    .option(\"dbtable\", \"people\") \\\n",
    "    .mode(\"append\") \\\n",
    "    .save()\n"
   ]
  }
 ],
 "metadata": {
  "kernelspec": {
   "display_name": "Python 3 (ipykernel)",
   "language": "python",
   "name": "python3"
  },
  "language_info": {
   "codemirror_mode": {
    "name": "ipython",
    "version": 3
   },
   "file_extension": ".py",
   "mimetype": "text/x-python",
   "name": "python",
   "nbconvert_exporter": "python",
   "pygments_lexer": "ipython3",
   "version": "3.10.12"
  }
 },
 "nbformat": 4,
 "nbformat_minor": 5
}
