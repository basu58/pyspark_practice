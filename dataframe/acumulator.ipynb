{
 "cells": [
  {
   "cell_type": "code",
   "execution_count": 3,
   "id": "9bbd81ad-70b5-4d95-af8a-794b0513ad42",
   "metadata": {},
   "outputs": [
    {
     "name": "stdout",
     "output_type": "stream",
     "text": [
      "15\n"
     ]
    }
   ],
   "source": [
    "import findspark\n",
    "findspark.init()\n",
    "from pyspark.sql import SparkSession\n",
    "spark=SparkSession.builder.appName(\"accumulator\").getOrCreate()\n",
    "sc = spark.sparkContext\n",
    "accum=sc.accumulator(0)\n",
    "rdd=sc.parallelize([1,2,3,4,5])\n",
    "rdd.foreach(lambda x:accum.add(x))\n",
    "print(accum.value) #Accessed by driver"
   ]
  },
  {
   "cell_type": "code",
   "execution_count": 22,
   "id": "8e0948b2-9844-4846-8344-50a1da945b30",
   "metadata": {},
   "outputs": [
    {
     "name": "stdout",
     "output_type": "stream",
     "text": [
      "0\n"
     ]
    }
   ],
   "source": [
    "myaccum = sc.accumulator(0)\n",
    "rdd = sc.textFile('/home/basu/data/source.txt')\n",
    "print(myaccum.value)"
   ]
  },
  {
   "cell_type": "code",
   "execution_count": 23,
   "id": "f45463ef-4e3d-40b7-a2a8-29383b3f8093",
   "metadata": {},
   "outputs": [
    {
     "data": {
      "text/plain": [
       "54"
      ]
     },
     "execution_count": 23,
     "metadata": {},
     "output_type": "execute_result"
    }
   ],
   "source": [
    "def check(x):\n",
    "    global myaccum\n",
    "    if 'total' in x:\n",
    "        myaccum +=1\n",
    "rdd.foreach(check)\n",
    "myaccum.value"
   ]
  },
  {
   "cell_type": "code",
   "execution_count": 13,
   "id": "f588e864-1a9a-4932-bac6-469957004887",
   "metadata": {},
   "outputs": [
    {
     "name": "stdout",
     "output_type": "stream",
     "text": [
      "<class 'NoneType'>\n"
     ]
    }
   ],
   "source": [
    "print(type(rdd1))"
   ]
  }
 ],
 "metadata": {
  "kernelspec": {
   "display_name": "Python 3 (ipykernel)",
   "language": "python",
   "name": "python3"
  },
  "language_info": {
   "codemirror_mode": {
    "name": "ipython",
    "version": 3
   },
   "file_extension": ".py",
   "mimetype": "text/x-python",
   "name": "python",
   "nbconvert_exporter": "python",
   "pygments_lexer": "ipython3",
   "version": "3.10.12"
  }
 },
 "nbformat": 4,
 "nbformat_minor": 5
}
