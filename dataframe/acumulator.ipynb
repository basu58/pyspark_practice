{
 "cells": [
  {
   "cell_type": "code",
   "execution_count": 2,
   "id": "9bbd81ad-70b5-4d95-af8a-794b0513ad42",
   "metadata": {},
   "outputs": [
    {
     "name": "stdout",
     "output_type": "stream",
     "text": [
      "15\n"
     ]
    }
   ],
   "source": [
    "import findspark\n",
    "findspark.init()\n",
    "from pyspark.sql import SparkSession\n",
    "spark=SparkSession.builder.appName(\"accumulator\").getOrCreate()\n",
    "sc = spark.sparkContext\n",
    "accum=sc.accumulator(0)\n",
    "rdd=sc.parallelize([1,2,3,4,5])\n",
    "rdd.foreach(lambda x:accum.add(x))\n",
    "print(accum.value) #Accessed by driver"
   ]
  },
  {
   "cell_type": "code",
   "execution_count": 5,
   "id": "8e0948b2-9844-4846-8344-50a1da945b30",
   "metadata": {},
   "outputs": [
    {
     "name": "stdout",
     "output_type": "stream",
     "text": [
      "0\n"
     ]
    }
   ],
   "source": [
    "myaccum = sc.accumulator(0)\n",
    "rdd = sc.textFile('/home/basu/data/source.txt')\n",
    "print(myaccum.value)"
   ]
  },
  {
   "cell_type": "code",
   "execution_count": 8,
   "id": "f45463ef-4e3d-40b7-a2a8-29383b3f8093",
   "metadata": {},
   "outputs": [
    {
     "data": {
      "text/plain": [
       "54"
      ]
     },
     "execution_count": 8,
     "metadata": {},
     "output_type": "execute_result"
    }
   ],
   "source": [
    "def check(x):\n",
    "    global myaccum\n",
    "    if 'total' in x:\n",
    "        myaccum +=1\n",
    "rdd.foreach(check)\n",
    "myaccum.value"
   ]
  },
  {
   "cell_type": "code",
   "execution_count": 13,
   "id": "f588e864-1a9a-4932-bac6-469957004887",
   "metadata": {},
   "outputs": [
    {
     "name": "stdout",
     "output_type": "stream",
     "text": [
      "<class 'NoneType'>\n"
     ]
    }
   ],
   "source": [
    "print(type(rdd1))"
   ]
  },
  {
   "cell_type": "code",
   "execution_count": 25,
   "id": "210ae8a0-f480-4ed4-8c5c-4d9b1b39bb6e",
   "metadata": {
    "collapsed": true,
    "jupyter": {
     "outputs_hidden": true
    }
   },
   "outputs": [
    {
     "name": "stdout",
     "output_type": "stream",
     "text": [
      "Help on method accumulator in module pyspark.context:\n",
      "\n",
      "accumulator(value: ~T, accum_param: Optional[ForwardRef('AccumulatorParam[T]')] = None) -> 'Accumulator[T]' method of pyspark.context.SparkContext instance\n",
      "    Create an :class:`Accumulator` with the given initial value, using a given\n",
      "    :class:`AccumulatorParam` helper object to define how to add values of the\n",
      "    data type if provided. Default AccumulatorParams are used for integers\n",
      "    and floating-point numbers if you do not provide one. For other types,\n",
      "    a custom AccumulatorParam can be used.\n",
      "    \n",
      "    .. versionadded:: 0.7.0\n",
      "    \n",
      "    Parameters\n",
      "    ----------\n",
      "    value : T\n",
      "        initialized value\n",
      "    accum_param : :class:`pyspark.AccumulatorParam`, optional\n",
      "        helper object to define how to add values\n",
      "    \n",
      "    Returns\n",
      "    -------\n",
      "    :class:`Accumulator`\n",
      "        `Accumulator` object, a shared variable that can be accumulated\n",
      "    \n",
      "    Examples\n",
      "    --------\n",
      "    >>> acc = sc.accumulator(9)\n",
      "    >>> acc.value\n",
      "    9\n",
      "    >>> acc += 1\n",
      "    >>> acc.value\n",
      "    10\n",
      "    \n",
      "    Accumulator object can be accumulated in RDD operations:\n",
      "    \n",
      "    >>> rdd = sc.range(5)\n",
      "    >>> def f(x):\n",
      "    ...     global acc\n",
      "    ...     acc += 1\n",
      "    ...\n",
      "    >>> rdd.foreach(f)\n",
      "    >>> acc.value\n",
      "    15\n",
      "\n"
     ]
    }
   ],
   "source": [
    "help(sc.accumulator)"
   ]
  },
  {
   "cell_type": "code",
   "execution_count": null,
   "id": "f5baa69b-4a7d-46d6-b839-20f7e5af1a91",
   "metadata": {},
   "outputs": [],
   "source": []
  }
 ],
 "metadata": {
  "kernelspec": {
   "display_name": "Python 3 (ipykernel)",
   "language": "python",
   "name": "python3"
  },
  "language_info": {
   "codemirror_mode": {
    "name": "ipython",
    "version": 3
   },
   "file_extension": ".py",
   "mimetype": "text/x-python",
   "name": "python",
   "nbconvert_exporter": "python",
   "pygments_lexer": "ipython3",
   "version": "3.10.12"
  }
 },
 "nbformat": 4,
 "nbformat_minor": 5
}
