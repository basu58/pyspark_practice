{
 "cells": [
  {
   "cell_type": "code",
   "execution_count": 20,
   "id": "3ce05c58-e517-47b2-9b82-df59ecfd5e1b",
   "metadata": {
    "editable": true,
    "slideshow": {
     "slide_type": ""
    },
    "tags": []
   },
   "outputs": [],
   "source": [
    "import findspark\n",
    "findspark.init()\n",
    "import pyspark\n",
    "from pyspark.sql import SparkSession\n",
    "from pyspark.sql.functions import *\n",
    "import os\n",
    "\n",
    "spark = SparkSession.builder.master('local[1]').appName('bbi').getOrCreate()"
   ]
  },
  {
   "cell_type": "code",
   "execution_count": 21,
   "id": "d0d69117-2a36-4a8d-9c8a-285b88423f5e",
   "metadata": {},
   "outputs": [],
   "source": [
    "# Sample data for DataFrame df1\n",
    "data1 = [(\"Alice\", 1), (\"Bob\", 2), (\"Charlie\", 3)]\n",
    "columns1 = [\"Name\", \"Value1\"]\n",
    "df1 = spark.createDataFrame(data=data1, schema=columns1)"
   ]
  },
  {
   "cell_type": "code",
   "execution_count": 22,
   "id": "40cb9647-201a-4596-bfb3-21127c635f38",
   "metadata": {},
   "outputs": [],
   "source": [
    "# Sample data for DataFrame df2\n",
    "data2 = [(\"Alice\", \"X\"), (\"Bob\", \"Y\"), (\"David\", \"Z\")]\n",
    "columns2 = [\"UserName\", \"Value2\"]\n",
    "df2 = spark.createDataFrame(data=data2, schema=columns2)"
   ]
  },
  {
   "cell_type": "code",
   "execution_count": 23,
   "id": "9d954c66-6822-409e-ab72-8862f6221855",
   "metadata": {},
   "outputs": [
    {
     "name": "stdout",
     "output_type": "stream",
     "text": [
      "Inner Join:\n",
      "+-----+------+--------+------+\n",
      "| Name|Value1|UserName|Value2|\n",
      "+-----+------+--------+------+\n",
      "|Alice|     1|   Alice|     X|\n",
      "|  Bob|     2|     Bob|     Y|\n",
      "+-----+------+--------+------+\n",
      "\n"
     ]
    }
   ],
   "source": [
    "# Inner Join Example\n",
    "inner_join_df = df1.join(df2, df1[\"Name\"] == df2[\"UserName\"], how=\"inner\")\n",
    "# Display the results\n",
    "print(\"Inner Join:\")\n",
    "inner_join_df.show()"
   ]
  },
  {
   "cell_type": "code",
   "execution_count": 24,
   "id": "6cd84053-862e-4285-b7a9-6a51cc010d4a",
   "metadata": {},
   "outputs": [
    {
     "name": "stdout",
     "output_type": "stream",
     "text": [
      "Cross Join:\n",
      "+-------+------+--------+------+\n",
      "|   Name|Value1|UserName|Value2|\n",
      "+-------+------+--------+------+\n",
      "|  Alice|     1|   Alice|     X|\n",
      "|  Alice|     1|     Bob|     Y|\n",
      "|  Alice|     1|   David|     Z|\n",
      "|    Bob|     2|   Alice|     X|\n",
      "|    Bob|     2|     Bob|     Y|\n",
      "|    Bob|     2|   David|     Z|\n",
      "|Charlie|     3|   Alice|     X|\n",
      "|Charlie|     3|     Bob|     Y|\n",
      "|Charlie|     3|   David|     Z|\n",
      "+-------+------+--------+------+\n",
      "\n"
     ]
    }
   ],
   "source": [
    "# Cross Join Example\n",
    "cross_join_df = df1.crossJoin(df2)\n",
    "print(\"Cross Join:\")\n",
    "cross_join_df.show()"
   ]
  },
  {
   "cell_type": "code",
   "execution_count": 25,
   "id": "faf57c52-251a-436f-aa18-d43d328b3932",
   "metadata": {},
   "outputs": [
    {
     "name": "stdout",
     "output_type": "stream",
     "text": [
      "Outer Join:\n",
      "+-------+------+--------+------+\n",
      "|   Name|Value1|UserName|Value2|\n",
      "+-------+------+--------+------+\n",
      "|  Alice|     1|   Alice|     X|\n",
      "|    Bob|     2|     Bob|     Y|\n",
      "|Charlie|     3|    NULL|  NULL|\n",
      "|   NULL|  NULL|   David|     Z|\n",
      "+-------+------+--------+------+\n",
      "\n"
     ]
    }
   ],
   "source": [
    "# Outer Join Example (Full Outer Join)\n",
    "outer_join_df = df1.join(df2, df1[\"Name\"] == df2[\"UserName\"], how=\"outer\")\n",
    "print(\"Outer Join:\")\n",
    "outer_join_df.show()"
   ]
  },
  {
   "cell_type": "code",
   "execution_count": 26,
   "id": "cbc4337b-85a7-428f-a94c-4cbdeeb3f830",
   "metadata": {},
   "outputs": [
    {
     "name": "stdout",
     "output_type": "stream",
     "text": [
      "Full Outer Join:\n",
      "+-------+------+--------+------+\n",
      "|   Name|Value1|UserName|Value2|\n",
      "+-------+------+--------+------+\n",
      "|  Alice|     1|   Alice|     X|\n",
      "|    Bob|     2|     Bob|     Y|\n",
      "|Charlie|     3|    NULL|  NULL|\n",
      "|   NULL|  NULL|   David|     Z|\n",
      "+-------+------+--------+------+\n",
      "\n"
     ]
    }
   ],
   "source": [
    "# Full Outer Join Example (alternative naming)\n",
    "full_outer_df = df1.join(df2, df1[\"Name\"] == df2[\"UserName\"], how=\"full_outer\")\n",
    "print(\"Full Outer Join:\")\n",
    "full_outer_df.show()"
   ]
  },
  {
   "cell_type": "code",
   "execution_count": 27,
   "id": "8ca713ba-b5db-48af-a605-725a310f8924",
   "metadata": {},
   "outputs": [
    {
     "name": "stdout",
     "output_type": "stream",
     "text": [
      "Left Join:\n",
      "+-------+------+--------+------+\n",
      "|   Name|Value1|UserName|Value2|\n",
      "+-------+------+--------+------+\n",
      "|Charlie|     3|    NULL|  NULL|\n",
      "|    Bob|     2|     Bob|     Y|\n",
      "|  Alice|     1|   Alice|     X|\n",
      "+-------+------+--------+------+\n",
      "\n"
     ]
    }
   ],
   "source": [
    "# Left Join Example\n",
    "left_join_df = df1.join(df2, df1[\"Name\"] == df2[\"UserName\"], how=\"left\")\n",
    "print(\"Left Join:\")\n",
    "left_join_df.show()"
   ]
  },
  {
   "cell_type": "code",
   "execution_count": 28,
   "id": "812bb14e-a856-4a1b-b7e1-eb0c3bba4b01",
   "metadata": {},
   "outputs": [
    {
     "name": "stdout",
     "output_type": "stream",
     "text": [
      "Left Outer Join:\n",
      "+-------+------+--------+------+\n",
      "|   Name|Value1|UserName|Value2|\n",
      "+-------+------+--------+------+\n",
      "|Charlie|     3|    NULL|  NULL|\n",
      "|    Bob|     2|     Bob|     Y|\n",
      "|  Alice|     1|   Alice|     X|\n",
      "+-------+------+--------+------+\n",
      "\n"
     ]
    }
   ],
   "source": [
    "# Left Outer Join Example (alternative naming)\n",
    "left_outer_df = df1.join(df2, df1[\"Name\"] == df2[\"UserName\"], how=\"leftouter\")\n",
    "print(\"Left Outer Join:\")\n",
    "left_outer_df.show()"
   ]
  },
  {
   "cell_type": "code",
   "execution_count": 29,
   "id": "a3897aa3-b8e6-4948-b6e1-7fde0c272859",
   "metadata": {},
   "outputs": [
    {
     "name": "stdout",
     "output_type": "stream",
     "text": [
      "Right Join:\n",
      "+-----+------+--------+------+\n",
      "| Name|Value1|UserName|Value2|\n",
      "+-----+------+--------+------+\n",
      "|  Bob|     2|     Bob|     Y|\n",
      "|Alice|     1|   Alice|     X|\n",
      "| NULL|  NULL|   David|     Z|\n",
      "+-----+------+--------+------+\n",
      "\n"
     ]
    }
   ],
   "source": [
    "# Right Join Example\n",
    "right_join_df = df1.join(df2, df1[\"Name\"] == df2[\"UserName\"], how=\"right\")\n",
    "print(\"Right Join:\")\n",
    "right_join_df.show()"
   ]
  },
  {
   "cell_type": "code",
   "execution_count": 30,
   "id": "7d44588c-bb02-48c8-adae-a39f0db8715e",
   "metadata": {},
   "outputs": [
    {
     "name": "stdout",
     "output_type": "stream",
     "text": [
      "right outer join:\n",
      "+-----+------+--------+------+\n",
      "| Name|Value1|UserName|Value2|\n",
      "+-----+------+--------+------+\n",
      "|  Bob|     2|     Bob|     Y|\n",
      "|Alice|     1|   Alice|     X|\n",
      "| NULL|  NULL|   David|     Z|\n",
      "+-----+------+--------+------+\n",
      "\n"
     ]
    }
   ],
   "source": [
    "# Right Outer Join Example (alternative naming)\n",
    "right_outer_df = df1.join(df2, df1[\"Name\"] == df2[\"UserName\"], how=\"rightouter\")\n",
    "print(\"right outer join:\")\n",
    "right_outer_df.show()"
   ]
  },
  {
   "cell_type": "code",
   "execution_count": 31,
   "id": "ff69db0a-8fb1-4bb0-a2ce-3f12919cd5c1",
   "metadata": {},
   "outputs": [
    {
     "name": "stdout",
     "output_type": "stream",
     "text": [
      "Semi Join:\n",
      "+-----+------+\n",
      "| Name|Value1|\n",
      "+-----+------+\n",
      "|Alice|     1|\n",
      "|  Bob|     2|\n",
      "+-----+------+\n",
      "\n"
     ]
    }
   ],
   "source": [
    "# Semi Join Example\n",
    "semi_join_df = df1.join(df2, df1[\"Name\"] == df2[\"UserName\"], how=\"semi\")\n",
    "print(\"Semi Join:\")\n",
    "semi_join_df.show()"
   ]
  },
  {
   "cell_type": "code",
   "execution_count": 32,
   "id": "d2e20a83-2c6d-4736-b5be-2ce2a83758e5",
   "metadata": {},
   "outputs": [
    {
     "name": "stdout",
     "output_type": "stream",
     "text": [
      "Left Semi Join\n",
      "+-----+------+\n",
      "| Name|Value1|\n",
      "+-----+------+\n",
      "|Alice|     1|\n",
      "|  Bob|     2|\n",
      "+-----+------+\n",
      "\n"
     ]
    }
   ],
   "source": [
    "# Left Semi Join Example (alternative naming)\n",
    "leftsemi_join_df = df1.join(df2, df1[\"Name\"] == df2[\"UserName\"], how=\"leftsemi\")\n",
    "print(\"Left Semi Join\")\n",
    "leftsemi_join_df.show()"
   ]
  },
  {
   "cell_type": "code",
   "execution_count": 33,
   "id": "76d3ffe1-ad8b-4f4e-96a6-a22718cc21b4",
   "metadata": {},
   "outputs": [
    {
     "name": "stdout",
     "output_type": "stream",
     "text": [
      "Anti Join:\n",
      "+-------+------+\n",
      "|   Name|Value1|\n",
      "+-------+------+\n",
      "|Charlie|     3|\n",
      "+-------+------+\n",
      "\n"
     ]
    }
   ],
   "source": [
    "# Anti Join Example\n",
    "anti_join_df = df1.join(df2, df1[\"Name\"] == df2[\"UserName\"], how=\"anti\")\n",
    "print('Anti Join:')\n",
    "anti_join_df.show()"
   ]
  },
  {
   "cell_type": "code",
   "execution_count": 34,
   "id": "cc52d5fe-675a-4190-840e-dce001465210",
   "metadata": {},
   "outputs": [
    {
     "name": "stdout",
     "output_type": "stream",
     "text": [
      "Left Anti Join:\n",
      "+-------+------+\n",
      "|   Name|Value1|\n",
      "+-------+------+\n",
      "|Charlie|     3|\n",
      "+-------+------+\n",
      "\n"
     ]
    }
   ],
   "source": [
    "# Left Anti Join Example (alternative naming)\n",
    "leftanti_join_df = df1.join(df2, df1[\"Name\"] == df2[\"UserName\"], how=\"leftanti\")\n",
    "print(\"Left Anti Join:\")\n",
    "leftanti_join_df.show()"
   ]
  },
  {
   "cell_type": "markdown",
   "id": "8cd5e7a4-acab-47d5-a566-c25645ba8ccf",
   "metadata": {},
   "source": [
    "Certainly! Here are business use cases for each type of join in the context of PySpark DataFrames:\n",
    "\n",
    "1. **Inner Join:**\n",
    "   - **Use Case:** Combine data from two tables to retrieve only the rows that have matching values in the specified columns.\n",
    "   - **Example:** Merging customer information with their purchase history to identify customers who made purchases.\n",
    "\n",
    "2. **Cross Join:**\n",
    "   - **Use Case:** Generate all possible combinations of rows from two tables.\n",
    "   - **Example:** Creating a matrix of all possible product combinations to analyze cross-product performance.\n",
    "\n",
    "3. **Outer Join (Full Outer Join):**\n",
    "   - **Use Case:** Retrieve all rows from both tables, filling in missing values with nulls where no match is found.\n",
    "   - **Example:** Analyzing employee data and training data, capturing information about employees who have not undergone training.\n",
    "\n",
    "4. **Left Join:**\n",
    "   - **Use Case:** Retrieve all rows from the left table and the matching rows from the right table.\n",
    "   - **Example:** Combining a list of customers with their corresponding orders, even if some customers have not placed orders.\n",
    "\n",
    "5. **Right Join:**\n",
    "   - **Use Case:** Retrieve all rows from the right table and the matching rows from the left table.\n",
    "   - **Example:** Analyzing product sales data and including products that have not been sold.\n",
    "\n",
    "6. **Semi Join:**\n",
    "   - **Use Case:** Filter the rows from the left table based on the existence of matching rows in the right table.\n",
    "   - **Example:** Identifying customers who have made at least one purchase by filtering customer data with the list of purchasers.\n",
    "\n",
    "7. **Left Semi Join:**\n",
    "   - **Use Case:** Retain only the rows from the left table where there is a match in the right table.\n",
    "   - **Example:** Filtering a list of active customers using a list of customers who made recent purchases.\n",
    "\n",
    "8. **Anti Join:**\n",
    "   - **Use Case:** Filter the rows from the left table based on the absence of matching rows in the right table.\n",
    "   - **Example:** Identifying customers who have not made any purchases by using an anti-join with the list of purchasers.\n",
    "\n",
    "9. **Left Anti Join:**\n",
    "   - **Use Case:** Retain only the rows from the left table where there is no match in the right table.\n",
    "   - **Example:** Identifying inactive customers by using a left anti-join with the list of customers who made recent purchases."
   ]
  }
 ],
 "metadata": {
  "kernelspec": {
   "display_name": "Python 3 (ipykernel)",
   "language": "python",
   "name": "python3"
  },
  "language_info": {
   "codemirror_mode": {
    "name": "ipython",
    "version": 3
   },
   "file_extension": ".py",
   "mimetype": "text/x-python",
   "name": "python",
   "nbconvert_exporter": "python",
   "pygments_lexer": "ipython3",
   "version": "3.10.12"
  }
 },
 "nbformat": 4,
 "nbformat_minor": 5
}
