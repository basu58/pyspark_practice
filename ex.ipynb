{
 "cells": [
  {
   "cell_type": "code",
   "execution_count": 1,
   "id": "b6081715-f8cf-432e-a732-c13e83af24d9",
   "metadata": {},
   "outputs": [
    {
     "name": "stderr",
     "output_type": "stream",
     "text": [
      "24/01/10 22:23:51 WARN Utils: Your hostname, Tech-Buddy resolves to a loopback address: 127.0.1.1; using 172.17.35.137 instead (on interface eth0)\n",
      "24/01/10 22:23:51 WARN Utils: Set SPARK_LOCAL_IP if you need to bind to another address\n",
      "Setting default log level to \"WARN\".\n",
      "To adjust logging level use sc.setLogLevel(newLevel). For SparkR, use setLogLevel(newLevel).\n",
      "24/01/10 22:23:52 WARN NativeCodeLoader: Unable to load native-hadoop library for your platform... using builtin-java classes where applicable\n"
     ]
    }
   ],
   "source": [
    "import findspark\n",
    "findspark.init()\n",
    "import pyspark\n",
    "from pyspark.sql import SparkSession\n",
    "from pyspark.sql.functions import *\n",
    "\n",
    "# Create SparkSession \n",
    "spark = SparkSession.builder \\\n",
    "      .master(\"local[1]\") \\\n",
    "      .appName(\"Sample\") \\\n",
    "      .getOrCreate()"
   ]
  },
  {
   "cell_type": "code",
   "execution_count": 2,
   "id": "622f74c7-b1b6-40f1-8b71-64e43249f723",
   "metadata": {},
   "outputs": [],
   "source": [
    "\n",
    "# Create RDD from parallelize    \n",
    "dataList = [(\"Java\", 20000), (\"Python\", 100000), (\"Scala\", 3000)]\n",
    "rdd=spark.sparkContext.parallelize(dataList)"
   ]
  },
  {
   "cell_type": "code",
   "execution_count": 3,
   "id": "e1f92a03-52e1-4fdc-b73b-4cc9c12a2a79",
   "metadata": {},
   "outputs": [
    {
     "data": {
      "text/plain": [
       "[('Java', 20000), ('Python', 100000), ('Scala', 3000)]"
      ]
     },
     "execution_count": 3,
     "metadata": {},
     "output_type": "execute_result"
    }
   ],
   "source": [
    "rdd.collect()"
   ]
  },
  {
   "cell_type": "code",
   "execution_count": 9,
   "id": "e415eb36-ea79-4361-b82f-37d878f67851",
   "metadata": {},
   "outputs": [],
   "source": [
    "\n",
    "data = [('James','','Smith','1991-04-01','M',3000),\n",
    "  ('Michael','Rose','','2000-05-19','M',4000),\n",
    "  ('Robert','','Williams','1978-09-05','M',4000),\n",
    "  ('Maria','Anne','Jones','1967-12-01','F',4000),\n",
    "  ('Jen','Mary','Brown','1980-02-17','F',-1)\n",
    "]\n",
    "\n",
    "columns = [\"firstname\",\"middlename\",\"lastname\",\"dob\",\"gender\",\"salary\"]\n",
    "df = spark.createDataFrame(data=data, schema = columns)\n"
   ]
  },
  {
   "cell_type": "code",
   "execution_count": 5,
   "id": "ea953a62-c914-4970-8bbd-2477499d4c3a",
   "metadata": {},
   "outputs": [
    {
     "name": "stdout",
     "output_type": "stream",
     "text": [
      "+---------+----------+--------+----------+------+------+\n",
      "|firstname|middlename|lastname|       dob|gender|salary|\n",
      "+---------+----------+--------+----------+------+------+\n",
      "|    James|          |   Smith|1991-04-01|     M|  3000|\n",
      "|  Michael|      Rose|        |2000-05-19|     M|  4000|\n",
      "|   Robert|          |Williams|1978-09-05|     M|  4000|\n",
      "|    Maria|      Anne|   Jones|1967-12-01|     F|  4000|\n",
      "|      Jen|      Mary|   Brown|1980-02-17|     F|    -1|\n",
      "+---------+----------+--------+----------+------+------+\n",
      "\n"
     ]
    }
   ],
   "source": [
    "df.show()"
   ]
  },
  {
   "cell_type": "code",
   "execution_count": 10,
   "id": "2eebb2c9-97da-42b5-a944-45df75921c55",
   "metadata": {
    "tags": []
   },
   "outputs": [
    {
     "name": "stdout",
     "output_type": "stream",
     "text": [
      "+---+-------+\n",
      "| id|   name|\n",
      "+---+-------+\n",
      "|  1|Basudev|\n",
      "|  2|    XYZ|\n",
      "|  3|    PQR|\n",
      "+---+-------+\n",
      "\n",
      "root\n",
      " |-- id: long (nullable = true)\n",
      " |-- name: string (nullable = true)\n",
      "\n"
     ]
    }
   ],
   "source": [
    "data = [(1, 'Basudev'), (2, 'XYZ'), (3, 'PQR')]\n",
    "df = spark.createDataFrame(data = data, schema = ['id', 'name'])\n",
    "df.show()\n",
    "df.printSchema()"
   ]
  },
  {
   "cell_type": "code",
   "execution_count": 11,
   "id": "9041c87f-4905-4196-a9e5-6a27ac65fa1e",
   "metadata": {
    "tags": []
   },
   "outputs": [
    {
     "name": "stderr",
     "output_type": "stream",
     "text": [
      "24/01/09 11:00:07 WARN SparkSession: Using an existing Spark session; only runtime SQL configurations will take effect.\n"
     ]
    },
    {
     "data": {
      "text/plain": [
       "[1, 2, 3, 4, 5]"
      ]
     },
     "execution_count": 11,
     "metadata": {},
     "output_type": "execute_result"
    }
   ],
   "source": [
    "import findspark\n",
    "findspark.init()\n",
    "import pyspark\n",
    "from pyspark.sql import SparkSession\n",
    "\n",
    "spark = SparkSession.builder.master('local[1]').appName('Sample1').getOrCreate()\n",
    "li = [1, 2, 3, 4, 5]\n",
    "rdd = spark.sparkContext.parallelize(li)\n",
    "rdd.collect()"
   ]
  },
  {
   "cell_type": "code",
   "execution_count": 12,
   "id": "abe40b26-eff4-4552-a1c3-a0089b722fad",
   "metadata": {},
   "outputs": [
    {
     "name": "stderr",
     "output_type": "stream",
     "text": [
      "24/01/09 11:00:13 WARN SparkSession: Using an existing Spark session; only runtime SQL configurations will take effect.\n"
     ]
    },
    {
     "data": {
      "text/plain": [
       "[1, 2, 3, 4, 5, 6]"
      ]
     },
     "execution_count": 12,
     "metadata": {},
     "output_type": "execute_result"
    }
   ],
   "source": [
    "import findspark\n",
    "findspark.init()\n",
    "import pyspark\n",
    "from pyspark.sql import SparkSession\n",
    "\n",
    "spark = SparkSession.builder.master('local[1]').appName('Sample12').getOrCreate()\n",
    "li = [1, 2, 3, 4, 5, 6]\n",
    "rdd = spark.sparkContext.parallelize(li)\n",
    "rdd.collect()"
   ]
  },
  {
   "cell_type": "code",
   "execution_count": 55,
   "id": "84d080e1-e776-4739-96cb-6871cd4a04bd",
   "metadata": {
    "tags": []
   },
   "outputs": [
    {
     "data": {
      "text/plain": [
       "['a', 'b', 'c', 'd']"
      ]
     },
     "execution_count": 55,
     "metadata": {},
     "output_type": "execute_result"
    }
   ],
   "source": [
    "import findspark\n",
    "findspark.init()\n",
    "import pyspark\n",
    "from pyspark.sql import SparkSession\n",
    "\n",
    "spark = SparkSession.builder.master('local[1]').getOrCreate()\n",
    "li = ['a', 'b', 'c', 'd']\n",
    "rdd = spark.sparkContext.parallelize(li)\n",
    "rdd.collect()"
   ]
  },
  {
   "cell_type": "code",
   "execution_count": 28,
   "id": "a9c93979-9503-4ebf-a34c-59dfcd5c069d",
   "metadata": {
    "collapsed": true,
    "jupyter": {
     "outputs_hidden": true
    },
    "scrolled": true,
    "tags": []
   },
   "outputs": [
    {
     "data": {
      "text/plain": [
       "['Quod equidem non reprehendo;',\n",
       " 'Lorem ipsum dolor sit amet, consectetur adipiscing elit. Quibus natura iure responderit non esse verum aliunde finem beate vivendi, a se principia rei gerendae peti; Quae enim adhuc protulisti, popularia sunt, ego autem a te elegantiora desidero. Duo Reges: constructio interrete. Tum Lucius: Mihi vero ista valde probata sunt, quod item fratri puto. Bestiarum vero nullum iudicium puto. Nihil enim iam habes, quod ad corpus referas; Deinde prima illa, quae in congressu solemus: Quid tu, inquit, huc? Et homini, qui ceteris animantibus plurimum praestat, praecipue a natura nihil datum esse dicemus?',\n",
       " '',\n",
       " 'Iam id ipsum absurdum, maximum malum neglegi. Quod ea non occurrentia fingunt, vincunt Aristonem; Atqui perspicuum est hominem e corpore animoque constare, cum primae sint animi partes, secundae corporis. Fieri, inquam, Triari, nullo pacto potest, ut non dicas, quid non probes eius, a quo dissentias. Equidem e Cn. An dubium est, quin virtus ita maximam partem optineat in rebus humanis, ut reliquas obruat?',\n",
       " '',\n",
       " 'Quis istum dolorem timet?',\n",
       " 'Summus dolor plures dies manere non potest? Dicet pro me ipsa virtus nec dubitabit isti vestro beato M. Tubulum fuisse, qua illum, cuius is condemnatus est rogatione, P. Quod si ita sit, cur opera philosophiae sit danda nescio.',\n",
       " '',\n",
       " 'Ex eorum enim scriptis et institutis cum omnis doctrina liberalis, omnis historia.',\n",
       " 'Quod si ita est, sequitur id ipsum, quod te velle video, omnes semper beatos esse sapientes. Cum enim fertur quasi torrens oratio, quamvis multa cuiusque modi rapiat, nihil tamen teneas, nihil apprehendas, nusquam orationem rapidam coerceas. Ita redarguitur ipse a sese, convincunturque scripta eius probitate ipsius ac moribus. At quanta conantur! Mundum hunc omnem oppidum esse nostrum! Incendi igitur eos, qui audiunt, vides. Vide, ne magis, inquam, tuum fuerit, cum re idem tibi, quod mihi, videretur, non nova te rebus nomina inponere. Qui-vere falsone, quaerere mittimus-dicitur oculis se privasse; Si ista mala sunt, in quae potest incidere sapiens, sapientem esse non esse ad beate vivendum satis. At vero si ad vitem sensus accesserit, ut appetitum quendam habeat et per se ipsa moveatur, quid facturam putas?',\n",
       " '',\n",
       " 'Quem si tenueris, non modo meum Ciceronem, sed etiam me ipsum abducas licebit.',\n",
       " 'Stulti autem malorum memoria torquentur, sapientes bona praeterita grata recordatione renovata delectant.',\n",
       " 'Esse enim quam vellet iniquus iustus poterat inpune.',\n",
       " 'Quae autem natura suae primae institutionis oblita est?',\n",
       " 'Verum tamen cum de rebus grandioribus dicas, ipsae res verba rapiunt;',\n",
       " 'Hoc est non modo cor non habere, sed ne palatum quidem.',\n",
       " 'Voluptatem cum summum bonum diceret, primum in eo ipso parum vidit, deinde hoc quoque alienum; Sed tu istuc dixti bene Latine, parum plane. Nam haec ipsa mihi erunt in promptu, quae modo audivi, nec ante aggrediar, quam te ab istis, quos dicis, instructum videro. Fatebuntur Stoici haec omnia dicta esse praeclare, neque eam causam Zenoni desciscendi fuisse. Non autem hoc: igitur ne illud quidem. Ratio quidem vestra sic cogit. Cum audissem Antiochum, Brute, ut solebam, cum M. An quod ita callida est, ut optime possit architectari voluptates?',\n",
       " '',\n",
       " 'Idemne, quod iucunde?',\n",
       " 'Haec mihi videtur delicatior, ut ita dicam, molliorque ratio, quam virtutis vis gravitasque postulat. Sed quoniam et advesperascit et mihi ad villam revertendum est, nunc quidem hactenus; Cuius ad naturam apta ratio vera illa et summa lex a philosophis dicitur. Neque solum ea communia, verum etiam paria esse dixerunt. Sed nunc, quod agimus; A mene tu?']"
      ]
     },
     "execution_count": 28,
     "metadata": {},
     "output_type": "execute_result"
    }
   ],
   "source": [
    "rdd1 = spark.sparkContext.textFile(\"sample.txt\")\n",
    "rdd1.collect()"
   ]
  },
  {
   "cell_type": "code",
   "execution_count": 29,
   "id": "bd196895-bc0c-4630-b5ca-55a9b1aaf6fa",
   "metadata": {
    "collapsed": true,
    "jupyter": {
     "outputs_hidden": true
    },
    "tags": []
   },
   "outputs": [
    {
     "data": {
      "text/plain": [
       "[('file:/home/basu/sample.txt',\n",
       "  'Quod equidem non reprehendo;\\nLorem ipsum dolor sit amet, consectetur adipiscing elit. Quibus natura iure responderit non esse verum aliunde finem beate vivendi, a se principia rei gerendae peti; Quae enim adhuc protulisti, popularia sunt, ego autem a te elegantiora desidero. Duo Reges: constructio interrete. Tum Lucius: Mihi vero ista valde probata sunt, quod item fratri puto. Bestiarum vero nullum iudicium puto. Nihil enim iam habes, quod ad corpus referas; Deinde prima illa, quae in congressu solemus: Quid tu, inquit, huc? Et homini, qui ceteris animantibus plurimum praestat, praecipue a natura nihil datum esse dicemus?\\n\\nIam id ipsum absurdum, maximum malum neglegi. Quod ea non occurrentia fingunt, vincunt Aristonem; Atqui perspicuum est hominem e corpore animoque constare, cum primae sint animi partes, secundae corporis. Fieri, inquam, Triari, nullo pacto potest, ut non dicas, quid non probes eius, a quo dissentias. Equidem e Cn. An dubium est, quin virtus ita maximam partem optineat in rebus humanis, ut reliquas obruat?\\n\\nQuis istum dolorem timet?\\nSummus dolor plures dies manere non potest? Dicet pro me ipsa virtus nec dubitabit isti vestro beato M. Tubulum fuisse, qua illum, cuius is condemnatus est rogatione, P. Quod si ita sit, cur opera philosophiae sit danda nescio.\\n\\nEx eorum enim scriptis et institutis cum omnis doctrina liberalis, omnis historia.\\nQuod si ita est, sequitur id ipsum, quod te velle video, omnes semper beatos esse sapientes. Cum enim fertur quasi torrens oratio, quamvis multa cuiusque modi rapiat, nihil tamen teneas, nihil apprehendas, nusquam orationem rapidam coerceas. Ita redarguitur ipse a sese, convincunturque scripta eius probitate ipsius ac moribus. At quanta conantur! Mundum hunc omnem oppidum esse nostrum! Incendi igitur eos, qui audiunt, vides. Vide, ne magis, inquam, tuum fuerit, cum re idem tibi, quod mihi, videretur, non nova te rebus nomina inponere. Qui-vere falsone, quaerere mittimus-dicitur oculis se privasse; Si ista mala sunt, in quae potest incidere sapiens, sapientem esse non esse ad beate vivendum satis. At vero si ad vitem sensus accesserit, ut appetitum quendam habeat et per se ipsa moveatur, quid facturam putas?\\n\\nQuem si tenueris, non modo meum Ciceronem, sed etiam me ipsum abducas licebit.\\nStulti autem malorum memoria torquentur, sapientes bona praeterita grata recordatione renovata delectant.\\nEsse enim quam vellet iniquus iustus poterat inpune.\\nQuae autem natura suae primae institutionis oblita est?\\nVerum tamen cum de rebus grandioribus dicas, ipsae res verba rapiunt;\\nHoc est non modo cor non habere, sed ne palatum quidem.\\nVoluptatem cum summum bonum diceret, primum in eo ipso parum vidit, deinde hoc quoque alienum; Sed tu istuc dixti bene Latine, parum plane. Nam haec ipsa mihi erunt in promptu, quae modo audivi, nec ante aggrediar, quam te ab istis, quos dicis, instructum videro. Fatebuntur Stoici haec omnia dicta esse praeclare, neque eam causam Zenoni desciscendi fuisse. Non autem hoc: igitur ne illud quidem. Ratio quidem vestra sic cogit. Cum audissem Antiochum, Brute, ut solebam, cum M. An quod ita callida est, ut optime possit architectari voluptates?\\n\\nIdemne, quod iucunde?\\nHaec mihi videtur delicatior, ut ita dicam, molliorque ratio, quam virtutis vis gravitasque postulat. Sed quoniam et advesperascit et mihi ad villam revertendum est, nunc quidem hactenus; Cuius ad naturam apta ratio vera illa et summa lex a philosophis dicitur. Neque solum ea communia, verum etiam paria esse dixerunt. Sed nunc, quod agimus; A mene tu?')]"
      ]
     },
     "execution_count": 29,
     "metadata": {},
     "output_type": "execute_result"
    }
   ],
   "source": [
    "rdd2 = spark.sparkContext.wholeTextFiles(\"sample.txt\")\n",
    "rdd2.collect()"
   ]
  },
  {
   "cell_type": "code",
   "execution_count": 30,
   "id": "b161d2f1-f45b-4cee-81b8-cec836eb383e",
   "metadata": {
    "collapsed": true,
    "jupyter": {
     "outputs_hidden": true
    },
    "tags": []
   },
   "outputs": [
    {
     "data": {
      "text/plain": [
       "['Year,Industry_aggregation_NZSIOC,Industry_code_NZSIOC,Industry_name_NZSIOC,Units,Variable_code,Variable_name,Variable_category,Value,Industry_code_ANZSIC06',\n",
       " '2021,Level 1,99999,All industries,Dollars (millions),H01,Total income,Financial performance,\"757,504\",\"ANZSIC06 divisions A-S (excluding classes K6330, L6711, O7552, O760, O771, O772, S9540, S9601, S9602, and S9603)\"',\n",
       " '2021,Level 1,99999,All industries,Dollars (millions),H04,\"Sales, government funding, grants and subsidies\",Financial performance,\"674,890\",\"ANZSIC06 divisions A-S (excluding classes K6330, L6711, O7552, O760, O771, O772, S9540, S9601, S9602, and S9603)\"',\n",
       " '2021,Level 1,99999,All industries,Dollars (millions),H05,\"Interest, dividends and donations\",Financial performance,\"49,593\",\"ANZSIC06 divisions A-S (excluding classes K6330, L6711, O7552, O760, O771, O772, S9540, S9601, S9602, and S9603)\"',\n",
       " '2021,Level 1,99999,All industries,Dollars (millions),H07,Non-operating income,Financial performance,\"33,020\",\"ANZSIC06 divisions A-S (excluding classes K6330, L6711, O7552, O760, O771, O772, S9540, S9601, S9602, and S9603)\"',\n",
       " '2021,Level 1,99999,All industries,Dollars (millions),H08,Total expenditure,Financial performance,\"654,404\",\"ANZSIC06 divisions A-S (excluding classes K6330, L6711, O7552, O760, O771, O772, S9540, S9601, S9602, and S9603)\"',\n",
       " '2021,Level 1,99999,All industries,Dollars (millions),H09,Interest and donations,Financial performance,\"26,138\",\"ANZSIC06 divisions A-S (excluding classes K6330, L6711, O7552, O760, O771, O772, S9540, S9601, S9602, and S9603)\"',\n",
       " '2021,Level 1,99999,All industries,Dollars (millions),H10,Indirect taxes,Financial performance,\"6,991\",\"ANZSIC06 divisions A-S (excluding classes K6330, L6711, O7552, O760, O771, O772, S9540, S9601, S9602, and S9603)\"',\n",
       " '2021,Level 1,99999,All industries,Dollars (millions),H11,Depreciation,Financial performance,\"27,801\",\"ANZSIC06 divisions A-S (excluding classes K6330, L6711, O7552, O760, O771, O772, S9540, S9601, S9602, and S9603)\"',\n",
       " '2021,Level 1,99999,All industries,Dollars (millions),H12,Salaries and wages paid,Financial performance,\"123,620\",\"ANZSIC06 divisions A-S (excluding classes K6330, L6711, O7552, O760, O771, O772, S9540, S9601, S9602, and S9603)\"',\n",
       " '2021,Level 1,99999,All industries,Dollars (millions),H13,Redundancy and severance,Financial performance,275,\"ANZSIC06 divisions A-S (excluding classes K6330, L6711, O7552, O760, O771, O772, S9540, S9601, S9602, and S9603)\"',\n",
       " '2021,Level 1,99999,All industries,Dollars (millions),H14,Salaries and wages to self employed commission agents,Financial performance,\"2,085\",\"ANZSIC06 divisions A-S (excluding classes K6330, L6711, O7552, O760, O771, O772, S9540, S9601, S9602, and S9603)\"',\n",
       " '2021,Level 1,99999,All industries,Dollars (millions),H19,Purchases and other operating expenses,Financial performance,\"452,963\",\"ANZSIC06 divisions A-S (excluding classes K6330, L6711, O7552, O760, O771, O772, S9540, S9601, S9602, and S9603)\"',\n",
       " '2021,Level 1,99999,All industries,Dollars (millions),H20,Non-operating expenses,Financial performance,\"14,806\",\"ANZSIC06 divisions A-S (excluding classes K6330, L6711, O7552, O760, O771, O772, S9540, S9601, S9602, and S9603)\"',\n",
       " '2021,Level 1,99999,All industries,Dollars (millions),H21,Opening stocks,Financial performance,\"68,896\",\"ANZSIC06 divisions A-S (excluding classes K6330, L6711, O7552, O760, O771, O772, S9540, S9601, S9602, and S9603)\"',\n",
       " '2021,Level 1,99999,All industries,Dollars (millions),H22,Closing stocks,Financial performance,\"69,127\",\"ANZSIC06 divisions A-S (excluding classes K6330, L6711, O7552, O760, O771, O772, S9540, S9601, S9602, and S9603)\"',\n",
       " '2021,Level 1,99999,All industries,Dollars (millions),H23,Surplus before income tax,Financial performance,\"103,330\",\"ANZSIC06 divisions A-S (excluding classes K6330, L6711, O7552, O760, O771, O772, S9540, S9601, S9602, and S9603)\"',\n",
       " '2021,Level 1,99999,All industries,Dollars (millions),H24,Total assets,Financial position,\"2,512,677\",\"ANZSIC06 divisions A-S (excluding classes K6330, L6711, O7552, O760, O771, O772, S9540, S9601, S9602, and S9603)\"',\n",
       " '2021,Level 1,99999,All industries,Dollars (millions),H25,Current assets,Financial position,\"730,587\",\"ANZSIC06 divisions A-S (excluding classes K6330, L6711, O7552, O760, O771, O772, S9540, S9601, S9602, and S9603)\"',\n",
       " '2021,Level 1,99999,All industries,Dollars (millions),H26,Fixed tangible assets,Financial position,\"591,351\",\"ANZSIC06 divisions A-S (excluding classes K6330, L6711, O7552, O760, O771, O772, S9540, S9601, S9602, and S9603)\"',\n",
       " '2021,Level 1,99999,All industries,Dollars (millions),H29,Other assets,Financial position,\"1,190,739\",\"ANZSIC06 divisions A-S (excluding classes K6330, L6711, O7552, O760, O771, O772, S9540, S9601, S9602, and S9603)\"',\n",
       " '2021,Level 1,99999,All industries,Dollars (millions),H30,Total equity and liabilities,Financial position,\"2,512,677\",\"ANZSIC06 divisions A-S (excluding classes K6330, L6711, O7552, O760, O771, O772, S9540, S9601, S9602, and S9603)\"',\n",
       " '2021,Level 1,99999,All industries,Dollars (millions),H31,Shareholders funds or owners equity,Financial position,\"813,949\",\"ANZSIC06 divisions A-S (excluding classes K6330, L6711, O7552, O760, O771, O772, S9540, S9601, S9602, and S9603)\"',\n",
       " '2021,Level 1,99999,All industries,Dollars (millions),H32,Current liabilities,Financial position,\"933,093\",\"ANZSIC06 divisions A-S (excluding classes K6330, L6711, O7552, O760, O771, O772, S9540, S9601, S9602, and S9603)\"',\n",
       " '2021,Level 1,99999,All industries,Dollars (millions),H33,Other liabilities,Financial position,\"765,635\",\"ANZSIC06 divisions A-S (excluding classes K6330, L6711, O7552, O760, O771, O772, S9540, S9601, S9602, and S9603)\"',\n",
       " '2021,Level 1,99999,All industries,Dollars,H34,Total income per employee count,Financial ratios,\"400,900\",\"ANZSIC06 divisions A-S (excluding classes K6330, L6711, O7552, O760, O771, O772, S9540, S9601, S9602, and S9603)\"',\n",
       " '2021,Level 1,99999,All industries,Dollars,H35,Surplus per employee count,Financial ratios,\"54,700\",\"ANZSIC06 divisions A-S (excluding classes K6330, L6711, O7552, O760, O771, O772, S9540, S9601, S9602, and S9603)\"',\n",
       " '2021,Level 1,99999,All industries,Percentage,H36,Current ratio,Financial ratios,78,\"ANZSIC06 divisions A-S (excluding classes K6330, L6711, O7552, O760, O771, O772, S9540, S9601, S9602, and S9603)\"',\n",
       " '2021,Level 1,99999,All industries,Percentage,H37,Quick ratio,Financial ratios,71,\"ANZSIC06 divisions A-S (excluding classes K6330, L6711, O7552, O760, O771, O772, S9540, S9601, S9602, and S9603)\"',\n",
       " '2021,Level 1,99999,All industries,Percentage,H39,Return on equity,Financial ratios,13,\"ANZSIC06 divisions A-S (excluding classes K6330, L6711, O7552, O760, O771, O772, S9540, S9601, S9602, and S9603)\"',\n",
       " '2021,Level 1,99999,All industries,Percentage,H40,Return on total assets,Financial ratios,4,\"ANZSIC06 divisions A-S (excluding classes K6330, L6711, O7552, O760, O771, O772, S9540, S9601, S9602, and S9603)\"',\n",
       " '2021,Level 1,99999,All industries,Percentage,H41,Liabilities structure,Financial ratios,32,\"ANZSIC06 divisions A-S (excluding classes K6330, L6711, O7552, O760, O771, O772, S9540, S9601, S9602, and S9603)\"',\n",
       " '2021,Level 1,AA,\"Agriculture, Forestry and Fishing\",Dollars (millions),H01,Total income,Financial performance,\"48,731\",ANZSIC06 division A',\n",
       " '2021,Level 1,AA,\"Agriculture, Forestry and Fishing\",Dollars (millions),H04,Sales of goods and services,Financial performance,\"45,650\",ANZSIC06 division A',\n",
       " '2021,Level 1,AA,\"Agriculture, Forestry and Fishing\",Dollars (millions),H05,\"Interest, dividends and donations\",Financial performance,640,ANZSIC06 division A',\n",
       " '2021,Level 1,AA,\"Agriculture, Forestry and Fishing\",Dollars (millions),H06,\"Government funding, grants and subsidies\",Financial performance,279,ANZSIC06 division A',\n",
       " '2021,Level 1,AA,\"Agriculture, Forestry and Fishing\",Dollars (millions),H07,Non-operating income,Financial performance,\"2,163\",ANZSIC06 division A',\n",
       " '2021,Level 1,AA,\"Agriculture, Forestry and Fishing\",Dollars (millions),H08,Total expenditure,Financial performance,\"40,696\",ANZSIC06 division A',\n",
       " '2021,Level 1,AA,\"Agriculture, Forestry and Fishing\",Dollars (millions),H09,Interest and donations,Financial performance,\"2,409\",ANZSIC06 division A',\n",
       " '2021,Level 1,AA,\"Agriculture, Forestry and Fishing\",Dollars (millions),H10,Indirect taxes,Financial performance,489,ANZSIC06 division A',\n",
       " '2021,Level 1,AA,\"Agriculture, Forestry and Fishing\",Dollars (millions),H11,Depreciation,Financial performance,\"2,318\",ANZSIC06 division A',\n",
       " '2021,Level 1,AA,\"Agriculture, Forestry and Fishing\",Dollars (millions),H12,Salaries and wages paid,Financial performance,\"6,202\",ANZSIC06 division A',\n",
       " '2021,Level 1,AA,\"Agriculture, Forestry and Fishing\",Dollars (millions),H13,Redundancy and severance,Financial performance,1,ANZSIC06 division A',\n",
       " '2021,Level 1,AA,\"Agriculture, Forestry and Fishing\",Dollars (millions),H19,Purchases and other operating expenses,Financial performance,\"29,002\",ANZSIC06 division A',\n",
       " '2021,Level 1,AA,\"Agriculture, Forestry and Fishing\",Dollars (millions),H20,Non-operating expenses,Financial performance,275,ANZSIC06 division A',\n",
       " '2021,Level 1,AA,\"Agriculture, Forestry and Fishing\",Dollars (millions),H21,Opening stocks,Financial performance,\"14,215\",ANZSIC06 division A',\n",
       " '2021,Level 1,AA,\"Agriculture, Forestry and Fishing\",Dollars (millions),H22,Closing stocks,Financial performance,\"14,215\",ANZSIC06 division A',\n",
       " '2021,Level 1,AA,\"Agriculture, Forestry and Fishing\",Dollars (millions),H23,Surplus before income tax,Financial performance,\"8,034\",ANZSIC06 division A',\n",
       " '2021,Level 1,AA,\"Agriculture, Forestry and Fishing\",Dollars (millions),H24,Total assets,Financial position,\"190,239\",ANZSIC06 division A',\n",
       " '2021,Level 1,AA,\"Agriculture, Forestry and Fishing\",Dollars (millions),H25,Current assets,Financial position,\"35,038\",ANZSIC06 division A',\n",
       " '2021,Level 1,AA,\"Agriculture, Forestry and Fishing\",Dollars (millions),H26,Fixed tangible assets,Financial position,\"108,875\",ANZSIC06 division A',\n",
       " '2021,Level 1,AA,\"Agriculture, Forestry and Fishing\",Dollars (millions),H29,Other assets,Financial position,\"46,325\",ANZSIC06 division A',\n",
       " '2021,Level 1,AA,\"Agriculture, Forestry and Fishing\",Dollars (millions),H30,Total equity and liabilities,Financial position,\"190,239\",ANZSIC06 division A',\n",
       " '2021,Level 1,AA,\"Agriculture, Forestry and Fishing\",Dollars (millions),H31,Shareholders funds or owners equity,Financial position,\"91,748\",ANZSIC06 division A',\n",
       " '2021,Level 1,AA,\"Agriculture, Forestry and Fishing\",Dollars (millions),H32,Current liabilities,Financial position,\"33,218\",ANZSIC06 division A',\n",
       " '2021,Level 1,AA,\"Agriculture, Forestry and Fishing\",Dollars (millions),H33,Other liabilities,Financial position,\"65,274\",ANZSIC06 division A',\n",
       " '2021,Level 1,AA,\"Agriculture, Forestry and Fishing\",Dollars,H34,Total income per employee count,Financial ratios,\"419,000\",ANZSIC06 division A',\n",
       " '2021,Level 1,AA,\"Agriculture, Forestry and Fishing\",Dollars,H35,Surplus per employee count,Financial ratios,\"69,100\",ANZSIC06 division A',\n",
       " '2021,Level 1,AA,\"Agriculture, Forestry and Fishing\",Percentage,H36,Current ratio,Financial ratios,105,ANZSIC06 division A',\n",
       " '2021,Level 1,AA,\"Agriculture, Forestry and Fishing\",Percentage,H37,Quick ratio,Financial ratios,63,ANZSIC06 division A',\n",
       " '2021,Level 1,AA,\"Agriculture, Forestry and Fishing\",Percentage,H39,Return on equity,Financial ratios,9,ANZSIC06 division A',\n",
       " '2021,Level 1,AA,\"Agriculture, Forestry and Fishing\",Percentage,H40,Return on total assets,Financial ratios,4,ANZSIC06 division A',\n",
       " '2021,Level 1,AA,\"Agriculture, Forestry and Fishing\",Percentage,H41,Liabilities structure,Financial ratios,48,ANZSIC06 division A',\n",
       " '2021,Level 3,AA11,Horticulture and Fruit Growing,Dollars (millions),H01,Total income,Financial performance,\"5,394\",\"ANZSIC06 groups A011, A012, and A013\"',\n",
       " '2021,Level 3,AA11,Horticulture and Fruit Growing,Dollars (millions),H04,\"Sales, government funding, grants and subsidies\",Financial performance,\"4,925\",\"ANZSIC06 groups A011, A012, and A013\"',\n",
       " '2021,Level 3,AA11,Horticulture and Fruit Growing,Dollars (millions),H05,\"Interest, dividends and donations\",Financial performance,205,\"ANZSIC06 groups A011, A012, and A013\"',\n",
       " '2021,Level 3,AA11,Horticulture and Fruit Growing,Dollars (millions),H07,Non-operating income,Financial performance,264,\"ANZSIC06 groups A011, A012, and A013\"',\n",
       " '2021,Level 3,AA11,Horticulture and Fruit Growing,Dollars (millions),H08,Total expenditure,Financial performance,\"4,374\",\"ANZSIC06 groups A011, A012, and A013\"',\n",
       " '2021,Level 3,AA11,Horticulture and Fruit Growing,Dollars (millions),H09,Interest and donations,Financial performance,181,\"ANZSIC06 groups A011, A012, and A013\"',\n",
       " '2021,Level 3,AA11,Horticulture and Fruit Growing,Dollars (millions),H10,Indirect taxes,Financial performance,35,\"ANZSIC06 groups A011, A012, and A013\"',\n",
       " '2021,Level 3,AA11,Horticulture and Fruit Growing,Dollars (millions),H11,Depreciation,Financial performance,278,\"ANZSIC06 groups A011, A012, and A013\"',\n",
       " '2021,Level 3,AA11,Horticulture and Fruit Growing,Dollars (millions),H12,Salaries and wages paid,Financial performance,887,\"ANZSIC06 groups A011, A012, and A013\"',\n",
       " '2021,Level 3,AA11,Horticulture and Fruit Growing,Dollars (millions),H13,Redundancy and severance,Financial performance,0,\"ANZSIC06 groups A011, A012, and A013\"',\n",
       " '2021,Level 3,AA11,Horticulture and Fruit Growing,Dollars (millions),H19,Purchases and other operating expenses,Financial performance,\"2,970\",\"ANZSIC06 groups A011, A012, and A013\"',\n",
       " '2021,Level 3,AA11,Horticulture and Fruit Growing,Dollars (millions),H20,Non-operating expenses,Financial performance,22,\"ANZSIC06 groups A011, A012, and A013\"',\n",
       " '2021,Level 3,AA11,Horticulture and Fruit Growing,Dollars (millions),H21,Opening stocks,Financial performance,353,\"ANZSIC06 groups A011, A012, and A013\"',\n",
       " '2021,Level 3,AA11,Horticulture and Fruit Growing,Dollars (millions),H22,Closing stocks,Financial performance,356,\"ANZSIC06 groups A011, A012, and A013\"',\n",
       " '2021,Level 3,AA11,Horticulture and Fruit Growing,Dollars (millions),H23,Surplus before income tax,Financial performance,\"1,023\",\"ANZSIC06 groups A011, A012, and A013\"',\n",
       " '2021,Level 3,AA11,Horticulture and Fruit Growing,Dollars (millions),H24,Total assets,Financial position,\"16,790\",\"ANZSIC06 groups A011, A012, and A013\"',\n",
       " '2021,Level 3,AA11,Horticulture and Fruit Growing,Dollars (millions),H25,Current assets,Financial position,\"2,878\",\"ANZSIC06 groups A011, A012, and A013\"',\n",
       " '2021,Level 3,AA11,Horticulture and Fruit Growing,Dollars (millions),H26,Fixed tangible assets,Financial position,\"11,072\",\"ANZSIC06 groups A011, A012, and A013\"',\n",
       " '2021,Level 3,AA11,Horticulture and Fruit Growing,Dollars (millions),H29,Other assets,Financial position,\"2,841\",\"ANZSIC06 groups A011, A012, and A013\"',\n",
       " '2021,Level 3,AA11,Horticulture and Fruit Growing,Dollars (millions),H30,Total equity and liabilities,Financial position,\"16,790\",\"ANZSIC06 groups A011, A012, and A013\"',\n",
       " '2021,Level 3,AA11,Horticulture and Fruit Growing,Dollars (millions),H31,Shareholders funds or owners equity,Financial position,\"8,200\",\"ANZSIC06 groups A011, A012, and A013\"',\n",
       " '2021,Level 3,AA11,Horticulture and Fruit Growing,Dollars (millions),H32,Current liabilities,Financial position,\"3,615\",\"ANZSIC06 groups A011, A012, and A013\"',\n",
       " '2021,Level 3,AA11,Horticulture and Fruit Growing,Dollars (millions),H33,Other liabilities,Financial position,\"4,975\",\"ANZSIC06 groups A011, A012, and A013\"',\n",
       " '2021,Level 3,AA11,Horticulture and Fruit Growing,Dollars,H34,Total income per employee count,Financial ratios,\"204,000\",\"ANZSIC06 groups A011, A012, and A013\"',\n",
       " '2021,Level 3,AA11,Horticulture and Fruit Growing,Dollars,H35,Surplus per employee count,Financial ratios,\"38,700\",\"ANZSIC06 groups A011, A012, and A013\"',\n",
       " '2021,Level 3,AA11,Horticulture and Fruit Growing,Percentage,H36,Current ratio,Financial ratios,80,\"ANZSIC06 groups A011, A012, and A013\"',\n",
       " '2021,Level 3,AA11,Horticulture and Fruit Growing,Percentage,H37,Quick ratio,Financial ratios,70,\"ANZSIC06 groups A011, A012, and A013\"',\n",
       " '2021,Level 3,AA11,Horticulture and Fruit Growing,Percentage,H39,Return on equity,Financial ratios,12,\"ANZSIC06 groups A011, A012, and A013\"',\n",
       " '2021,Level 3,AA11,Horticulture and Fruit Growing,Percentage,H40,Return on total assets,Financial ratios,6,\"ANZSIC06 groups A011, A012, and A013\"',\n",
       " '2021,Level 3,AA11,Horticulture and Fruit Growing,Percentage,H41,Liabilities structure,Financial ratios,49,\"ANZSIC06 groups A011, A012, and A013\"',\n",
       " '2021,Level 4,AA111,Horticulture and Fruit Growing,Dollars (millions),H01,Total income,Financial performance,\"5,394\",\"ANZSIC06 groups A011, A012, and A013\"',\n",
       " '2021,Level 4,AA111,Horticulture and Fruit Growing,Dollars (millions),H04,\"Sales, government funding, grants and subsidies\",Financial performance,\"4,925\",\"ANZSIC06 groups A011, A012, and A013\"',\n",
       " '2021,Level 4,AA111,Horticulture and Fruit Growing,Dollars (millions),H05,\"Interest, dividends and donations\",Financial performance,205,\"ANZSIC06 groups A011, A012, and A013\"',\n",
       " '2021,Level 4,AA111,Horticulture and Fruit Growing,Dollars (millions),H07,Non-operating income,Financial performance,264,\"ANZSIC06 groups A011, A012, and A013\"',\n",
       " '2021,Level 4,AA111,Horticulture and Fruit Growing,Dollars (millions),H08,Total expenditure,Financial performance,\"4,374\",\"ANZSIC06 groups A011, A012, and A013\"',\n",
       " '2021,Level 4,AA111,Horticulture and Fruit Growing,Dollars (millions),H09,Interest and donations,Financial performance,181,\"ANZSIC06 groups A011, A012, and A013\"',\n",
       " '2021,Level 4,AA111,Horticulture and Fruit Growing,Dollars (millions),H10,Indirect taxes,Financial performance,35,\"ANZSIC06 groups A011, A012, and A013\"',\n",
       " '2021,Level 4,AA111,Horticulture and Fruit Growing,Dollars (millions),H11,Depreciation,Financial performance,278,\"ANZSIC06 groups A011, A012, and A013\"',\n",
       " '2021,Level 4,AA111,Horticulture and Fruit Growing,Dollars (millions),H12,Salaries and wages paid,Financial performance,887,\"ANZSIC06 groups A011, A012, and A013\"',\n",
       " '2021,Level 4,AA111,Horticulture and Fruit Growing,Dollars (millions),H13,Redundancy and severance,Financial performance,0,\"ANZSIC06 groups A011, A012, and A013\"',\n",
       " '2021,Level 4,AA111,Horticulture and Fruit Growing,Dollars (millions),H19,Purchases and other operating expenses,Financial performance,\"2,970\",\"ANZSIC06 groups A011, A012, and A013\"',\n",
       " '2021,Level 4,AA111,Horticulture and Fruit Growing,Dollars (millions),H20,Non-operating expenses,Financial performance,22,\"ANZSIC06 groups A011, A012, and A013\"',\n",
       " '2021,Level 4,AA111,Horticulture and Fruit Growing,Dollars (millions),H21,Opening stocks,Financial performance,353,\"ANZSIC06 groups A011, A012, and A013\"',\n",
       " '2021,Level 4,AA111,Horticulture and Fruit Growing,Dollars (millions),H22,Closing stocks,Financial performance,356,\"ANZSIC06 groups A011, A012, and A013\"',\n",
       " '2021,Level 4,AA111,Horticulture and Fruit Growing,Dollars (millions),H23,Surplus before income tax,Financial performance,\"1,023\",\"ANZSIC06 groups A011, A012, and A013\"',\n",
       " '2021,Level 4,AA111,Horticulture and Fruit Growing,Dollars (millions),H24,Total assets,Financial position,\"16,790\",\"ANZSIC06 groups A011, A012, and A013\"',\n",
       " '2021,Level 4,AA111,Horticulture and Fruit Growing,Dollars (millions),H25,Current assets,Financial position,\"2,878\",\"ANZSIC06 groups A011, A012, and A013\"',\n",
       " '2021,Level 4,AA111,Horticulture and Fruit Growing,Dollars (millions),H26,Fixed tangible assets,Financial position,\"11,072\",\"ANZSIC06 groups A011, A012, and A013\"',\n",
       " '2021,Level 4,AA111,Horticulture and Fruit Growing,Dollars (millions),H29,Other assets,Financial position,\"2,841\",\"ANZSIC06 groups A011, A012, and A013\"',\n",
       " '2021,Level 4,AA111,Horticulture and Fruit Growing,Dollars (millions),H30,Total equity and liabilities,Financial position,\"16,790\",\"ANZSIC06 groups A011, A012, and A013\"',\n",
       " '2021,Level 4,AA111,Horticulture and Fruit Growing,Dollars (millions),H31,Shareholders funds or owners equity,Financial position,\"8,200\",\"ANZSIC06 groups A011, A012, and A013\"',\n",
       " '2021,Level 4,AA111,Horticulture and Fruit Growing,Dollars (millions),H32,Current liabilities,Financial position,\"3,615\",\"ANZSIC06 groups A011, A012, and A013\"',\n",
       " '2021,Level 4,AA111,Horticulture and Fruit Growing,Dollars (millions),H33,Other liabilities,Financial position,\"4,975\",\"ANZSIC06 groups A011, A012, and A013\"',\n",
       " '2021,Level 4,AA111,Horticulture and Fruit Growing,Dollars,H34,Total income per employee count,Financial ratios,\"204,000\",\"ANZSIC06 groups A011, A012, and A013\"',\n",
       " '2021,Level 4,AA111,Horticulture and Fruit Growing,Dollars,H35,Surplus per employee count,Financial ratios,\"38,700\",\"ANZSIC06 groups A011, A012, and A013\"',\n",
       " '2021,Level 4,AA111,Horticulture and Fruit Growing,Percentage,H36,Current ratio,Financial ratios,80,\"ANZSIC06 groups A011, A012, and A013\"',\n",
       " '2021,Level 4,AA111,Horticulture and Fruit Growing,Percentage,H37,Quick ratio,Financial ratios,70,\"ANZSIC06 groups A011, A012, and A013\"',\n",
       " '2021,Level 4,AA111,Horticulture and Fruit Growing,Percentage,H39,Return on equity,Financial ratios,12,\"ANZSIC06 groups A011, A012, and A013\"',\n",
       " '2021,Level 4,AA111,Horticulture and Fruit Growing,Percentage,H40,Return on total assets,Financial ratios,6,\"ANZSIC06 groups A011, A012, and A013\"',\n",
       " '2021,Level 4,AA111,Horticulture and Fruit Growing,Percentage,H41,Liabilities structure,Financial ratios,49,\"ANZSIC06 groups A011, A012, and A013\"',\n",
       " '2021,Level 3,AA12,\"Sheep, Beef Cattle and Grain Farming\",Dollars (millions),H01,Total income,Financial performance,\"11,690\",ANZSIC06 groups A014 and A015',\n",
       " '2021,Level 3,AA12,\"Sheep, Beef Cattle and Grain Farming\",Dollars (millions),H04,\"Sales, government funding, grants and subsidies\",Financial performance,\"10,965\",ANZSIC06 groups A014 and A015',\n",
       " '2021,Level 3,AA12,\"Sheep, Beef Cattle and Grain Farming\",Dollars (millions),H05,\"Interest, dividends and donations\",Financial performance,180,ANZSIC06 groups A014 and A015',\n",
       " '2021,Level 3,AA12,\"Sheep, Beef Cattle and Grain Farming\",Dollars (millions),H07,Non-operating income,Financial performance,545,ANZSIC06 groups A014 and A015',\n",
       " '2021,Level 3,AA12,\"Sheep, Beef Cattle and Grain Farming\",Dollars (millions),H08,Total expenditure,Financial performance,\"10,334\",ANZSIC06 groups A014 and A015',\n",
       " '2021,Level 3,AA12,\"Sheep, Beef Cattle and Grain Farming\",Dollars (millions),H09,Interest and donations,Financial performance,577,ANZSIC06 groups A014 and A015',\n",
       " '2021,Level 3,AA12,\"Sheep, Beef Cattle and Grain Farming\",Dollars (millions),H10,Indirect taxes,Financial performance,183,ANZSIC06 groups A014 and A015',\n",
       " '2021,Level 3,AA12,\"Sheep, Beef Cattle and Grain Farming\",Dollars (millions),H11,Depreciation,Financial performance,585,ANZSIC06 groups A014 and A015',\n",
       " '2021,Level 3,AA12,\"Sheep, Beef Cattle and Grain Farming\",Dollars (millions),H12,Salaries and wages paid,Financial performance,\"1,110\",ANZSIC06 groups A014 and A015',\n",
       " '2021,Level 3,AA12,\"Sheep, Beef Cattle and Grain Farming\",Dollars (millions),H13,Redundancy and severance,Financial performance,0,ANZSIC06 groups A014 and A015',\n",
       " '2021,Level 3,AA12,\"Sheep, Beef Cattle and Grain Farming\",Dollars (millions),H19,Purchases and other operating expenses,Financial performance,\"7,827\",ANZSIC06 groups A014 and A015',\n",
       " '2021,Level 3,AA12,\"Sheep, Beef Cattle and Grain Farming\",Dollars (millions),H20,Non-operating expenses,Financial performance,52,ANZSIC06 groups A014 and A015',\n",
       " '2021,Level 3,AA12,\"Sheep, Beef Cattle and Grain Farming\",Dollars (millions),H21,Opening stocks,Financial performance,\"6,078\",ANZSIC06 groups A014 and A015',\n",
       " '2021,Level 3,AA12,\"Sheep, Beef Cattle and Grain Farming\",Dollars (millions),H22,Closing stocks,Financial performance,\"6,094\",ANZSIC06 groups A014 and A015',\n",
       " '2021,Level 3,AA12,\"Sheep, Beef Cattle and Grain Farming\",Dollars (millions),H23,Surplus before income tax,Financial performance,\"1,372\",ANZSIC06 groups A014 and A015',\n",
       " '2021,Level 3,AA12,\"Sheep, Beef Cattle and Grain Farming\",Dollars (millions),H24,Total assets,Financial position,\"60,824\",ANZSIC06 groups A014 and A015',\n",
       " '2021,Level 3,AA12,\"Sheep, Beef Cattle and Grain Farming\",Dollars (millions),H25,Current assets,Financial position,\"13,012\",ANZSIC06 groups A014 and A015',\n",
       " '2021,Level 3,AA12,\"Sheep, Beef Cattle and Grain Farming\",Dollars (millions),H26,Fixed tangible assets,Financial position,\"38,952\",ANZSIC06 groups A014 and A015',\n",
       " '2021,Level 3,AA12,\"Sheep, Beef Cattle and Grain Farming\",Dollars (millions),H29,Other assets,Financial position,\"8,860\",ANZSIC06 groups A014 and A015',\n",
       " '2021,Level 3,AA12,\"Sheep, Beef Cattle and Grain Farming\",Dollars (millions),H30,Total equity and liabilities,Financial position,\"60,824\",ANZSIC06 groups A014 and A015',\n",
       " '2021,Level 3,AA12,\"Sheep, Beef Cattle and Grain Farming\",Dollars (millions),H31,Shareholders funds or owners equity,Financial position,\"33,880\",ANZSIC06 groups A014 and A015',\n",
       " '2021,Level 3,AA12,\"Sheep, Beef Cattle and Grain Farming\",Dollars (millions),H32,Current liabilities,Financial position,\"10,489\",ANZSIC06 groups A014 and A015',\n",
       " '2021,Level 3,AA12,\"Sheep, Beef Cattle and Grain Farming\",Dollars (millions),H33,Other liabilities,Financial position,\"16,455\",ANZSIC06 groups A014 and A015',\n",
       " '2021,Level 3,AA12,\"Sheep, Beef Cattle and Grain Farming\",Dollars,H34,Total income per employee count,Financial ratios,\"584,200\",ANZSIC06 groups A014 and A015',\n",
       " '2021,Level 3,AA12,\"Sheep, Beef Cattle and Grain Farming\",Dollars,H35,Surplus per employee count,Financial ratios,\"68,600\",ANZSIC06 groups A014 and A015',\n",
       " '2021,Level 3,AA12,\"Sheep, Beef Cattle and Grain Farming\",Percentage,H36,Current ratio,Financial ratios,124,ANZSIC06 groups A014 and A015',\n",
       " '2021,Level 3,AA12,\"Sheep, Beef Cattle and Grain Farming\",Percentage,H37,Quick ratio,Financial ratios,66,ANZSIC06 groups A014 and A015',\n",
       " '2021,Level 3,AA12,\"Sheep, Beef Cattle and Grain Farming\",Percentage,H39,Return on equity,Financial ratios,4,ANZSIC06 groups A014 and A015',\n",
       " '2021,Level 3,AA12,\"Sheep, Beef Cattle and Grain Farming\",Percentage,H40,Return on total assets,Financial ratios,2,ANZSIC06 groups A014 and A015',\n",
       " '2021,Level 3,AA12,\"Sheep, Beef Cattle and Grain Farming\",Percentage,H41,Liabilities structure,Financial ratios,56,ANZSIC06 groups A014 and A015',\n",
       " '2021,Level 4,AA121,\"Sheep, Beef Cattle and Grain Farming\",Dollars (millions),H01,Total income,Financial performance,\"11,690\",ANZSIC06 groups A014 and A015',\n",
       " '2021,Level 4,AA121,\"Sheep, Beef Cattle and Grain Farming\",Dollars (millions),H04,\"Sales, government funding, grants and subsidies\",Financial performance,\"10,965\",ANZSIC06 groups A014 and A015',\n",
       " '2021,Level 4,AA121,\"Sheep, Beef Cattle and Grain Farming\",Dollars (millions),H05,\"Interest, dividends and donations\",Financial performance,180,ANZSIC06 groups A014 and A015',\n",
       " '2021,Level 4,AA121,\"Sheep, Beef Cattle and Grain Farming\",Dollars (millions),H07,Non-operating income,Financial performance,545,ANZSIC06 groups A014 and A015',\n",
       " '2021,Level 4,AA121,\"Sheep, Beef Cattle and Grain Farming\",Dollars (millions),H08,Total expenditure,Financial performance,\"10,334\",ANZSIC06 groups A014 and A015',\n",
       " '2021,Level 4,AA121,\"Sheep, Beef Cattle and Grain Farming\",Dollars (millions),H09,Interest and donations,Financial performance,577,ANZSIC06 groups A014 and A015',\n",
       " '2021,Level 4,AA121,\"Sheep, Beef Cattle and Grain Farming\",Dollars (millions),H10,Indirect taxes,Financial performance,183,ANZSIC06 groups A014 and A015',\n",
       " '2021,Level 4,AA121,\"Sheep, Beef Cattle and Grain Farming\",Dollars (millions),H11,Depreciation,Financial performance,585,ANZSIC06 groups A014 and A015',\n",
       " '2021,Level 4,AA121,\"Sheep, Beef Cattle and Grain Farming\",Dollars (millions),H12,Salaries and wages paid,Financial performance,\"1,110\",ANZSIC06 groups A014 and A015',\n",
       " '2021,Level 4,AA121,\"Sheep, Beef Cattle and Grain Farming\",Dollars (millions),H13,Redundancy and severance,Financial performance,0,ANZSIC06 groups A014 and A015',\n",
       " '2021,Level 4,AA121,\"Sheep, Beef Cattle and Grain Farming\",Dollars (millions),H19,Purchases and other operating expenses,Financial performance,\"7,827\",ANZSIC06 groups A014 and A015',\n",
       " '2021,Level 4,AA121,\"Sheep, Beef Cattle and Grain Farming\",Dollars (millions),H20,Non-operating expenses,Financial performance,52,ANZSIC06 groups A014 and A015',\n",
       " '2021,Level 4,AA121,\"Sheep, Beef Cattle and Grain Farming\",Dollars (millions),H21,Opening stocks,Financial performance,\"6,078\",ANZSIC06 groups A014 and A015',\n",
       " '2021,Level 4,AA121,\"Sheep, Beef Cattle and Grain Farming\",Dollars (millions),H22,Closing stocks,Financial performance,\"6,094\",ANZSIC06 groups A014 and A015',\n",
       " '2021,Level 4,AA121,\"Sheep, Beef Cattle and Grain Farming\",Dollars (millions),H23,Surplus before income tax,Financial performance,\"1,372\",ANZSIC06 groups A014 and A015',\n",
       " '2021,Level 4,AA121,\"Sheep, Beef Cattle and Grain Farming\",Dollars (millions),H24,Total assets,Financial position,\"60,824\",ANZSIC06 groups A014 and A015',\n",
       " '2021,Level 4,AA121,\"Sheep, Beef Cattle and Grain Farming\",Dollars (millions),H25,Current assets,Financial position,\"13,012\",ANZSIC06 groups A014 and A015',\n",
       " '2021,Level 4,AA121,\"Sheep, Beef Cattle and Grain Farming\",Dollars (millions),H26,Fixed tangible assets,Financial position,\"38,952\",ANZSIC06 groups A014 and A015',\n",
       " '2021,Level 4,AA121,\"Sheep, Beef Cattle and Grain Farming\",Dollars (millions),H29,Other assets,Financial position,\"8,860\",ANZSIC06 groups A014 and A015',\n",
       " '2021,Level 4,AA121,\"Sheep, Beef Cattle and Grain Farming\",Dollars (millions),H30,Total equity and liabilities,Financial position,\"60,824\",ANZSIC06 groups A014 and A015',\n",
       " '2021,Level 4,AA121,\"Sheep, Beef Cattle and Grain Farming\",Dollars (millions),H31,Shareholders funds or owners equity,Financial position,\"33,880\",ANZSIC06 groups A014 and A015',\n",
       " '2021,Level 4,AA121,\"Sheep, Beef Cattle and Grain Farming\",Dollars (millions),H32,Current liabilities,Financial position,\"10,489\",ANZSIC06 groups A014 and A015',\n",
       " '2021,Level 4,AA121,\"Sheep, Beef Cattle and Grain Farming\",Dollars (millions),H33,Other liabilities,Financial position,\"16,455\",ANZSIC06 groups A014 and A015',\n",
       " '2021,Level 4,AA121,\"Sheep, Beef Cattle and Grain Farming\",Dollars,H34,Total income per employee count,Financial ratios,\"584,200\",ANZSIC06 groups A014 and A015',\n",
       " '2021,Level 4,AA121,\"Sheep, Beef Cattle and Grain Farming\",Dollars,H35,Surplus per employee count,Financial ratios,\"68,600\",ANZSIC06 groups A014 and A015',\n",
       " '2021,Level 4,AA121,\"Sheep, Beef Cattle and Grain Farming\",Percentage,H36,Current ratio,Financial ratios,124,ANZSIC06 groups A014 and A015',\n",
       " '2021,Level 4,AA121,\"Sheep, Beef Cattle and Grain Farming\",Percentage,H37,Quick ratio,Financial ratios,66,ANZSIC06 groups A014 and A015',\n",
       " '2021,Level 4,AA121,\"Sheep, Beef Cattle and Grain Farming\",Percentage,H39,Return on equity,Financial ratios,4,ANZSIC06 groups A014 and A015',\n",
       " '2021,Level 4,AA121,\"Sheep, Beef Cattle and Grain Farming\",Percentage,H40,Return on total assets,Financial ratios,2,ANZSIC06 groups A014 and A015',\n",
       " '2021,Level 4,AA121,\"Sheep, Beef Cattle and Grain Farming\",Percentage,H41,Liabilities structure,Financial ratios,56,ANZSIC06 groups A014 and A015',\n",
       " '2021,Level 3,AA13,Dairy Cattle Farming,Dollars (millions),H01,Total income,Financial performance,\"15,740\",ANZSIC06 group A016',\n",
       " '2021,Level 3,AA13,Dairy Cattle Farming,Dollars (millions),H04,\"Sales, government funding, grants and subsidies\",Financial performance,\"15,293\",ANZSIC06 group A016',\n",
       " '2021,Level 3,AA13,Dairy Cattle Farming,Dollars (millions),H05,\"Interest, dividends and donations\",Financial performance,153,ANZSIC06 group A016',\n",
       " '2021,Level 3,AA13,Dairy Cattle Farming,Dollars (millions),H07,Non-operating income,Financial performance,295,ANZSIC06 group A016',\n",
       " '2021,Level 3,AA13,Dairy Cattle Farming,Dollars (millions),H08,Total expenditure,Financial performance,\"12,717\",ANZSIC06 group A016',\n",
       " '2021,Level 3,AA13,Dairy Cattle Farming,Dollars (millions),H09,Interest and donations,Financial performance,\"1,238\",ANZSIC06 group A016',\n",
       " '2021,Level 3,AA13,Dairy Cattle Farming,Dollars (millions),H10,Indirect taxes,Financial performance,186,ANZSIC06 group A016',\n",
       " '2021,Level 3,AA13,Dairy Cattle Farming,Dollars (millions),H11,Depreciation,Financial performance,675,ANZSIC06 group A016',\n",
       " '2021,Level 3,AA13,Dairy Cattle Farming,Dollars (millions),H12,Salaries and wages paid,Financial performance,\"1,719\",ANZSIC06 group A016',\n",
       " '2021,Level 3,AA13,Dairy Cattle Farming,Dollars (millions),H13,Redundancy and severance,Financial performance,0,ANZSIC06 group A016',\n",
       " '2021,Level 3,AA13,Dairy Cattle Farming,Dollars (millions),H19,Purchases and other operating expenses,Financial performance,\"8,838\",ANZSIC06 group A016',\n",
       " '2021,Level 3,AA13,Dairy Cattle Farming,Dollars (millions),H20,Non-operating expenses,Financial performance,61,ANZSIC06 group A016',\n",
       " '2021,Level 3,AA13,Dairy Cattle Farming,Dollars (millions),H21,Opening stocks,Financial performance,\"6,299\",ANZSIC06 group A016',\n",
       " '2021,Level 3,AA13,Dairy Cattle Farming,Dollars (millions),H22,Closing stocks,Financial performance,\"6,234\",ANZSIC06 group A016',\n",
       " '2021,Level 3,AA13,Dairy Cattle Farming,Dollars (millions),H23,Surplus before income tax,Financial performance,\"2,957\",ANZSIC06 group A016',\n",
       " '2021,Level 3,AA13,Dairy Cattle Farming,Dollars (millions),H24,Total assets,Financial position,\"68,385\",ANZSIC06 group A016',\n",
       " '2021,Level 3,AA13,Dairy Cattle Farming,Dollars (millions),H25,Current assets,Financial position,\"12,634\",ANZSIC06 group A016',\n",
       " '2021,Level 3,AA13,Dairy Cattle Farming,Dollars (millions),H26,Fixed tangible assets,Financial position,\"44,465\",ANZSIC06 group A016',\n",
       " '2021,Level 3,AA13,Dairy Cattle Farming,Dollars (millions),H29,Other assets,Financial position,\"11,286\",ANZSIC06 group A016',\n",
       " '2021,Level 3,AA13,Dairy Cattle Farming,Dollars (millions),H30,Total equity and liabilities,Financial position,\"68,385\",ANZSIC06 group A016',\n",
       " '2021,Level 3,AA13,Dairy Cattle Farming,Dollars (millions),H31,Shareholders funds or owners equity,Financial position,\"25,262\",ANZSIC06 group A016',\n",
       " '2021,Level 3,AA13,Dairy Cattle Farming,Dollars (millions),H32,Current liabilities,Financial position,\"12,036\",ANZSIC06 group A016',\n",
       " '2021,Level 3,AA13,Dairy Cattle Farming,Dollars (millions),H33,Other liabilities,Financial position,\"31,086\",ANZSIC06 group A016',\n",
       " '2021,Level 3,AA13,Dairy Cattle Farming,Dollars,H34,Total income per employee count,Financial ratios,\"619,200\",ANZSIC06 group A016',\n",
       " '2021,Level 3,AA13,Dairy Cattle Farming,Dollars,H35,Surplus per employee count,Financial ratios,\"116,300\",ANZSIC06 group A016',\n",
       " '2021,Level 3,AA13,Dairy Cattle Farming,Percentage,H36,Current ratio,Financial ratios,105,ANZSIC06 group A016',\n",
       " '2021,Level 3,AA13,Dairy Cattle Farming,Percentage,H37,Quick ratio,Financial ratios,53,ANZSIC06 group A016',\n",
       " '2021,Level 3,AA13,Dairy Cattle Farming,Percentage,H39,Return on equity,Financial ratios,12,ANZSIC06 group A016',\n",
       " '2021,Level 3,AA13,Dairy Cattle Farming,Percentage,H40,Return on total assets,Financial ratios,4,ANZSIC06 group A016',\n",
       " '2021,Level 3,AA13,Dairy Cattle Farming,Percentage,H41,Liabilities structure,Financial ratios,37,ANZSIC06 group A016',\n",
       " '2021,Level 4,AA131,Dairy Cattle Farming,Dollars (millions),H01,Total income,Financial performance,\"15,740\",ANZSIC06 group A016',\n",
       " '2021,Level 4,AA131,Dairy Cattle Farming,Dollars (millions),H04,\"Sales, government funding, grants and subsidies\",Financial performance,\"15,293\",ANZSIC06 group A016',\n",
       " '2021,Level 4,AA131,Dairy Cattle Farming,Dollars (millions),H05,\"Interest, dividends and donations\",Financial performance,153,ANZSIC06 group A016',\n",
       " '2021,Level 4,AA131,Dairy Cattle Farming,Dollars (millions),H07,Non-operating income,Financial performance,295,ANZSIC06 group A016',\n",
       " '2021,Level 4,AA131,Dairy Cattle Farming,Dollars (millions),H08,Total expenditure,Financial performance,\"12,717\",ANZSIC06 group A016',\n",
       " '2021,Level 4,AA131,Dairy Cattle Farming,Dollars (millions),H09,Interest and donations,Financial performance,\"1,238\",ANZSIC06 group A016',\n",
       " '2021,Level 4,AA131,Dairy Cattle Farming,Dollars (millions),H10,Indirect taxes,Financial performance,186,ANZSIC06 group A016',\n",
       " '2021,Level 4,AA131,Dairy Cattle Farming,Dollars (millions),H11,Depreciation,Financial performance,675,ANZSIC06 group A016',\n",
       " '2021,Level 4,AA131,Dairy Cattle Farming,Dollars (millions),H12,Salaries and wages paid,Financial performance,\"1,719\",ANZSIC06 group A016',\n",
       " '2021,Level 4,AA131,Dairy Cattle Farming,Dollars (millions),H13,Redundancy and severance,Financial performance,0,ANZSIC06 group A016',\n",
       " '2021,Level 4,AA131,Dairy Cattle Farming,Dollars (millions),H19,Purchases and other operating expenses,Financial performance,\"8,838\",ANZSIC06 group A016',\n",
       " '2021,Level 4,AA131,Dairy Cattle Farming,Dollars (millions),H20,Non-operating expenses,Financial performance,61,ANZSIC06 group A016',\n",
       " '2021,Level 4,AA131,Dairy Cattle Farming,Dollars (millions),H21,Opening stocks,Financial performance,\"6,299\",ANZSIC06 group A016',\n",
       " '2021,Level 4,AA131,Dairy Cattle Farming,Dollars (millions),H22,Closing stocks,Financial performance,\"6,234\",ANZSIC06 group A016',\n",
       " '2021,Level 4,AA131,Dairy Cattle Farming,Dollars (millions),H23,Surplus before income tax,Financial performance,\"2,957\",ANZSIC06 group A016',\n",
       " '2021,Level 4,AA131,Dairy Cattle Farming,Dollars (millions),H24,Total assets,Financial position,\"68,385\",ANZSIC06 group A016',\n",
       " '2021,Level 4,AA131,Dairy Cattle Farming,Dollars (millions),H25,Current assets,Financial position,\"12,634\",ANZSIC06 group A016',\n",
       " '2021,Level 4,AA131,Dairy Cattle Farming,Dollars (millions),H26,Fixed tangible assets,Financial position,\"44,465\",ANZSIC06 group A016',\n",
       " '2021,Level 4,AA131,Dairy Cattle Farming,Dollars (millions),H29,Other assets,Financial position,\"11,286\",ANZSIC06 group A016',\n",
       " '2021,Level 4,AA131,Dairy Cattle Farming,Dollars (millions),H30,Total equity and liabilities,Financial position,\"68,385\",ANZSIC06 group A016',\n",
       " '2021,Level 4,AA131,Dairy Cattle Farming,Dollars (millions),H31,Shareholders funds or owners equity,Financial position,\"25,262\",ANZSIC06 group A016',\n",
       " '2021,Level 4,AA131,Dairy Cattle Farming,Dollars (millions),H32,Current liabilities,Financial position,\"12,036\",ANZSIC06 group A016',\n",
       " '2021,Level 4,AA131,Dairy Cattle Farming,Dollars (millions),H33,Other liabilities,Financial position,\"31,086\",ANZSIC06 group A016',\n",
       " '2021,Level 4,AA131,Dairy Cattle Farming,Dollars,H34,Total income per employee count,Financial ratios,\"619,200\",ANZSIC06 group A016',\n",
       " '2021,Level 4,AA131,Dairy Cattle Farming,Dollars,H35,Surplus per employee count,Financial ratios,\"116,300\",ANZSIC06 group A016',\n",
       " '2021,Level 4,AA131,Dairy Cattle Farming,Percentage,H36,Current ratio,Financial ratios,105,ANZSIC06 group A016',\n",
       " '2021,Level 4,AA131,Dairy Cattle Farming,Percentage,H37,Quick ratio,Financial ratios,53,ANZSIC06 group A016',\n",
       " '2021,Level 4,AA131,Dairy Cattle Farming,Percentage,H39,Return on equity,Financial ratios,12,ANZSIC06 group A016',\n",
       " '2021,Level 4,AA131,Dairy Cattle Farming,Percentage,H40,Return on total assets,Financial ratios,4,ANZSIC06 group A016',\n",
       " '2021,Level 4,AA131,Dairy Cattle Farming,Percentage,H41,Liabilities structure,Financial ratios,37,ANZSIC06 group A016',\n",
       " '2021,Level 3,AA14,\"Poultry, Deer and Other Livestock Farming\",Dollars (millions),H01,Total income,Financial performance,\"2,251\",\"ANZSIC06 groups A017, A018, and A019\"',\n",
       " '2021,Level 3,AA14,\"Poultry, Deer and Other Livestock Farming\",Dollars (millions),H04,\"Sales, government funding, grants and subsidies\",Financial performance,\"2,205\",\"ANZSIC06 groups A017, A018, and A019\"',\n",
       " '2021,Level 3,AA14,\"Poultry, Deer and Other Livestock Farming\",Dollars (millions),H05,\"Interest, dividends and donations\",Financial performance,23,\"ANZSIC06 groups A017, A018, and A019\"',\n",
       " '2021,Level 3,AA14,\"Poultry, Deer and Other Livestock Farming\",Dollars (millions),H07,Non-operating income,Financial performance,22,\"ANZSIC06 groups A017, A018, and A019\"',\n",
       " '2021,Level 3,AA14,\"Poultry, Deer and Other Livestock Farming\",Dollars (millions),H08,Total expenditure,Financial performance,\"2,138\",\"ANZSIC06 groups A017, A018, and A019\"',\n",
       " '2021,Level 3,AA14,\"Poultry, Deer and Other Livestock Farming\",Dollars (millions),H09,Interest and donations,Financial performance,93,\"ANZSIC06 groups A017, A018, and A019\"',\n",
       " '2021,Level 3,AA14,\"Poultry, Deer and Other Livestock Farming\",Dollars (millions),H10,Indirect taxes,Financial performance,18,\"ANZSIC06 groups A017, A018, and A019\"',\n",
       " '2021,Level 3,AA14,\"Poultry, Deer and Other Livestock Farming\",Dollars (millions),H11,Depreciation,Financial performance,129,\"ANZSIC06 groups A017, A018, and A019\"',\n",
       " '2021,Level 3,AA14,\"Poultry, Deer and Other Livestock Farming\",Dollars (millions),H12,Salaries and wages paid,Financial performance,313,\"ANZSIC06 groups A017, A018, and A019\"',\n",
       " '2021,Level 3,AA14,\"Poultry, Deer and Other Livestock Farming\",Dollars (millions),H13,Redundancy and severance,Financial performance,0,\"ANZSIC06 groups A017, A018, and A019\"',\n",
       " '2021,Level 3,AA14,\"Poultry, Deer and Other Livestock Farming\",Dollars (millions),H19,Purchases and other operating expenses,Financial performance,\"1,578\",\"ANZSIC06 groups A017, A018, and A019\"',\n",
       " '2021,Level 3,AA14,\"Poultry, Deer and Other Livestock Farming\",Dollars (millions),H20,Non-operating expenses,Financial performance,7,\"ANZSIC06 groups A017, A018, and A019\"',\n",
       " '2021,Level 3,AA14,\"Poultry, Deer and Other Livestock Farming\",Dollars (millions),H21,Opening stocks,Financial performance,694,\"ANZSIC06 groups A017, A018, and A019\"',\n",
       " '2021,Level 3,AA14,\"Poultry, Deer and Other Livestock Farming\",Dollars (millions),H22,Closing stocks,Financial performance,698,\"ANZSIC06 groups A017, A018, and A019\"',\n",
       " '2021,Level 3,AA14,\"Poultry, Deer and Other Livestock Farming\",Dollars (millions),H23,Surplus before income tax,Financial performance,117,\"ANZSIC06 groups A017, A018, and A019\"',\n",
       " '2021,Level 3,AA14,\"Poultry, Deer and Other Livestock Farming\",Dollars (millions),H24,Total assets,Financial position,\"7,247\",\"ANZSIC06 groups A017, A018, and A019\"',\n",
       " '2021,Level 3,AA14,\"Poultry, Deer and Other Livestock Farming\",Dollars (millions),H25,Current assets,Financial position,\"1,846\",\"ANZSIC06 groups A017, A018, and A019\"',\n",
       " '2021,Level 3,AA14,\"Poultry, Deer and Other Livestock Farming\",Dollars (millions),H26,Fixed tangible assets,Financial position,\"4,352\",\"ANZSIC06 groups A017, A018, and A019\"',\n",
       " '2021,Level 3,AA14,\"Poultry, Deer and Other Livestock Farming\",Dollars (millions),H29,Other assets,Financial position,\"1,049\",\"ANZSIC06 groups A017, A018, and A019\"',\n",
       " '2021,Level 3,AA14,\"Poultry, Deer and Other Livestock Farming\",Dollars (millions),H30,Total equity and liabilities,Financial position,\"7,247\",\"ANZSIC06 groups A017, A018, and A019\"',\n",
       " '2021,Level 3,AA14,\"Poultry, Deer and Other Livestock Farming\",Dollars (millions),H31,Shareholders funds or owners equity,Financial position,\"2,829\",\"ANZSIC06 groups A017, A018, and A019\"',\n",
       " '2021,Level 3,AA14,\"Poultry, Deer and Other Livestock Farming\",Dollars (millions),H32,Current liabilities,Financial position,\"1,836\",\"ANZSIC06 groups A017, A018, and A019\"',\n",
       " '2021,Level 3,AA14,\"Poultry, Deer and Other Livestock Farming\",Dollars (millions),H33,Other liabilities,Financial position,\"2,582\",\"ANZSIC06 groups A017, A018, and A019\"',\n",
       " '2021,Level 3,AA14,\"Poultry, Deer and Other Livestock Farming\",Dollars,H34,Total income per employee count,Financial ratios,\"352,900\",\"ANZSIC06 groups A017, A018, and A019\"',\n",
       " '2021,Level 3,AA14,\"Poultry, Deer and Other Livestock Farming\",Dollars,H35,Surplus per employee count,Financial ratios,\"18,300\",\"ANZSIC06 groups A017, A018, and A019\"',\n",
       " '2021,Level 3,AA14,\"Poultry, Deer and Other Livestock Farming\",Percentage,H36,Current ratio,Financial ratios,101,\"ANZSIC06 groups A017, A018, and A019\"',\n",
       " '2021,Level 3,AA14,\"Poultry, Deer and Other Livestock Farming\",Percentage,H37,Quick ratio,Financial ratios,63,\"ANZSIC06 groups A017, A018, and A019\"',\n",
       " '2021,Level 3,AA14,\"Poultry, Deer and Other Livestock Farming\",Percentage,H39,Return on equity,Financial ratios,4,\"ANZSIC06 groups A017, A018, and A019\"',\n",
       " '2021,Level 3,AA14,\"Poultry, Deer and Other Livestock Farming\",Percentage,H40,Return on total assets,Financial ratios,2,\"ANZSIC06 groups A017, A018, and A019\"',\n",
       " '2021,Level 3,AA14,\"Poultry, Deer and Other Livestock Farming\",Percentage,H41,Liabilities structure,Financial ratios,39,\"ANZSIC06 groups A017, A018, and A019\"',\n",
       " '2021,Level 4,AA141,\"Poultry, Deer and Other Livestock Farming\",Dollars (millions),H01,Total income,Financial performance,\"2,251\",\"ANZSIC06 groups A017, A018, and A019\"',\n",
       " '2021,Level 4,AA141,\"Poultry, Deer and Other Livestock Farming\",Dollars (millions),H04,\"Sales, government funding, grants and subsidies\",Financial performance,\"2,205\",\"ANZSIC06 groups A017, A018, and A019\"',\n",
       " '2021,Level 4,AA141,\"Poultry, Deer and Other Livestock Farming\",Dollars (millions),H05,\"Interest, dividends and donations\",Financial performance,23,\"ANZSIC06 groups A017, A018, and A019\"',\n",
       " '2021,Level 4,AA141,\"Poultry, Deer and Other Livestock Farming\",Dollars (millions),H07,Non-operating income,Financial performance,22,\"ANZSIC06 groups A017, A018, and A019\"',\n",
       " '2021,Level 4,AA141,\"Poultry, Deer and Other Livestock Farming\",Dollars (millions),H08,Total expenditure,Financial performance,\"2,138\",\"ANZSIC06 groups A017, A018, and A019\"',\n",
       " '2021,Level 4,AA141,\"Poultry, Deer and Other Livestock Farming\",Dollars (millions),H09,Interest and donations,Financial performance,93,\"ANZSIC06 groups A017, A018, and A019\"',\n",
       " '2021,Level 4,AA141,\"Poultry, Deer and Other Livestock Farming\",Dollars (millions),H10,Indirect taxes,Financial performance,18,\"ANZSIC06 groups A017, A018, and A019\"',\n",
       " '2021,Level 4,AA141,\"Poultry, Deer and Other Livestock Farming\",Dollars (millions),H11,Depreciation,Financial performance,129,\"ANZSIC06 groups A017, A018, and A019\"',\n",
       " '2021,Level 4,AA141,\"Poultry, Deer and Other Livestock Farming\",Dollars (millions),H12,Salaries and wages paid,Financial performance,313,\"ANZSIC06 groups A017, A018, and A019\"',\n",
       " '2021,Level 4,AA141,\"Poultry, Deer and Other Livestock Farming\",Dollars (millions),H13,Redundancy and severance,Financial performance,0,\"ANZSIC06 groups A017, A018, and A019\"',\n",
       " '2021,Level 4,AA141,\"Poultry, Deer and Other Livestock Farming\",Dollars (millions),H19,Purchases and other operating expenses,Financial performance,\"1,578\",\"ANZSIC06 groups A017, A018, and A019\"',\n",
       " '2021,Level 4,AA141,\"Poultry, Deer and Other Livestock Farming\",Dollars (millions),H20,Non-operating expenses,Financial performance,7,\"ANZSIC06 groups A017, A018, and A019\"',\n",
       " '2021,Level 4,AA141,\"Poultry, Deer and Other Livestock Farming\",Dollars (millions),H21,Opening stocks,Financial performance,694,\"ANZSIC06 groups A017, A018, and A019\"',\n",
       " '2021,Level 4,AA141,\"Poultry, Deer and Other Livestock Farming\",Dollars (millions),H22,Closing stocks,Financial performance,698,\"ANZSIC06 groups A017, A018, and A019\"',\n",
       " '2021,Level 4,AA141,\"Poultry, Deer and Other Livestock Farming\",Dollars (millions),H23,Surplus before income tax,Financial performance,117,\"ANZSIC06 groups A017, A018, and A019\"',\n",
       " '2021,Level 4,AA141,\"Poultry, Deer and Other Livestock Farming\",Dollars (millions),H24,Total assets,Financial position,\"7,247\",\"ANZSIC06 groups A017, A018, and A019\"',\n",
       " '2021,Level 4,AA141,\"Poultry, Deer and Other Livestock Farming\",Dollars (millions),H25,Current assets,Financial position,\"1,846\",\"ANZSIC06 groups A017, A018, and A019\"',\n",
       " '2021,Level 4,AA141,\"Poultry, Deer and Other Livestock Farming\",Dollars (millions),H26,Fixed tangible assets,Financial position,\"4,352\",\"ANZSIC06 groups A017, A018, and A019\"',\n",
       " '2021,Level 4,AA141,\"Poultry, Deer and Other Livestock Farming\",Dollars (millions),H29,Other assets,Financial position,\"1,049\",\"ANZSIC06 groups A017, A018, and A019\"',\n",
       " '2021,Level 4,AA141,\"Poultry, Deer and Other Livestock Farming\",Dollars (millions),H30,Total equity and liabilities,Financial position,\"7,247\",\"ANZSIC06 groups A017, A018, and A019\"',\n",
       " '2021,Level 4,AA141,\"Poultry, Deer and Other Livestock Farming\",Dollars (millions),H31,Shareholders funds or owners equity,Financial position,\"2,829\",\"ANZSIC06 groups A017, A018, and A019\"',\n",
       " '2021,Level 4,AA141,\"Poultry, Deer and Other Livestock Farming\",Dollars (millions),H32,Current liabilities,Financial position,\"1,836\",\"ANZSIC06 groups A017, A018, and A019\"',\n",
       " '2021,Level 4,AA141,\"Poultry, Deer and Other Livestock Farming\",Dollars (millions),H33,Other liabilities,Financial position,\"2,582\",\"ANZSIC06 groups A017, A018, and A019\"',\n",
       " '2021,Level 4,AA141,\"Poultry, Deer and Other Livestock Farming\",Dollars,H34,Total income per employee count,Financial ratios,\"352,900\",\"ANZSIC06 groups A017, A018, and A019\"',\n",
       " '2021,Level 4,AA141,\"Poultry, Deer and Other Livestock Farming\",Dollars,H35,Surplus per employee count,Financial ratios,\"18,300\",\"ANZSIC06 groups A017, A018, and A019\"',\n",
       " '2021,Level 4,AA141,\"Poultry, Deer and Other Livestock Farming\",Percentage,H36,Current ratio,Financial ratios,101,\"ANZSIC06 groups A017, A018, and A019\"',\n",
       " '2021,Level 4,AA141,\"Poultry, Deer and Other Livestock Farming\",Percentage,H37,Quick ratio,Financial ratios,63,\"ANZSIC06 groups A017, A018, and A019\"',\n",
       " '2021,Level 4,AA141,\"Poultry, Deer and Other Livestock Farming\",Percentage,H39,Return on equity,Financial ratios,4,\"ANZSIC06 groups A017, A018, and A019\"',\n",
       " '2021,Level 4,AA141,\"Poultry, Deer and Other Livestock Farming\",Percentage,H40,Return on total assets,Financial ratios,2,\"ANZSIC06 groups A017, A018, and A019\"',\n",
       " '2021,Level 4,AA141,\"Poultry, Deer and Other Livestock Farming\",Percentage,H41,Liabilities structure,Financial ratios,39,\"ANZSIC06 groups A017, A018, and A019\"',\n",
       " '2021,Level 3,AA21,Forestry and Logging,Dollars (millions),H01,Total income,Financial performance,\"6,471\",ANZSIC06 group A030',\n",
       " '2021,Level 3,AA21,Forestry and Logging,Dollars (millions),H04,Sales of goods and services,Financial performance,\"5,440\",ANZSIC06 group A030',\n",
       " '2021,Level 3,AA21,Forestry and Logging,Dollars (millions),H05,\"Interest, dividends and donations\",Financial performance,30,ANZSIC06 group A030',\n",
       " '2021,Level 3,AA21,Forestry and Logging,Dollars (millions),H06,\"Government funding, grants and subsidies\",Financial performance,36,ANZSIC06 group A030',\n",
       " '2021,Level 3,AA21,Forestry and Logging,Dollars (millions),H07,Non-operating income,Financial performance,964,ANZSIC06 group A030',\n",
       " '2021,Level 3,AA21,Forestry and Logging,Dollars (millions),H08,Total expenditure,Financial performance,\"4,613\",ANZSIC06 group A030',\n",
       " '2021,Level 3,AA21,Forestry and Logging,Dollars (millions),H09,Interest and donations,Financial performance,188,ANZSIC06 group A030',\n",
       " '2021,Level 3,AA21,Forestry and Logging,Dollars (millions),H10,Indirect taxes,Financial performance,26,ANZSIC06 group A030',\n",
       " '2021,Level 3,AA21,Forestry and Logging,Dollars (millions),H11,Depreciation,Financial performance,266,ANZSIC06 group A030',\n",
       " '2021,Level 3,AA21,Forestry and Logging,Dollars (millions),H12,Salaries and wages paid,Financial performance,433,ANZSIC06 group A030',\n",
       " '2021,Level 3,AA21,Forestry and Logging,Dollars (millions),H13,Redundancy and severance,Financial performance,0,ANZSIC06 group A030',\n",
       " '2021,Level 3,AA21,Forestry and Logging,Dollars (millions),H19,Purchases and other operating expenses,Financial performance,\"3,607\",ANZSIC06 group A030',\n",
       " '2021,Level 3,AA21,Forestry and Logging,Dollars (millions),H20,Non-operating expenses,Financial performance,93,ANZSIC06 group A030',\n",
       " '2021,Level 3,AA21,Forestry and Logging,Dollars (millions),H21,Opening stocks,Financial performance,295,ANZSIC06 group A030',\n",
       " '2021,Level 3,AA21,Forestry and Logging,Dollars (millions),H22,Closing stocks,Financial performance,316,ANZSIC06 group A030',\n",
       " '2021,Level 3,AA21,Forestry and Logging,Dollars (millions),H23,Surplus before income tax,Financial performance,\"1,879\",ANZSIC06 group A030',\n",
       " '2021,Level 3,AA21,Forestry and Logging,Dollars (millions),H24,Total assets,Financial position,\"27,197\",ANZSIC06 group A030',\n",
       " '2021,Level 3,AA21,Forestry and Logging,Dollars (millions),H25,Current assets,Financial position,\"2,001\",ANZSIC06 group A030',\n",
       " '2021,Level 3,AA21,Forestry and Logging,Dollars (millions),H26,Fixed tangible assets,Financial position,\"5,385\",ANZSIC06 group A030',\n",
       " '2021,Level 3,AA21,Forestry and Logging,Dollars (millions),H29,Other assets,Financial position,\"19,811\",ANZSIC06 group A030',\n",
       " '2021,Level 3,AA21,Forestry and Logging,Dollars (millions),H30,Total equity and liabilities,Financial position,\"27,197\",ANZSIC06 group A030',\n",
       " '2021,Level 3,AA21,Forestry and Logging,Dollars (millions),H31,Shareholders funds or owners equity,Financial position,\"17,416\",ANZSIC06 group A030',\n",
       " '2021,Level 3,AA21,Forestry and Logging,Dollars (millions),H32,Current liabilities,Financial position,\"2,900\",ANZSIC06 group A030',\n",
       " '2021,Level 3,AA21,Forestry and Logging,Dollars (millions),H33,Other liabilities,Financial position,\"6,881\",ANZSIC06 group A030',\n",
       " '2021,Level 3,AA21,Forestry and Logging,Dollars,H34,Total income per employee count,Financial ratios,\"1,244,400\",ANZSIC06 group A030',\n",
       " '2021,Level 3,AA21,Forestry and Logging,Dollars,H35,Surplus per employee count,Financial ratios,\"361,400\",ANZSIC06 group A030',\n",
       " '2021,Level 3,AA21,Forestry and Logging,Percentage,H36,Current ratio,Financial ratios,69,ANZSIC06 group A030',\n",
       " '2021,Level 3,AA21,Forestry and Logging,Percentage,H37,Quick ratio,Financial ratios,58,ANZSIC06 group A030',\n",
       " '2021,Level 3,AA21,Forestry and Logging,Percentage,H39,Return on equity,Financial ratios,11,ANZSIC06 group A030',\n",
       " '2021,Level 3,AA21,Forestry and Logging,Percentage,H40,Return on total assets,Financial ratios,7,ANZSIC06 group A030',\n",
       " '2021,Level 3,AA21,Forestry and Logging,Percentage,H41,Liabilities structure,Financial ratios,64,ANZSIC06 group A030',\n",
       " '2021,Level 4,AA211,Forestry and Logging,Dollars (millions),H01,Total income,Financial performance,\"6,471\",ANZSIC06 group A030',\n",
       " '2021,Level 4,AA211,Forestry and Logging,Dollars (millions),H04,Sales of goods and services,Financial performance,\"5,440\",ANZSIC06 group A030',\n",
       " '2021,Level 4,AA211,Forestry and Logging,Dollars (millions),H05,\"Interest, dividends and donations\",Financial performance,30,ANZSIC06 group A030',\n",
       " '2021,Level 4,AA211,Forestry and Logging,Dollars (millions),H06,\"Government funding, grants and subsidies\",Financial performance,36,ANZSIC06 group A030',\n",
       " '2021,Level 4,AA211,Forestry and Logging,Dollars (millions),H07,Non-operating income,Financial performance,964,ANZSIC06 group A030',\n",
       " '2021,Level 4,AA211,Forestry and Logging,Dollars (millions),H08,Total expenditure,Financial performance,\"4,613\",ANZSIC06 group A030',\n",
       " '2021,Level 4,AA211,Forestry and Logging,Dollars (millions),H09,Interest and donations,Financial performance,188,ANZSIC06 group A030',\n",
       " '2021,Level 4,AA211,Forestry and Logging,Dollars (millions),H10,Indirect taxes,Financial performance,26,ANZSIC06 group A030',\n",
       " '2021,Level 4,AA211,Forestry and Logging,Dollars (millions),H11,Depreciation,Financial performance,266,ANZSIC06 group A030',\n",
       " '2021,Level 4,AA211,Forestry and Logging,Dollars (millions),H12,Salaries and wages paid,Financial performance,433,ANZSIC06 group A030',\n",
       " '2021,Level 4,AA211,Forestry and Logging,Dollars (millions),H13,Redundancy and severance,Financial performance,0,ANZSIC06 group A030',\n",
       " '2021,Level 4,AA211,Forestry and Logging,Dollars (millions),H19,Purchases and other operating expenses,Financial performance,\"3,607\",ANZSIC06 group A030',\n",
       " '2021,Level 4,AA211,Forestry and Logging,Dollars (millions),H20,Non-operating expenses,Financial performance,93,ANZSIC06 group A030',\n",
       " '2021,Level 4,AA211,Forestry and Logging,Dollars (millions),H21,Opening stocks,Financial performance,295,ANZSIC06 group A030',\n",
       " '2021,Level 4,AA211,Forestry and Logging,Dollars (millions),H22,Closing stocks,Financial performance,316,ANZSIC06 group A030',\n",
       " '2021,Level 4,AA211,Forestry and Logging,Dollars (millions),H23,Surplus before income tax,Financial performance,\"1,879\",ANZSIC06 group A030',\n",
       " '2021,Level 4,AA211,Forestry and Logging,Dollars (millions),H24,Total assets,Financial position,\"27,197\",ANZSIC06 group A030',\n",
       " '2021,Level 4,AA211,Forestry and Logging,Dollars (millions),H25,Current assets,Financial position,\"2,001\",ANZSIC06 group A030',\n",
       " '2021,Level 4,AA211,Forestry and Logging,Dollars (millions),H26,Fixed tangible assets,Financial position,\"5,385\",ANZSIC06 group A030',\n",
       " '2021,Level 4,AA211,Forestry and Logging,Dollars (millions),H29,Other assets,Financial position,\"19,811\",ANZSIC06 group A030',\n",
       " '2021,Level 4,AA211,Forestry and Logging,Dollars (millions),H30,Total equity and liabilities,Financial position,\"27,197\",ANZSIC06 group A030',\n",
       " '2021,Level 4,AA211,Forestry and Logging,Dollars (millions),H31,Shareholders funds or owners equity,Financial position,\"17,416\",ANZSIC06 group A030',\n",
       " '2021,Level 4,AA211,Forestry and Logging,Dollars (millions),H32,Current liabilities,Financial position,\"2,900\",ANZSIC06 group A030',\n",
       " '2021,Level 4,AA211,Forestry and Logging,Dollars (millions),H33,Other liabilities,Financial position,\"6,881\",ANZSIC06 group A030',\n",
       " '2021,Level 4,AA211,Forestry and Logging,Dollars,H34,Total income per employee count,Financial ratios,\"1,244,400\",ANZSIC06 group A030',\n",
       " '2021,Level 4,AA211,Forestry and Logging,Dollars,H35,Surplus per employee count,Financial ratios,\"361,400\",ANZSIC06 group A030',\n",
       " '2021,Level 4,AA211,Forestry and Logging,Percentage,H36,Current ratio,Financial ratios,69,ANZSIC06 group A030',\n",
       " '2021,Level 4,AA211,Forestry and Logging,Percentage,H37,Quick ratio,Financial ratios,58,ANZSIC06 group A030',\n",
       " '2021,Level 4,AA211,Forestry and Logging,Percentage,H39,Return on equity,Financial ratios,11,ANZSIC06 group A030',\n",
       " '2021,Level 4,AA211,Forestry and Logging,Percentage,H40,Return on total assets,Financial ratios,7,ANZSIC06 group A030',\n",
       " '2021,Level 4,AA211,Forestry and Logging,Percentage,H41,Liabilities structure,Financial ratios,64,ANZSIC06 group A030',\n",
       " '2021,Level 3,AA31,Fishing and Aquaculture,Dollars (millions),H01,Total income,Financial performance,\"1,535\",ANZSIC06 groups A020 and A041',\n",
       " '2021,Level 3,AA31,Fishing and Aquaculture,Dollars (millions),H04,\"Sales, government funding, grants and subsidies\",Financial performance,\"1,503\",ANZSIC06 groups A020 and A041',\n",
       " '2021,Level 3,AA31,Fishing and Aquaculture,Dollars (millions),H05,\"Interest, dividends and donations\",Financial performance,18,ANZSIC06 groups A020 and A041',\n",
       " '2021,Level 3,AA31,Fishing and Aquaculture,Dollars (millions),H07,Non-operating income,Financial performance,14,ANZSIC06 groups A020 and A041',\n",
       " '2021,Level 3,AA31,Fishing and Aquaculture,Dollars (millions),H08,Total expenditure,Financial performance,\"1,388\",ANZSIC06 groups A020 and A041',\n",
       " '2021,Level 3,AA31,Fishing and Aquaculture,Dollars (millions),H09,Interest and donations,Financial performance,22,ANZSIC06 groups A020 and A041',\n",
       " '2021,Level 3,AA31,Fishing and Aquaculture,Dollars (millions),H10,Indirect taxes,Financial performance,20,ANZSIC06 groups A020 and A041',\n",
       " '2021,Level 3,AA31,Fishing and Aquaculture,Dollars (millions),H11,Depreciation,Financial performance,80,ANZSIC06 groups A020 and A041',\n",
       " '2021,Level 3,AA31,Fishing and Aquaculture,Dollars (millions),H12,Salaries and wages paid,Financial performance,250,ANZSIC06 groups A020 and A041',\n",
       " '2021,Level 3,AA31,Fishing and Aquaculture,Dollars (millions),H13,Redundancy and severance,Financial performance,0,ANZSIC06 groups A020 and A041',\n",
       " '2021,Level 3,AA31,Fishing and Aquaculture,Dollars (millions),H19,Purchases and other operating expenses,Financial performance,\"1,009\",ANZSIC06 groups A020 and A041',\n",
       " '2021,Level 3,AA31,Fishing and Aquaculture,Dollars (millions),H20,Non-operating expenses,Financial performance,7,ANZSIC06 groups A020 and A041',\n",
       " '2021,Level 3,AA31,Fishing and Aquaculture,Dollars (millions),H21,Opening stocks,Financial performance,215,ANZSIC06 groups A020 and A041',\n",
       " '2021,Level 3,AA31,Fishing and Aquaculture,Dollars (millions),H22,Closing stocks,Financial performance,236,ANZSIC06 groups A020 and A041',\n",
       " '2021,Level 3,AA31,Fishing and Aquaculture,Dollars (millions),H23,Surplus before income tax,Financial performance,167,ANZSIC06 groups A020 and A041',\n",
       " '2021,Level 3,AA31,Fishing and Aquaculture,Dollars (millions),H24,Total assets,Financial position,\"2,443\",ANZSIC06 groups A020 and A041',\n",
       " '2021,Level 3,AA31,Fishing and Aquaculture,Dollars (millions),H25,Current assets,Financial position,709,ANZSIC06 groups A020 and A041',\n",
       " '2021,Level 3,AA31,Fishing and Aquaculture,Dollars (millions),H26,Fixed tangible assets,Financial position,616,ANZSIC06 groups A020 and A041',\n",
       " '2021,Level 3,AA31,Fishing and Aquaculture,Dollars (millions),H29,Other assets,Financial position,\"1,117\",ANZSIC06 groups A020 and A041',\n",
       " '2021,Level 3,AA31,Fishing and Aquaculture,Dollars (millions),H30,Total equity and liabilities,Financial position,\"2,443\",ANZSIC06 groups A020 and A041',\n",
       " '2021,Level 3,AA31,Fishing and Aquaculture,Dollars (millions),H31,Shareholders funds or owners equity,Financial position,\"1,286\",ANZSIC06 groups A020 and A041',\n",
       " '2021,Level 3,AA31,Fishing and Aquaculture,Dollars (millions),H32,Current liabilities,Financial position,471,ANZSIC06 groups A020 and A041',\n",
       " '2021,Level 3,AA31,Fishing and Aquaculture,Dollars (millions),H33,Other liabilities,Financial position,686,ANZSIC06 groups A020 and A041',\n",
       " '2021,Level 3,AA31,Fishing and Aquaculture,Dollars,H34,Total income per employee count,Financial ratios,\"503,700\",ANZSIC06 groups A020 and A041',\n",
       " '2021,Level 3,AA31,Fishing and Aquaculture,Dollars,H35,Surplus per employee count,Financial ratios,\"54,900\",ANZSIC06 groups A020 and A041',\n",
       " '2021,Level 3,AA31,Fishing and Aquaculture,Percentage,H36,Current ratio,Financial ratios,151,ANZSIC06 groups A020 and A041',\n",
       " '2021,Level 3,AA31,Fishing and Aquaculture,Percentage,H37,Quick ratio,Financial ratios,101,ANZSIC06 groups A020 and A041',\n",
       " '2021,Level 3,AA31,Fishing and Aquaculture,Percentage,H39,Return on equity,Financial ratios,13,ANZSIC06 groups A020 and A041',\n",
       " '2021,Level 3,AA31,Fishing and Aquaculture,Percentage,H40,Return on total assets,Financial ratios,7,ANZSIC06 groups A020 and A041',\n",
       " '2021,Level 3,AA31,Fishing and Aquaculture,Percentage,H41,Liabilities structure,Financial ratios,53,ANZSIC06 groups A020 and A041',\n",
       " '2021,Level 3,AA32,\"Agriculture, Forestry and Fishing Support Services and Hunting\",Dollars (millions),H01,Total income,Financial performance,\"5,650\",\"ANZSIC06 groups A042, A051, and A052\"',\n",
       " '2021,Level 3,AA32,\"Agriculture, Forestry and Fishing Support Services and Hunting\",Dollars (millions),H04,Sales of goods and services,Financial performance,\"5,441\",\"ANZSIC06 groups A042, A051, and A052\"',\n",
       " '2021,Level 3,AA32,\"Agriculture, Forestry and Fishing Support Services and Hunting\",Dollars (millions),H05,\"Interest, dividends and donations\",Financial performance,30,\"ANZSIC06 groups A042, A051, and A052\"',\n",
       " '2021,Level 3,AA32,\"Agriculture, Forestry and Fishing Support Services and Hunting\",Dollars (millions),H06,\"Government funding, grants and subsidies\",Financial performance,120,\"ANZSIC06 groups A042, A051, and A052\"',\n",
       " '2021,Level 3,AA32,\"Agriculture, Forestry and Fishing Support Services and Hunting\",Dollars (millions),H07,Non-operating income,Financial performance,58,\"ANZSIC06 groups A042, A051, and A052\"',\n",
       " '2021,Level 3,AA32,\"Agriculture, Forestry and Fishing Support Services and Hunting\",Dollars (millions),H08,Total expenditure,Financial performance,\"5,133\",\"ANZSIC06 groups A042, A051, and A052\"',\n",
       " '2021,Level 3,AA32,\"Agriculture, Forestry and Fishing Support Services and Hunting\",Dollars (millions),H09,Interest and donations,Financial performance,109,\"ANZSIC06 groups A042, A051, and A052\"',\n",
       " '2021,Level 3,AA32,\"Agriculture, Forestry and Fishing Support Services and Hunting\",Dollars (millions),H10,Indirect taxes,Financial performance,22,\"ANZSIC06 groups A042, A051, and A052\"',\n",
       " '2021,Level 3,AA32,\"Agriculture, Forestry and Fishing Support Services and Hunting\",Dollars (millions),H11,Depreciation,Financial performance,306,\"ANZSIC06 groups A042, A051, and A052\"',\n",
       " '2021,Level 3,AA32,\"Agriculture, Forestry and Fishing Support Services and Hunting\",Dollars (millions),H12,Salaries and wages paid,Financial performance,\"1,490\",\"ANZSIC06 groups A042, A051, and A052\"',\n",
       " '2021,Level 3,AA32,\"Agriculture, Forestry and Fishing Support Services and Hunting\",Dollars (millions),H13,Redundancy and severance,Financial performance,1,\"ANZSIC06 groups A042, A051, and A052\"',\n",
       " '2021,Level 3,AA32,\"Agriculture, Forestry and Fishing Support Services and Hunting\",Dollars (millions),H19,Purchases and other operating expenses,Financial performance,\"3,173\",\"ANZSIC06 groups A042, A051, and A052\"',\n",
       " '2021,Level 3,AA32,\"Agriculture, Forestry and Fishing Support Services and Hunting\",Dollars (millions),H20,Non-operating expenses,Financial performance,34,\"ANZSIC06 groups A042, A051, and A052\"',\n",
       " '2021,Level 3,AA32,\"Agriculture, Forestry and Fishing Support Services and Hunting\",Dollars (millions),H21,Opening stocks,Financial performance,280,\"ANZSIC06 groups A042, A051, and A052\"',\n",
       " '2021,Level 3,AA32,\"Agriculture, Forestry and Fishing Support Services and Hunting\",Dollars (millions),H22,Closing stocks,Financial performance,282,\"ANZSIC06 groups A042, A051, and A052\"',\n",
       " '2021,Level 3,AA32,\"Agriculture, Forestry and Fishing Support Services and Hunting\",Dollars (millions),H23,Surplus before income tax,Financial performance,519,\"ANZSIC06 groups A042, A051, and A052\"',\n",
       " '2021,Level 3,AA32,\"Agriculture, Forestry and Fishing Support Services and Hunting\",Dollars (millions),H24,Total assets,Financial position,\"7,353\",\"ANZSIC06 groups A042, A051, and A052\"',\n",
       " '2021,Level 3,AA32,\"Agriculture, Forestry and Fishing Support Services and Hunting\",Dollars (millions),H25,Current assets,Financial position,\"1,959\",\"ANZSIC06 groups A042, A051, and A052\"',\n",
       " '2021,Level 3,AA32,\"Agriculture, Forestry and Fishing Support Services and Hunting\",Dollars (millions),H26,Fixed tangible assets,Financial position,\"4,032\",\"ANZSIC06 groups A042, A051, and A052\"',\n",
       " '2021,Level 3,AA32,\"Agriculture, Forestry and Fishing Support Services and Hunting\",Dollars (millions),H29,Other assets,Financial position,\"1,362\",\"ANZSIC06 groups A042, A051, and A052\"',\n",
       " '2021,Level 3,AA32,\"Agriculture, Forestry and Fishing Support Services and Hunting\",Dollars (millions),H30,Total equity and liabilities,Financial position,\"7,353\",\"ANZSIC06 groups A042, A051, and A052\"',\n",
       " '2021,Level 3,AA32,\"Agriculture, Forestry and Fishing Support Services and Hunting\",Dollars (millions),H31,Shareholders funds or owners equity,Financial position,\"2,875\",\"ANZSIC06 groups A042, A051, and A052\"',\n",
       " '2021,Level 3,AA32,\"Agriculture, Forestry and Fishing Support Services and Hunting\",Dollars (millions),H32,Current liabilities,Financial position,\"1,870\",\"ANZSIC06 groups A042, A051, and A052\"',\n",
       " '2021,Level 3,AA32,\"Agriculture, Forestry and Fishing Support Services and Hunting\",Dollars (millions),H33,Other liabilities,Financial position,\"2,608\",\"ANZSIC06 groups A042, A051, and A052\"',\n",
       " '2021,Level 3,AA32,\"Agriculture, Forestry and Fishing Support Services and Hunting\",Dollars,H34,Total income per employee count,Financial ratios,\"189,500\",\"ANZSIC06 groups A042, A051, and A052\"',\n",
       " '2021,Level 3,AA32,\"Agriculture, Forestry and Fishing Support Services and Hunting\",Dollars,H35,Surplus per employee count,Financial ratios,\"17,400\",\"ANZSIC06 groups A042, A051, and A052\"',\n",
       " '2021,Level 3,AA32,\"Agriculture, Forestry and Fishing Support Services and Hunting\",Percentage,H36,Current ratio,Financial ratios,105,\"ANZSIC06 groups A042, A051, and A052\"',\n",
       " '2021,Level 3,AA32,\"Agriculture, Forestry and Fishing Support Services and Hunting\",Percentage,H37,Quick ratio,Financial ratios,90,\"ANZSIC06 groups A042, A051, and A052\"',\n",
       " '2021,Level 3,AA32,\"Agriculture, Forestry and Fishing Support Services and Hunting\",Percentage,H39,Return on equity,Financial ratios,18,\"ANZSIC06 groups A042, A051, and A052\"',\n",
       " '2021,Level 3,AA32,\"Agriculture, Forestry and Fishing Support Services and Hunting\",Percentage,H40,Return on total assets,Financial ratios,7,\"ANZSIC06 groups A042, A051, and A052\"',\n",
       " '2021,Level 3,AA32,\"Agriculture, Forestry and Fishing Support Services and Hunting\",Percentage,H41,Liabilities structure,Financial ratios,39,\"ANZSIC06 groups A042, A051, and A052\"',\n",
       " '2021,Level 1,BB,Mining,Dollars (millions),H01,Total income,Financial performance,\"4,687\",ANZSIC06 division B',\n",
       " '2021,Level 1,BB,Mining,Dollars (millions),H04,Sales of goods and services,Financial performance,\"4,172\",ANZSIC06 division B',\n",
       " '2021,Level 1,BB,Mining,Dollars (millions),H05,\"Interest, dividends and donations\",Financial performance,195,ANZSIC06 division B',\n",
       " '2021,Level 1,BB,Mining,Dollars (millions),H06,\"Government funding, grants and subsidies\",Financial performance,21,ANZSIC06 division B',\n",
       " '2021,Level 1,BB,Mining,Dollars (millions),H07,Non-operating income,Financial performance,299,ANZSIC06 division B',\n",
       " '2021,Level 1,BB,Mining,Dollars (millions),H08,Total expenditure,Financial performance,\"4,390\",ANZSIC06 division B',\n",
       " '2021,Level 1,BB,Mining,Dollars (millions),H09,Interest and donations,Financial performance,100,ANZSIC06 division B',\n",
       " '2021,Level 1,BB,Mining,Dollars (millions),H10,Indirect taxes,Financial performance,41,ANZSIC06 division B',\n",
       " '2021,Level 1,BB,Mining,Dollars (millions),H11,Depreciation,Financial performance,698,ANZSIC06 division B',\n",
       " '2021,Level 1,BB,Mining,Dollars (millions),H12,Salaries and wages paid,Financial performance,629,ANZSIC06 division B',\n",
       " '2021,Level 1,BB,Mining,Dollars (millions),H13,Redundancy and severance,Financial performance,3,ANZSIC06 division B',\n",
       " '2021,Level 1,BB,Mining,Dollars (millions),H19,Purchases and other operating expenses,Financial performance,\"2,517\",ANZSIC06 division B',\n",
       " '2021,Level 1,BB,Mining,Dollars (millions),H20,Non-operating expenses,Financial performance,405,ANZSIC06 division B',\n",
       " '2021,Level 1,BB,Mining,Dollars (millions),H21,Opening stocks,Financial performance,310,ANZSIC06 division B',\n",
       " '2021,Level 1,BB,Mining,Dollars (millions),H22,Closing stocks,Financial performance,303,ANZSIC06 division B',\n",
       " '2021,Level 1,BB,Mining,Dollars (millions),H23,Surplus before income tax,Financial performance,290,ANZSIC06 division B',\n",
       " '2021,Level 1,BB,Mining,Dollars (millions),H24,Total assets,Financial position,\"11,722\",ANZSIC06 division B',\n",
       " '2021,Level 1,BB,Mining,Dollars (millions),H25,Current assets,Financial position,\"3,387\",ANZSIC06 division B',\n",
       " '2021,Level 1,BB,Mining,Dollars (millions),H26,Fixed tangible assets,Financial position,\"6,035\",ANZSIC06 division B',\n",
       " '2021,Level 1,BB,Mining,Dollars (millions),H27,Additions to fixed assets,Financial position,\"1,062\",ANZSIC06 division B',\n",
       " '2021,Level 1,BB,Mining,Dollars (millions),H28,Disposals of fixed assets,Financial position,333,ANZSIC06 division B',\n",
       " '2021,Level 1,BB,Mining,Dollars (millions),H29,Other assets,Financial position,\"2,300\",ANZSIC06 division B',\n",
       " '2021,Level 1,BB,Mining,Dollars (millions),H30,Total equity and liabilities,Financial position,\"11,722\",ANZSIC06 division B',\n",
       " '2021,Level 1,BB,Mining,Dollars (millions),H31,Shareholders funds or owners equity,Financial position,\"2,932\",ANZSIC06 division B',\n",
       " '2021,Level 1,BB,Mining,Dollars (millions),H32,Current liabilities,Financial position,\"3,239\",ANZSIC06 division B',\n",
       " '2021,Level 1,BB,Mining,Dollars (millions),H33,Other liabilities,Financial position,\"5,552\",ANZSIC06 division B',\n",
       " '2021,Level 1,BB,Mining,Dollars,H34,Total income per employee count,Financial ratios,\"886,300\",ANZSIC06 division B',\n",
       " '2021,Level 1,BB,Mining,Dollars,H35,Surplus per employee count,Financial ratios,\"54,900\",ANZSIC06 division B',\n",
       " '2021,Level 1,BB,Mining,Percentage,H36,Current ratio,Financial ratios,105,ANZSIC06 division B',\n",
       " '2021,Level 1,BB,Mining,Percentage,H37,Quick ratio,Financial ratios,95,ANZSIC06 division B',\n",
       " '2021,Level 1,BB,Mining,Percentage,H39,Return on equity,Financial ratios,10,ANZSIC06 division B',\n",
       " '2021,Level 1,BB,Mining,Percentage,H40,Return on total assets,Financial ratios,2,ANZSIC06 division B',\n",
       " '2021,Level 1,BB,Mining,Percentage,H41,Liabilities structure,Financial ratios,25,ANZSIC06 division B',\n",
       " '2021,Level 1,CC,Manufacturing,Dollars (millions),H01,Total income,Financial performance,\"117,404\",ANZSIC06 division C',\n",
       " '2021,Level 1,CC,Manufacturing,Dollars (millions),H02,Sales of goods not further processed,Financial performance,\"9,361\",ANZSIC06 division C',\n",
       " '2021,Level 1,CC,Manufacturing,Dollars (millions),H03,Sales of other goods and services,Financial performance,\"105,546\",ANZSIC06 division C',\n",
       " '2021,Level 1,CC,Manufacturing,Dollars (millions),H05,\"Interest, dividends and donations\",Financial performance,281,ANZSIC06 division C',\n",
       " '2021,Level 1,CC,Manufacturing,Dollars (millions),H06,\"Government funding, grants and subsidies\",Financial performance,\"1,170\",ANZSIC06 division C',\n",
       " '2021,Level 1,CC,Manufacturing,Dollars (millions),H07,Non-operating income,Financial performance,\"1,046\",ANZSIC06 division C',\n",
       " '2021,Level 1,CC,Manufacturing,Dollars (millions),H08,Total expenditure,Financial performance,\"111,937\",ANZSIC06 division C',\n",
       " '2021,Level 1,CC,Manufacturing,Dollars (millions),H09,Interest and donations,Financial performance,893,ANZSIC06 division C',\n",
       " '2021,Level 1,CC,Manufacturing,Dollars (millions),H10,Indirect taxes,Financial performance,\"3,204\",ANZSIC06 division C',\n",
       " '2021,Level 1,CC,Manufacturing,Dollars (millions),H11,Depreciation,Financial performance,\"3,731\",ANZSIC06 division C',\n",
       " '2021,Level 1,CC,Manufacturing,Dollars (millions),H12,Salaries and wages paid,Financial performance,\"16,647\",ANZSIC06 division C',\n",
       " '2021,Level 1,CC,Manufacturing,Dollars (millions),H13,Redundancy and severance,Financial performance,67,ANZSIC06 division C',\n",
       " '2021,Level 1,CC,Manufacturing,Dollars (millions),H17,Purchases of goods bought for resale,Financial performance,\"6,939\",ANZSIC06 division C',\n",
       " '2021,Level 1,CC,Manufacturing,Dollars (millions),H18,Other Purchases and operating expenses,Financial performance,\"78,874\",ANZSIC06 division C',\n",
       " '2021,Level 1,CC,Manufacturing,Dollars (millions),H20,Non-operating expenses,Financial performance,\"1,650\",ANZSIC06 division C',\n",
       " '2021,Level 1,CC,Manufacturing,Dollars (millions),H21,Opening stocks,Financial performance,\"15,309\",ANZSIC06 division C',\n",
       " '2021,Level 1,CC,Manufacturing,Dollars (millions),H22,Closing stocks,Financial performance,\"15,825\",ANZSIC06 division C',\n",
       " '2021,Level 1,CC,Manufacturing,Dollars (millions),H23,Surplus before income tax,Financial performance,\"5,983\",ANZSIC06 division C',\n",
       " '2021,Level 1,CC,Manufacturing,Dollars (millions),H24,Total assets,Financial position,\"98,721\",ANZSIC06 division C',\n",
       " '2021,Level 1,CC,Manufacturing,Dollars (millions),H25,Current assets,Financial position,\"45,098\",ANZSIC06 division C',\n",
       " '2021,Level 1,CC,Manufacturing,Dollars (millions),H26,Fixed tangible assets,Financial position,\"31,093\",ANZSIC06 division C',\n",
       " '2021,Level 1,CC,Manufacturing,Dollars (millions),H27,Additions to fixed assets,Financial position,\"4,201\",ANZSIC06 division C',\n",
       " '2021,Level 1,CC,Manufacturing,Dollars (millions),H28,Disposals of fixed assets,Financial position,\"1,244\",ANZSIC06 division C',\n",
       " '2021,Level 1,CC,Manufacturing,Dollars (millions),H29,Other assets,Financial position,\"22,530\",ANZSIC06 division C',\n",
       " '2021,Level 1,CC,Manufacturing,Dollars (millions),H30,Total equity and liabilities,Financial position,\"98,721\",ANZSIC06 division C',\n",
       " '2021,Level 1,CC,Manufacturing,Dollars (millions),H31,Shareholders funds or owners equity,Financial position,\"45,135\",ANZSIC06 division C',\n",
       " '2021,Level 1,CC,Manufacturing,Dollars (millions),H32,Current liabilities,Financial position,\"30,837\",ANZSIC06 division C',\n",
       " '2021,Level 1,CC,Manufacturing,Dollars (millions),H33,Other liabilities,Financial position,\"22,750\",ANZSIC06 division C',\n",
       " '2021,Level 1,CC,Manufacturing,Dollars,H34,Total income per employee count,Financial ratios,\"495,000\",ANZSIC06 division C',\n",
       " '2021,Level 1,CC,Manufacturing,Dollars,H35,Surplus per employee count,Financial ratios,\"25,200\",ANZSIC06 division C',\n",
       " '2021,Level 1,CC,Manufacturing,Percentage,H36,Current ratio,Financial ratios,146,ANZSIC06 division C',\n",
       " '2021,Level 1,CC,Manufacturing,Percentage,H37,Quick ratio,Financial ratios,95,ANZSIC06 division C',\n",
       " '2021,Level 1,CC,Manufacturing,Percentage,H38,Margin on sales of goods for resale,Financial ratios,26,ANZSIC06 division C',\n",
       " '2021,Level 1,CC,Manufacturing,Percentage,H39,Return on equity,Financial ratios,13,ANZSIC06 division C',\n",
       " '2021,Level 1,CC,Manufacturing,Percentage,H40,Return on total assets,Financial ratios,6,ANZSIC06 division C',\n",
       " '2021,Level 1,CC,Manufacturing,Percentage,H41,Liabilities structure,Financial ratios,46,ANZSIC06 division C',\n",
       " '2021,Level 3,CC15,Beverage and Tobacco Product Manufacturing,Dollars (millions),H01,Total income,Financial performance,\"6,374\",ANZSIC06 groups C121 and C122',\n",
       " '2021,Level 3,CC15,Beverage and Tobacco Product Manufacturing,Dollars (millions),H02,Sales of goods not further processed,Financial performance,332,ANZSIC06 groups C121 and C122',\n",
       " '2021,Level 3,CC15,Beverage and Tobacco Product Manufacturing,Dollars (millions),H03,Sales of other goods and services,Financial performance,\"5,799\",ANZSIC06 groups C121 and C122',\n",
       " '2021,Level 3,CC15,Beverage and Tobacco Product Manufacturing,Dollars (millions),H05,\"Interest, dividends and donations\",Financial performance,16,ANZSIC06 groups C121 and C122',\n",
       " '2021,Level 3,CC15,Beverage and Tobacco Product Manufacturing,Dollars (millions),H06,\"Government funding, grants and subsidies\",Financial performance,21,ANZSIC06 groups C121 and C122',\n",
       " '2021,Level 3,CC15,Beverage and Tobacco Product Manufacturing,Dollars (millions),H07,Non-operating income,Financial performance,207,ANZSIC06 groups C121 and C122',\n",
       " '2021,Level 3,CC15,Beverage and Tobacco Product Manufacturing,Dollars (millions),H08,Total expenditure,Financial performance,\"6,199\",ANZSIC06 groups C121 and C122',\n",
       " '2021,Level 3,CC15,Beverage and Tobacco Product Manufacturing,Dollars (millions),H09,Interest and donations,Financial performance,103,ANZSIC06 groups C121 and C122',\n",
       " '2021,Level 3,CC15,Beverage and Tobacco Product Manufacturing,Dollars (millions),H10,Indirect taxes,Financial performance,613,ANZSIC06 groups C121 and C122',\n",
       " '2021,Level 3,CC15,Beverage and Tobacco Product Manufacturing,Dollars (millions),H11,Depreciation,Financial performance,C,ANZSIC06 groups C121 and C122',\n",
       " '2021,Level 3,CC15,Beverage and Tobacco Product Manufacturing,Dollars (millions),H12,Salaries and wages paid,Financial performance,675,ANZSIC06 groups C121 and C122',\n",
       " '2021,Level 3,CC15,Beverage and Tobacco Product Manufacturing,Dollars (millions),H13,Redundancy and severance,Financial performance,4,ANZSIC06 groups C121 and C122',\n",
       " '2021,Level 3,CC15,Beverage and Tobacco Product Manufacturing,Dollars (millions),H17,Purchases of goods bought for resale,Financial performance,266,ANZSIC06 groups C121 and C122',\n",
       " '2021,Level 3,CC15,Beverage and Tobacco Product Manufacturing,Dollars (millions),H18,Other Purchases and operating expenses,Financial performance,\"3,954\",ANZSIC06 groups C121 and C122',\n",
       " '2021,Level 3,CC15,Beverage and Tobacco Product Manufacturing,Dollars (millions),H20,Non-operating expenses,Financial performance,C,ANZSIC06 groups C121 and C122',\n",
       " '2021,Level 3,CC15,Beverage and Tobacco Product Manufacturing,Dollars (millions),H21,Opening stocks,Financial performance,\"1,689\",ANZSIC06 groups C121 and C122',\n",
       " '2021,Level 3,CC15,Beverage and Tobacco Product Manufacturing,Dollars (millions),H22,Closing stocks,Financial performance,\"1,671\",ANZSIC06 groups C121 and C122',\n",
       " '2021,Level 3,CC15,Beverage and Tobacco Product Manufacturing,Dollars (millions),H23,Surplus before income tax,Financial performance,158,ANZSIC06 groups C121 and C122',\n",
       " '2021,Level 3,CC15,Beverage and Tobacco Product Manufacturing,Dollars (millions),H24,Total assets,Financial position,\"9,496\",ANZSIC06 groups C121 and C122',\n",
       " '2021,Level 3,CC15,Beverage and Tobacco Product Manufacturing,Dollars (millions),H25,Current assets,Financial position,\"3,952\",ANZSIC06 groups C121 and C122',\n",
       " '2021,Level 3,CC15,Beverage and Tobacco Product Manufacturing,Dollars (millions),H26,Fixed tangible assets,Financial position,\"3,831\",ANZSIC06 groups C121 and C122',\n",
       " '2021,Level 3,CC15,Beverage and Tobacco Product Manufacturing,Dollars (millions),H27,Additions to fixed assets,Financial position,358,ANZSIC06 groups C121 and C122',\n",
       " '2021,Level 3,CC15,Beverage and Tobacco Product Manufacturing,Dollars (millions),H28,Disposals of fixed assets,Financial position,151,ANZSIC06 groups C121 and C122',\n",
       " '2021,Level 3,CC15,Beverage and Tobacco Product Manufacturing,Dollars (millions),H29,Other assets,Financial position,\"1,714\",ANZSIC06 groups C121 and C122',\n",
       " '2021,Level 3,CC15,Beverage and Tobacco Product Manufacturing,Dollars (millions),H30,Total equity and liabilities,Financial position,\"9,496\",ANZSIC06 groups C121 and C122',\n",
       " '2021,Level 3,CC15,Beverage and Tobacco Product Manufacturing,Dollars (millions),H31,Shareholders funds or owners equity,Financial position,\"5,042\",ANZSIC06 groups C121 and C122',\n",
       " '2021,Level 3,CC15,Beverage and Tobacco Product Manufacturing,Dollars (millions),H32,Current liabilities,Financial position,\"2,091\",ANZSIC06 groups C121 and C122',\n",
       " '2021,Level 3,CC15,Beverage and Tobacco Product Manufacturing,Dollars (millions),H33,Other liabilities,Financial position,\"2,364\",ANZSIC06 groups C121 and C122',\n",
       " '2021,Level 3,CC15,Beverage and Tobacco Product Manufacturing,Dollars,H34,Total income per employee count,Financial ratios,\"619,400\",ANZSIC06 groups C121 and C122',\n",
       " '2021,Level 3,CC15,Beverage and Tobacco Product Manufacturing,Dollars,H35,Surplus per employee count,Financial ratios,\"15,400\",ANZSIC06 groups C121 and C122',\n",
       " '2021,Level 3,CC15,Beverage and Tobacco Product Manufacturing,Percentage,H36,Current ratio,Financial ratios,189,ANZSIC06 groups C121 and C122',\n",
       " '2021,Level 3,CC15,Beverage and Tobacco Product Manufacturing,Percentage,H37,Quick ratio,Financial ratios,109,ANZSIC06 groups C121 and C122',\n",
       " '2021,Level 3,CC15,Beverage and Tobacco Product Manufacturing,Percentage,H38,Margin on sales of goods for resale,Financial ratios,20,ANZSIC06 groups C121 and C122',\n",
       " '2021,Level 3,CC15,Beverage and Tobacco Product Manufacturing,Percentage,H39,Return on equity,Financial ratios,3,ANZSIC06 groups C121 and C122',\n",
       " '2021,Level 3,CC15,Beverage and Tobacco Product Manufacturing,Percentage,H40,Return on total assets,Financial ratios,2,ANZSIC06 groups C121 and C122',\n",
       " '2021,Level 3,CC15,Beverage and Tobacco Product Manufacturing,Percentage,H41,Liabilities structure,Financial ratios,53,ANZSIC06 groups C121 and C122',\n",
       " '2021,Level 4,CC151,Beverage and Tobacco Product Manufacturing,Dollars (millions),H01,Total income,Financial performance,\"6,374\",ANZSIC06 groups C121 and C122',\n",
       " '2021,Level 4,CC151,Beverage and Tobacco Product Manufacturing,Dollars (millions),H02,Sales of goods not further processed,Financial performance,332,ANZSIC06 groups C121 and C122',\n",
       " '2021,Level 4,CC151,Beverage and Tobacco Product Manufacturing,Dollars (millions),H03,Sales of other goods and services,Financial performance,\"5,799\",ANZSIC06 groups C121 and C122',\n",
       " '2021,Level 4,CC151,Beverage and Tobacco Product Manufacturing,Dollars (millions),H05,\"Interest, dividends and donations\",Financial performance,16,ANZSIC06 groups C121 and C122',\n",
       " '2021,Level 4,CC151,Beverage and Tobacco Product Manufacturing,Dollars (millions),H06,\"Government funding, grants and subsidies\",Financial performance,21,ANZSIC06 groups C121 and C122',\n",
       " '2021,Level 4,CC151,Beverage and Tobacco Product Manufacturing,Dollars (millions),H07,Non-operating income,Financial performance,207,ANZSIC06 groups C121 and C122',\n",
       " '2021,Level 4,CC151,Beverage and Tobacco Product Manufacturing,Dollars (millions),H08,Total expenditure,Financial performance,\"6,199\",ANZSIC06 groups C121 and C122',\n",
       " '2021,Level 4,CC151,Beverage and Tobacco Product Manufacturing,Dollars (millions),H09,Interest and donations,Financial performance,103,ANZSIC06 groups C121 and C122',\n",
       " '2021,Level 4,CC151,Beverage and Tobacco Product Manufacturing,Dollars (millions),H10,Indirect taxes,Financial performance,613,ANZSIC06 groups C121 and C122',\n",
       " '2021,Level 4,CC151,Beverage and Tobacco Product Manufacturing,Dollars (millions),H11,Depreciation,Financial performance,C,ANZSIC06 groups C121 and C122',\n",
       " '2021,Level 4,CC151,Beverage and Tobacco Product Manufacturing,Dollars (millions),H12,Salaries and wages paid,Financial performance,675,ANZSIC06 groups C121 and C122',\n",
       " '2021,Level 4,CC151,Beverage and Tobacco Product Manufacturing,Dollars (millions),H13,Redundancy and severance,Financial performance,4,ANZSIC06 groups C121 and C122',\n",
       " '2021,Level 4,CC151,Beverage and Tobacco Product Manufacturing,Dollars (millions),H17,Purchases of goods bought for resale,Financial performance,266,ANZSIC06 groups C121 and C122',\n",
       " '2021,Level 4,CC151,Beverage and Tobacco Product Manufacturing,Dollars (millions),H18,Other Purchases and operating expenses,Financial performance,\"3,954\",ANZSIC06 groups C121 and C122',\n",
       " '2021,Level 4,CC151,Beverage and Tobacco Product Manufacturing,Dollars (millions),H20,Non-operating expenses,Financial performance,C,ANZSIC06 groups C121 and C122',\n",
       " '2021,Level 4,CC151,Beverage and Tobacco Product Manufacturing,Dollars (millions),H21,Opening stocks,Financial performance,\"1,689\",ANZSIC06 groups C121 and C122',\n",
       " '2021,Level 4,CC151,Beverage and Tobacco Product Manufacturing,Dollars (millions),H22,Closing stocks,Financial performance,\"1,671\",ANZSIC06 groups C121 and C122',\n",
       " '2021,Level 4,CC151,Beverage and Tobacco Product Manufacturing,Dollars (millions),H23,Surplus before income tax,Financial performance,158,ANZSIC06 groups C121 and C122',\n",
       " '2021,Level 4,CC151,Beverage and Tobacco Product Manufacturing,Dollars (millions),H24,Total assets,Financial position,\"9,496\",ANZSIC06 groups C121 and C122',\n",
       " '2021,Level 4,CC151,Beverage and Tobacco Product Manufacturing,Dollars (millions),H25,Current assets,Financial position,\"3,952\",ANZSIC06 groups C121 and C122',\n",
       " '2021,Level 4,CC151,Beverage and Tobacco Product Manufacturing,Dollars (millions),H26,Fixed tangible assets,Financial position,\"3,831\",ANZSIC06 groups C121 and C122',\n",
       " '2021,Level 4,CC151,Beverage and Tobacco Product Manufacturing,Dollars (millions),H27,Additions to fixed assets,Financial position,358,ANZSIC06 groups C121 and C122',\n",
       " '2021,Level 4,CC151,Beverage and Tobacco Product Manufacturing,Dollars (millions),H28,Disposals of fixed assets,Financial position,151,ANZSIC06 groups C121 and C122',\n",
       " '2021,Level 4,CC151,Beverage and Tobacco Product Manufacturing,Dollars (millions),H29,Other assets,Financial position,\"1,714\",ANZSIC06 groups C121 and C122',\n",
       " '2021,Level 4,CC151,Beverage and Tobacco Product Manufacturing,Dollars (millions),H30,Total equity and liabilities,Financial position,\"9,496\",ANZSIC06 groups C121 and C122',\n",
       " '2021,Level 4,CC151,Beverage and Tobacco Product Manufacturing,Dollars (millions),H31,Shareholders funds or owners equity,Financial position,\"5,042\",ANZSIC06 groups C121 and C122',\n",
       " '2021,Level 4,CC151,Beverage and Tobacco Product Manufacturing,Dollars (millions),H32,Current liabilities,Financial position,\"2,091\",ANZSIC06 groups C121 and C122',\n",
       " '2021,Level 4,CC151,Beverage and Tobacco Product Manufacturing,Dollars (millions),H33,Other liabilities,Financial position,\"2,364\",ANZSIC06 groups C121 and C122',\n",
       " '2021,Level 4,CC151,Beverage and Tobacco Product Manufacturing,Dollars,H34,Total income per employee count,Financial ratios,\"619,400\",ANZSIC06 groups C121 and C122',\n",
       " '2021,Level 4,CC151,Beverage and Tobacco Product Manufacturing,Dollars,H35,Surplus per employee count,Financial ratios,\"15,400\",ANZSIC06 groups C121 and C122',\n",
       " '2021,Level 4,CC151,Beverage and Tobacco Product Manufacturing,Percentage,H36,Current ratio,Financial ratios,189,ANZSIC06 groups C121 and C122',\n",
       " '2021,Level 4,CC151,Beverage and Tobacco Product Manufacturing,Percentage,H37,Quick ratio,Financial ratios,109,ANZSIC06 groups C121 and C122',\n",
       " '2021,Level 4,CC151,Beverage and Tobacco Product Manufacturing,Percentage,H38,Margin on sales of goods for resale,Financial ratios,20,ANZSIC06 groups C121 and C122',\n",
       " '2021,Level 4,CC151,Beverage and Tobacco Product Manufacturing,Percentage,H39,Return on equity,Financial ratios,3,ANZSIC06 groups C121 and C122',\n",
       " '2021,Level 4,CC151,Beverage and Tobacco Product Manufacturing,Percentage,H40,Return on total assets,Financial ratios,2,ANZSIC06 groups C121 and C122',\n",
       " '2021,Level 4,CC151,Beverage and Tobacco Product Manufacturing,Percentage,H41,Liabilities structure,Financial ratios,53,ANZSIC06 groups C121 and C122',\n",
       " '2021,Level 3,CC21,\"Textile, Leather, Clothing and Footwear Manufacturing\",Dollars (millions),H01,Total income,Financial performance,\"1,916\",\"ANZSIC06 groups C131, C132, C133, C134, and C135\"',\n",
       " '2021,Level 3,CC21,\"Textile, Leather, Clothing and Footwear Manufacturing\",Dollars (millions),H02,Sales of goods not further processed,Financial performance,241,\"ANZSIC06 groups C131, C132, C133, C134, and C135\"',\n",
       " '2021,Level 3,CC21,\"Textile, Leather, Clothing and Footwear Manufacturing\",Dollars (millions),H03,Sales of other goods and services,Financial performance,\"1,583\",\"ANZSIC06 groups C131, C132, C133, C134, and C135\"',\n",
       " '2021,Level 3,CC21,\"Textile, Leather, Clothing and Footwear Manufacturing\",Dollars (millions),H05,\"Interest, dividends and donations\",Financial performance,15,\"ANZSIC06 groups C131, C132, C133, C134, and C135\"',\n",
       " '2021,Level 3,CC21,\"Textile, Leather, Clothing and Footwear Manufacturing\",Dollars (millions),H06,\"Government funding, grants and subsidies\",Financial performance,54,\"ANZSIC06 groups C131, C132, C133, C134, and C135\"',\n",
       " '2021,Level 3,CC21,\"Textile, Leather, Clothing and Footwear Manufacturing\",Dollars (millions),H07,Non-operating income,Financial performance,22,\"ANZSIC06 groups C131, C132, C133, C134, and C135\"',\n",
       " '2021,Level 3,CC21,\"Textile, Leather, Clothing and Footwear Manufacturing\",Dollars (millions),H08,Total expenditure,Financial performance,\"1,708\",\"ANZSIC06 groups C131, C132, C133, C134, and C135\"',\n",
       " '2021,Level 3,CC21,\"Textile, Leather, Clothing and Footwear Manufacturing\",Dollars (millions),H09,Interest and donations,Financial performance,14,\"ANZSIC06 groups C131, C132, C133, C134, and C135\"',\n",
       " '2021,Level 3,CC21,\"Textile, Leather, Clothing and Footwear Manufacturing\",Dollars (millions),H10,Indirect taxes,Financial performance,7,\"ANZSIC06 groups C131, C132, C133, C134, and C135\"',\n",
       " '2021,Level 3,CC21,\"Textile, Leather, Clothing and Footwear Manufacturing\",Dollars (millions),H11,Depreciation,Financial performance,45,\"ANZSIC06 groups C131, C132, C133, C134, and C135\"',\n",
       " '2021,Level 3,CC21,\"Textile, Leather, Clothing and Footwear Manufacturing\",Dollars (millions),H12,Salaries and wages paid,Financial performance,436,\"ANZSIC06 groups C131, C132, C133, C134, and C135\"',\n",
       " '2021,Level 3,CC21,\"Textile, Leather, Clothing and Footwear Manufacturing\",Dollars (millions),H13,Redundancy and severance,Financial performance,1,\"ANZSIC06 groups C131, C132, C133, C134, and C135\"',\n",
       " '2021,Level 3,CC21,\"Textile, Leather, Clothing and Footwear Manufacturing\",Dollars (millions),H17,Purchases of goods bought for resale,Financial performance,164,\"ANZSIC06 groups C131, C132, C133, C134, and C135\"',\n",
       " '2021,Level 3,CC21,\"Textile, Leather, Clothing and Footwear Manufacturing\",Dollars (millions),H18,Other Purchases and operating expenses,Financial performance,\"1,035\",\"ANZSIC06 groups C131, C132, C133, C134, and C135\"',\n",
       " '2021,Level 3,CC21,\"Textile, Leather, Clothing and Footwear Manufacturing\",Dollars (millions),H20,Non-operating expenses,Financial performance,7,\"ANZSIC06 groups C131, C132, C133, C134, and C135\"',\n",
       " '2021,Level 3,CC21,\"Textile, Leather, Clothing and Footwear Manufacturing\",Dollars (millions),H21,Opening stocks,Financial performance,379,\"ANZSIC06 groups C131, C132, C133, C134, and C135\"',\n",
       " '2021,Level 3,CC21,\"Textile, Leather, Clothing and Footwear Manufacturing\",Dollars (millions),H22,Closing stocks,Financial performance,357,\"ANZSIC06 groups C131, C132, C133, C134, and C135\"',\n",
       " '2021,Level 3,CC21,\"Textile, Leather, Clothing and Footwear Manufacturing\",Dollars (millions),H23,Surplus before income tax,Financial performance,186,\"ANZSIC06 groups C131, C132, C133, C134, and C135\"',\n",
       " '2021,Level 3,CC21,\"Textile, Leather, Clothing and Footwear Manufacturing\",Dollars (millions),H24,Total assets,Financial position,\"1,695\",\"ANZSIC06 groups C131, C132, C133, C134, and C135\"',\n",
       " '2021,Level 3,CC21,\"Textile, Leather, Clothing and Footwear Manufacturing\",Dollars (millions),H25,Current assets,Financial position,880,\"ANZSIC06 groups C131, C132, C133, C134, and C135\"',\n",
       " '2021,Level 3,CC21,\"Textile, Leather, Clothing and Footwear Manufacturing\",Dollars (millions),H26,Fixed tangible assets,Financial position,356,\"ANZSIC06 groups C131, C132, C133, C134, and C135\"',\n",
       " '2021,Level 3,CC21,\"Textile, Leather, Clothing and Footwear Manufacturing\",Dollars (millions),H27,Additions to fixed assets,Financial position,53,\"ANZSIC06 groups C131, C132, C133, C134, and C135\"',\n",
       " '2021,Level 3,CC21,\"Textile, Leather, Clothing and Footwear Manufacturing\",Dollars (millions),H28,Disposals of fixed assets,Financial position,42,\"ANZSIC06 groups C131, C132, C133, C134, and C135\"',\n",
       " '2021,Level 3,CC21,\"Textile, Leather, Clothing and Footwear Manufacturing\",Dollars (millions),H29,Other assets,Financial position,459,\"ANZSIC06 groups C131, C132, C133, C134, and C135\"',\n",
       " '2021,Level 3,CC21,\"Textile, Leather, Clothing and Footwear Manufacturing\",Dollars (millions),H30,Total equity and liabilities,Financial position,\"1,695\",\"ANZSIC06 groups C131, C132, C133, C134, and C135\"',\n",
       " '2021,Level 3,CC21,\"Textile, Leather, Clothing and Footwear Manufacturing\",Dollars (millions),H31,Shareholders funds or owners equity,Financial position,823,\"ANZSIC06 groups C131, C132, C133, C134, and C135\"',\n",
       " '2021,Level 3,CC21,\"Textile, Leather, Clothing and Footwear Manufacturing\",Dollars (millions),H32,Current liabilities,Financial position,564,\"ANZSIC06 groups C131, C132, C133, C134, and C135\"',\n",
       " '2021,Level 3,CC21,\"Textile, Leather, Clothing and Footwear Manufacturing\",Dollars (millions),H33,Other liabilities,Financial position,308,\"ANZSIC06 groups C131, C132, C133, C134, and C135\"',\n",
       " '2021,Level 3,CC21,\"Textile, Leather, Clothing and Footwear Manufacturing\",Dollars,H34,Total income per employee count,Financial ratios,\"251,300\",\"ANZSIC06 groups C131, C132, C133, C134, and C135\"',\n",
       " '2021,Level 3,CC21,\"Textile, Leather, Clothing and Footwear Manufacturing\",Dollars,H35,Surplus per employee count,Financial ratios,\"24,400\",\"ANZSIC06 groups C131, C132, C133, C134, and C135\"',\n",
       " '2021,Level 3,CC21,\"Textile, Leather, Clothing and Footwear Manufacturing\",Percentage,H36,Current ratio,Financial ratios,156,\"ANZSIC06 groups C131, C132, C133, C134, and C135\"',\n",
       " '2021,Level 3,CC21,\"Textile, Leather, Clothing and Footwear Manufacturing\",Percentage,H37,Quick ratio,Financial ratios,93,\"ANZSIC06 groups C131, C132, C133, C134, and C135\"',\n",
       " '2021,Level 3,CC21,\"Textile, Leather, Clothing and Footwear Manufacturing\",Percentage,H38,Margin on sales of goods for resale,Financial ratios,32,\"ANZSIC06 groups C131, C132, C133, C134, and C135\"',\n",
       " '2021,Level 3,CC21,\"Textile, Leather, Clothing and Footwear Manufacturing\",Percentage,H39,Return on equity,Financial ratios,23,\"ANZSIC06 groups C131, C132, C133, C134, and C135\"',\n",
       " '2021,Level 3,CC21,\"Textile, Leather, Clothing and Footwear Manufacturing\",Percentage,H40,Return on total assets,Financial ratios,11,\"ANZSIC06 groups C131, C132, C133, C134, and C135\"',\n",
       " '2021,Level 3,CC21,\"Textile, Leather, Clothing and Footwear Manufacturing\",Percentage,H41,Liabilities structure,Financial ratios,49,\"ANZSIC06 groups C131, C132, C133, C134, and C135\"',\n",
       " '2021,Level 4,CC211,Textile and Leather Manufacturing,Dollars (millions),H01,Total income,Financial performance,\"1,462\",\"ANZSIC06 groups C131, C132, and C133\"',\n",
       " '2021,Level 4,CC211,Textile and Leather Manufacturing,Dollars (millions),H02,Sales of goods not further processed,Financial performance,190,\"ANZSIC06 groups C131, C132, and C133\"',\n",
       " '2021,Level 4,CC211,Textile and Leather Manufacturing,Dollars (millions),H03,Sales of other goods and services,Financial performance,\"1,207\",\"ANZSIC06 groups C131, C132, and C133\"',\n",
       " '2021,Level 4,CC211,Textile and Leather Manufacturing,Dollars (millions),H05,\"Interest, dividends and donations\",Financial performance,15,\"ANZSIC06 groups C131, C132, and C133\"',\n",
       " '2021,Level 4,CC211,Textile and Leather Manufacturing,Dollars (millions),H06,\"Government funding, grants and subsidies\",Financial performance,C,\"ANZSIC06 groups C131, C132, and C133\"',\n",
       " '2021,Level 4,CC211,Textile and Leather Manufacturing,Dollars (millions),H07,Non-operating income,Financial performance,C,\"ANZSIC06 groups C131, C132, and C133\"',\n",
       " '2021,Level 4,CC211,Textile and Leather Manufacturing,Dollars (millions),H08,Total expenditure,Financial performance,\"1,304\",\"ANZSIC06 groups C131, C132, and C133\"',\n",
       " '2021,Level 4,CC211,Textile and Leather Manufacturing,Dollars (millions),H09,Interest and donations,Financial performance,10,\"ANZSIC06 groups C131, C132, and C133\"',\n",
       " '2021,Level 4,CC211,Textile and Leather Manufacturing,Dollars (millions),H10,Indirect taxes,Financial performance,6,\"ANZSIC06 groups C131, C132, and C133\"',\n",
       " '2021,Level 4,CC211,Textile and Leather Manufacturing,Dollars (millions),H11,Depreciation,Financial performance,38,\"ANZSIC06 groups C131, C132, and C133\"',\n",
       " '2021,Level 4,CC211,Textile and Leather Manufacturing,Dollars (millions),H12,Salaries and wages paid,Financial performance,318,\"ANZSIC06 groups C131, C132, and C133\"',\n",
       " '2021,Level 4,CC211,Textile and Leather Manufacturing,Dollars (millions),H13,Redundancy and severance,Financial performance,1,\"ANZSIC06 groups C131, C132, and C133\"',\n",
       " '2021,Level 4,CC211,Textile and Leather Manufacturing,Dollars (millions),H17,Purchases of goods bought for resale,Financial performance,138,\"ANZSIC06 groups C131, C132, and C133\"',\n",
       " '2021,Level 4,CC211,Textile and Leather Manufacturing,Dollars (millions),H18,Other Purchases and operating expenses,Financial performance,789,\"ANZSIC06 groups C131, C132, and C133\"',\n",
       " '2021,Level 4,CC211,Textile and Leather Manufacturing,Dollars (millions),H20,Non-operating expenses,Financial performance,6,\"ANZSIC06 groups C131, C132, and C133\"',\n",
       " '2021,Level 4,CC211,Textile and Leather Manufacturing,Dollars (millions),H21,Opening stocks,Financial performance,274,\"ANZSIC06 groups C131, C132, and C133\"',\n",
       " '2021,Level 4,CC211,Textile and Leather Manufacturing,Dollars (millions),H22,Closing stocks,Financial performance,258,\"ANZSIC06 groups C131, C132, and C133\"',\n",
       " '2021,Level 4,CC211,Textile and Leather Manufacturing,Dollars (millions),H23,Surplus before income tax,Financial performance,142,\"ANZSIC06 groups C131, C132, and C133\"',\n",
       " '2021,Level 4,CC211,Textile and Leather Manufacturing,Dollars (millions),H24,Total assets,Financial position,\"1,375\",\"ANZSIC06 groups C131, C132, and C133\"',\n",
       " '2021,Level 4,CC211,Textile and Leather Manufacturing,Dollars (millions),H25,Current assets,Financial position,662,\"ANZSIC06 groups C131, C132, and C133\"',\n",
       " '2021,Level 4,CC211,Textile and Leather Manufacturing,Dollars (millions),H26,Fixed tangible assets,Financial position,290,\"ANZSIC06 groups C131, C132, and C133\"',\n",
       " '2021,Level 4,CC211,Textile and Leather Manufacturing,Dollars (millions),H27,Additions to fixed assets,Financial position,42,\"ANZSIC06 groups C131, C132, and C133\"',\n",
       " '2021,Level 4,CC211,Textile and Leather Manufacturing,Dollars (millions),H28,Disposals of fixed assets,Financial position,27,\"ANZSIC06 groups C131, C132, and C133\"',\n",
       " '2021,Level 4,CC211,Textile and Leather Manufacturing,Dollars (millions),H29,Other assets,Financial position,424,\"ANZSIC06 groups C131, C132, and C133\"',\n",
       " '2021,Level 4,CC211,Textile and Leather Manufacturing,Dollars (millions),H30,Total equity and liabilities,Financial position,\"1,375\",\"ANZSIC06 groups C131, C132, and C133\"',\n",
       " '2021,Level 4,CC211,Textile and Leather Manufacturing,Dollars (millions),H31,Shareholders funds or owners equity,Financial position,714,\"ANZSIC06 groups C131, C132, and C133\"',\n",
       " '2021,Level 4,CC211,Textile and Leather Manufacturing,Dollars (millions),H32,Current liabilities,Financial position,428,\"ANZSIC06 groups C131, C132, and C133\"',\n",
       " '2021,Level 4,CC211,Textile and Leather Manufacturing,Dollars (millions),H33,Other liabilities,Financial position,233,\"ANZSIC06 groups C131, C132, and C133\"',\n",
       " '2021,Level 4,CC211,Textile and Leather Manufacturing,Dollars,H34,Total income per employee count,Financial ratios,\"289,900\",\"ANZSIC06 groups C131, C132, and C133\"',\n",
       " '2021,Level 4,CC211,Textile and Leather Manufacturing,Dollars,H35,Surplus per employee count,Financial ratios,\"28,100\",\"ANZSIC06 groups C131, C132, and C133\"',\n",
       " '2021,Level 4,CC211,Textile and Leather Manufacturing,Percentage,H36,Current ratio,Financial ratios,155,\"ANZSIC06 groups C131, C132, and C133\"',\n",
       " '2021,Level 4,CC211,Textile and Leather Manufacturing,Percentage,H37,Quick ratio,Financial ratios,94,\"ANZSIC06 groups C131, C132, and C133\"',\n",
       " '2021,Level 4,CC211,Textile and Leather Manufacturing,Percentage,H38,Margin on sales of goods for resale,Financial ratios,27,\"ANZSIC06 groups C131, C132, and C133\"',\n",
       " '2021,Level 4,CC211,Textile and Leather Manufacturing,Percentage,H39,Return on equity,Financial ratios,20,\"ANZSIC06 groups C131, C132, and C133\"',\n",
       " '2021,Level 4,CC211,Textile and Leather Manufacturing,Percentage,H40,Return on total assets,Financial ratios,10,\"ANZSIC06 groups C131, C132, and C133\"',\n",
       " '2021,Level 4,CC211,Textile and Leather Manufacturing,Percentage,H41,Liabilities structure,Financial ratios,52,\"ANZSIC06 groups C131, C132, and C133\"',\n",
       " '2021,Level 4,CC212,\"Clothing, Knitted Products and Footwear Manufacturing\",Dollars (millions),H01,Total income,Financial performance,454,ANZSIC06 groups C134 and C135',\n",
       " '2021,Level 4,CC212,\"Clothing, Knitted Products and Footwear Manufacturing\",Dollars (millions),H02,Sales of goods not further processed,Financial performance,51,ANZSIC06 groups C134 and C135',\n",
       " '2021,Level 4,CC212,\"Clothing, Knitted Products and Footwear Manufacturing\",Dollars (millions),H03,Sales of other goods and services,Financial performance,376,ANZSIC06 groups C134 and C135',\n",
       " '2021,Level 4,CC212,\"Clothing, Knitted Products and Footwear Manufacturing\",Dollars (millions),H05,\"Interest, dividends and donations\",Financial performance,0,ANZSIC06 groups C134 and C135',\n",
       " '2021,Level 4,CC212,\"Clothing, Knitted Products and Footwear Manufacturing\",Dollars (millions),H06,\"Government funding, grants and subsidies\",Financial performance,C,ANZSIC06 groups C134 and C135',\n",
       " '2021,Level 4,CC212,\"Clothing, Knitted Products and Footwear Manufacturing\",Dollars (millions),H07,Non-operating income,Financial performance,C,ANZSIC06 groups C134 and C135',\n",
       " '2021,Level 4,CC212,\"Clothing, Knitted Products and Footwear Manufacturing\",Dollars (millions),H08,Total expenditure,Financial performance,404,ANZSIC06 groups C134 and C135',\n",
       " '2021,Level 4,CC212,\"Clothing, Knitted Products and Footwear Manufacturing\",Dollars (millions),H09,Interest and donations,Financial performance,4,ANZSIC06 groups C134 and C135',\n",
       " '2021,Level 4,CC212,\"Clothing, Knitted Products and Footwear Manufacturing\",Dollars (millions),H10,Indirect taxes,Financial performance,1,ANZSIC06 groups C134 and C135',\n",
       " '2021,Level 4,CC212,\"Clothing, Knitted Products and Footwear Manufacturing\",Dollars (millions),H11,Depreciation,Financial performance,7,ANZSIC06 groups C134 and C135',\n",
       " '2021,Level 4,CC212,\"Clothing, Knitted Products and Footwear Manufacturing\",Dollars (millions),H12,Salaries and wages paid,Financial performance,118,ANZSIC06 groups C134 and C135',\n",
       " '2021,Level 4,CC212,\"Clothing, Knitted Products and Footwear Manufacturing\",Dollars (millions),H13,Redundancy and severance,Financial performance,0,ANZSIC06 groups C134 and C135',\n",
       " '2021,Level 4,CC212,\"Clothing, Knitted Products and Footwear Manufacturing\",Dollars (millions),H17,Purchases of goods bought for resale,Financial performance,25,ANZSIC06 groups C134 and C135',\n",
       " '2021,Level 4,CC212,\"Clothing, Knitted Products and Footwear Manufacturing\",Dollars (millions),H18,Other Purchases and operating expenses,Financial performance,246,ANZSIC06 groups C134 and C135',\n",
       " '2021,Level 4,CC212,\"Clothing, Knitted Products and Footwear Manufacturing\",Dollars (millions),H20,Non-operating expenses,Financial performance,1,ANZSIC06 groups C134 and C135',\n",
       " '2021,Level 4,CC212,\"Clothing, Knitted Products and Footwear Manufacturing\",Dollars (millions),H21,Opening stocks,Financial performance,105,ANZSIC06 groups C134 and C135',\n",
       " '2021,Level 4,CC212,\"Clothing, Knitted Products and Footwear Manufacturing\",Dollars (millions),H22,Closing stocks,Financial performance,99,ANZSIC06 groups C134 and C135',\n",
       " '2021,Level 4,CC212,\"Clothing, Knitted Products and Footwear Manufacturing\",Dollars (millions),H23,Surplus before income tax,Financial performance,44,ANZSIC06 groups C134 and C135',\n",
       " '2021,Level 4,CC212,\"Clothing, Knitted Products and Footwear Manufacturing\",Dollars (millions),H24,Total assets,Financial position,320,ANZSIC06 groups C134 and C135',\n",
       " '2021,Level 4,CC212,\"Clothing, Knitted Products and Footwear Manufacturing\",Dollars (millions),H25,Current assets,Financial position,217,ANZSIC06 groups C134 and C135',\n",
       " '2021,Level 4,CC212,\"Clothing, Knitted Products and Footwear Manufacturing\",Dollars (millions),H26,Fixed tangible assets,Financial position,66,ANZSIC06 groups C134 and C135',\n",
       " '2021,Level 4,CC212,\"Clothing, Knitted Products and Footwear Manufacturing\",Dollars (millions),H27,Additions to fixed assets,Financial position,11,ANZSIC06 groups C134 and C135',\n",
       " '2021,Level 4,CC212,\"Clothing, Knitted Products and Footwear Manufacturing\",Dollars (millions),H28,Disposals of fixed assets,Financial position,14,ANZSIC06 groups C134 and C135',\n",
       " '2021,Level 4,CC212,\"Clothing, Knitted Products and Footwear Manufacturing\",Dollars (millions),H29,Other assets,Financial position,36,ANZSIC06 groups C134 and C135',\n",
       " '2021,Level 4,CC212,\"Clothing, Knitted Products and Footwear Manufacturing\",Dollars (millions),H30,Total equity and liabilities,Financial position,320,ANZSIC06 groups C134 and C135',\n",
       " '2021,Level 4,CC212,\"Clothing, Knitted Products and Footwear Manufacturing\",Dollars (millions),H31,Shareholders funds or owners equity,Financial position,109,ANZSIC06 groups C134 and C135',\n",
       " '2021,Level 4,CC212,\"Clothing, Knitted Products and Footwear Manufacturing\",Dollars (millions),H32,Current liabilities,Financial position,136,ANZSIC06 groups C134 and C135',\n",
       " '2021,Level 4,CC212,\"Clothing, Knitted Products and Footwear Manufacturing\",Dollars (millions),H33,Other liabilities,Financial position,75,ANZSIC06 groups C134 and C135',\n",
       " '2021,Level 4,CC212,\"Clothing, Knitted Products and Footwear Manufacturing\",Dollars,H34,Total income per employee count,Financial ratios,\"175,900\",ANZSIC06 groups C134 and C135',\n",
       " '2021,Level 4,CC212,\"Clothing, Knitted Products and Footwear Manufacturing\",Dollars,H35,Surplus per employee count,Financial ratios,\"17,100\",ANZSIC06 groups C134 and C135',\n",
       " '2021,Level 4,CC212,\"Clothing, Knitted Products and Footwear Manufacturing\",Percentage,H36,Current ratio,Financial ratios,160,ANZSIC06 groups C134 and C135',\n",
       " '2021,Level 4,CC212,\"Clothing, Knitted Products and Footwear Manufacturing\",Percentage,H37,Quick ratio,Financial ratios,87,ANZSIC06 groups C134 and C135',\n",
       " '2021,Level 4,CC212,\"Clothing, Knitted Products and Footwear Manufacturing\",Percentage,H38,Margin on sales of goods for resale,Financial ratios,50,ANZSIC06 groups C134 and C135',\n",
       " '2021,Level 4,CC212,\"Clothing, Knitted Products and Footwear Manufacturing\",Percentage,H39,Return on equity,Financial ratios,41,ANZSIC06 groups C134 and C135',\n",
       " '2021,Level 4,CC212,\"Clothing, Knitted Products and Footwear Manufacturing\",Percentage,H40,Return on total assets,Financial ratios,14,ANZSIC06 groups C134 and C135',\n",
       " '2021,Level 4,CC212,\"Clothing, Knitted Products and Footwear Manufacturing\",Percentage,H41,Liabilities structure,Financial ratios,34,ANZSIC06 groups C134 and C135',\n",
       " '2021,Level 3,CC31,Wood Product Manufacturing,Dollars (millions),H01,Total income,Financial performance,\"6,189\",ANZSIC06 groups C141 and C149',\n",
       " '2021,Level 3,CC31,Wood Product Manufacturing,Dollars (millions),H02,Sales of goods not further processed,Financial performance,348,ANZSIC06 groups C141 and C149',\n",
       " '2021,Level 3,CC31,Wood Product Manufacturing,Dollars (millions),H03,Sales of other goods and services,Financial performance,\"5,638\",ANZSIC06 groups C141 and C149',\n",
       " '2021,Level 3,CC31,Wood Product Manufacturing,Dollars (millions),H05,\"Interest, dividends and donations\",Financial performance,13,ANZSIC06 groups C141 and C149',\n",
       " '2021,Level 3,CC31,Wood Product Manufacturing,Dollars (millions),H06,\"Government funding, grants and subsidies\",Financial performance,104,ANZSIC06 groups C141 and C149',\n",
       " '2021,Level 3,CC31,Wood Product Manufacturing,Dollars (millions),H07,Non-operating income,Financial performance,86,ANZSIC06 groups C141 and C149',\n",
       " '2021,Level 3,CC31,Wood Product Manufacturing,Dollars (millions),H08,Total expenditure,Financial performance,\"5,657\",ANZSIC06 groups C141 and C149',\n",
       " '2021,Level 3,CC31,Wood Product Manufacturing,Dollars (millions),H09,Interest and donations,Financial performance,34,ANZSIC06 groups C141 and C149',\n",
       " '2021,Level 3,CC31,Wood Product Manufacturing,Dollars (millions),H10,Indirect taxes,Financial performance,14,ANZSIC06 groups C141 and C149',\n",
       " '2021,Level 3,CC31,Wood Product Manufacturing,Dollars (millions),H11,Depreciation,Financial performance,169,ANZSIC06 groups C141 and C149',\n",
       " '2021,Level 3,CC31,Wood Product Manufacturing,Dollars (millions),H12,Salaries and wages paid,Financial performance,\"1,082\",ANZSIC06 groups C141 and C149',\n",
       " '2021,Level 3,CC31,Wood Product Manufacturing,Dollars (millions),H13,Redundancy and severance,Financial performance,5,ANZSIC06 groups C141 and C149',\n",
       " '2021,Level 3,CC31,Wood Product Manufacturing,Dollars (millions),H17,Purchases of goods bought for resale,Financial performance,232,ANZSIC06 groups C141 and C149',\n",
       " '2021,Level 3,CC31,Wood Product Manufacturing,Dollars (millions),H18,Other Purchases and operating expenses,Financial performance,\"4,081\",ANZSIC06 groups C141 and C149',\n",
       " '2021,Level 3,CC31,Wood Product Manufacturing,Dollars (millions),H20,Non-operating expenses,Financial performance,44,ANZSIC06 groups C141 and C149',\n",
       " '2021,Level 3,CC31,Wood Product Manufacturing,Dollars (millions),H21,Opening stocks,Financial performance,696,ANZSIC06 groups C141 and C149',\n",
       " '2021,Level 3,CC31,Wood Product Manufacturing,Dollars (millions),H22,Closing stocks,Financial performance,649,ANZSIC06 groups C141 and C149',\n",
       " '2021,Level 3,CC31,Wood Product Manufacturing,Dollars (millions),H23,Surplus before income tax,Financial performance,485,ANZSIC06 groups C141 and C149',\n",
       " '2021,Level 3,CC31,Wood Product Manufacturing,Dollars (millions),H24,Total assets,Financial position,\"4,585\",ANZSIC06 groups C141 and C149',\n",
       " '2021,Level 3,CC31,Wood Product Manufacturing,Dollars (millions),H25,Current assets,Financial position,\"2,323\",ANZSIC06 groups C141 and C149',\n",
       " '2021,Level 3,CC31,Wood Product Manufacturing,Dollars (millions),H26,Fixed tangible assets,Financial position,\"1,531\",ANZSIC06 groups C141 and C149',\n",
       " '2021,Level 3,CC31,Wood Product Manufacturing,Dollars (millions),H27,Additions to fixed assets,Financial position,306,ANZSIC06 groups C141 and C149',\n",
       " '2021,Level 3,CC31,Wood Product Manufacturing,Dollars (millions),H28,Disposals of fixed assets,Financial position,134,ANZSIC06 groups C141 and C149',\n",
       " '2021,Level 3,CC31,Wood Product Manufacturing,Dollars (millions),H29,Other assets,Financial position,731,ANZSIC06 groups C141 and C149',\n",
       " '2021,Level 3,CC31,Wood Product Manufacturing,Dollars (millions),H30,Total equity and liabilities,Financial position,\"4,585\",ANZSIC06 groups C141 and C149',\n",
       " '2021,Level 3,CC31,Wood Product Manufacturing,Dollars (millions),H31,Shareholders funds or owners equity,Financial position,\"2,033\",ANZSIC06 groups C141 and C149',\n",
       " '2021,Level 3,CC31,Wood Product Manufacturing,Dollars (millions),H32,Current liabilities,Financial position,\"1,677\",ANZSIC06 groups C141 and C149',\n",
       " '2021,Level 3,CC31,Wood Product Manufacturing,Dollars (millions),H33,Other liabilities,Financial position,875,ANZSIC06 groups C141 and C149',\n",
       " '2021,Level 3,CC31,Wood Product Manufacturing,Dollars,H34,Total income per employee count,Financial ratios,\"364,600\",ANZSIC06 groups C141 and C149',\n",
       " '2021,Level 3,CC31,Wood Product Manufacturing,Dollars,H35,Surplus per employee count,Financial ratios,\"28,600\",ANZSIC06 groups C141 and C149',\n",
       " '2021,Level 3,CC31,Wood Product Manufacturing,Percentage,H36,Current ratio,Financial ratios,139,ANZSIC06 groups C141 and C149',\n",
       " '2021,Level 3,CC31,Wood Product Manufacturing,Percentage,H37,Quick ratio,Financial ratios,100,ANZSIC06 groups C141 and C149',\n",
       " '2021,Level 3,CC31,Wood Product Manufacturing,Percentage,H38,Margin on sales of goods for resale,Financial ratios,33,ANZSIC06 groups C141 and C149',\n",
       " '2021,Level 3,CC31,Wood Product Manufacturing,Percentage,H39,Return on equity,Financial ratios,24,ANZSIC06 groups C141 and C149',\n",
       " '2021,Level 3,CC31,Wood Product Manufacturing,Percentage,H40,Return on total assets,Financial ratios,11,ANZSIC06 groups C141 and C149',\n",
       " '2021,Level 3,CC31,Wood Product Manufacturing,Percentage,H41,Liabilities structure,Financial ratios,44,ANZSIC06 groups C141 and C149',\n",
       " '2021,Level 4,CC311,Wood Product Manufacturing,Dollars (millions),H01,Total income,Financial performance,\"6,189\",ANZSIC06 groups C141 and C149',\n",
       " '2021,Level 4,CC311,Wood Product Manufacturing,Dollars (millions),H02,Sales of goods not further processed,Financial performance,348,ANZSIC06 groups C141 and C149',\n",
       " '2021,Level 4,CC311,Wood Product Manufacturing,Dollars (millions),H03,Sales of other goods and services,Financial performance,\"5,638\",ANZSIC06 groups C141 and C149',\n",
       " '2021,Level 4,CC311,Wood Product Manufacturing,Dollars (millions),H05,\"Interest, dividends and donations\",Financial performance,13,ANZSIC06 groups C141 and C149',\n",
       " '2021,Level 4,CC311,Wood Product Manufacturing,Dollars (millions),H06,\"Government funding, grants and subsidies\",Financial performance,104,ANZSIC06 groups C141 and C149',\n",
       " '2021,Level 4,CC311,Wood Product Manufacturing,Dollars (millions),H07,Non-operating income,Financial performance,86,ANZSIC06 groups C141 and C149',\n",
       " '2021,Level 4,CC311,Wood Product Manufacturing,Dollars (millions),H08,Total expenditure,Financial performance,\"5,657\",ANZSIC06 groups C141 and C149',\n",
       " '2021,Level 4,CC311,Wood Product Manufacturing,Dollars (millions),H09,Interest and donations,Financial performance,34,ANZSIC06 groups C141 and C149',\n",
       " '2021,Level 4,CC311,Wood Product Manufacturing,Dollars (millions),H10,Indirect taxes,Financial performance,14,ANZSIC06 groups C141 and C149',\n",
       " '2021,Level 4,CC311,Wood Product Manufacturing,Dollars (millions),H11,Depreciation,Financial performance,169,ANZSIC06 groups C141 and C149',\n",
       " '2021,Level 4,CC311,Wood Product Manufacturing,Dollars (millions),H12,Salaries and wages paid,Financial performance,\"1,082\",ANZSIC06 groups C141 and C149',\n",
       " '2021,Level 4,CC311,Wood Product Manufacturing,Dollars (millions),H13,Redundancy and severance,Financial performance,5,ANZSIC06 groups C141 and C149',\n",
       " '2021,Level 4,CC311,Wood Product Manufacturing,Dollars (millions),H17,Purchases of goods bought for resale,Financial performance,232,ANZSIC06 groups C141 and C149',\n",
       " '2021,Level 4,CC311,Wood Product Manufacturing,Dollars (millions),H18,Other Purchases and operating expenses,Financial performance,\"4,081\",ANZSIC06 groups C141 and C149',\n",
       " '2021,Level 4,CC311,Wood Product Manufacturing,Dollars (millions),H20,Non-operating expenses,Financial performance,44,ANZSIC06 groups C141 and C149',\n",
       " '2021,Level 4,CC311,Wood Product Manufacturing,Dollars (millions),H21,Opening stocks,Financial performance,696,ANZSIC06 groups C141 and C149',\n",
       " '2021,Level 4,CC311,Wood Product Manufacturing,Dollars (millions),H22,Closing stocks,Financial performance,649,ANZSIC06 groups C141 and C149',\n",
       " '2021,Level 4,CC311,Wood Product Manufacturing,Dollars (millions),H23,Surplus before income tax,Financial performance,485,ANZSIC06 groups C141 and C149',\n",
       " '2021,Level 4,CC311,Wood Product Manufacturing,Dollars (millions),H24,Total assets,Financial position,\"4,585\",ANZSIC06 groups C141 and C149',\n",
       " '2021,Level 4,CC311,Wood Product Manufacturing,Dollars (millions),H25,Current assets,Financial position,\"2,323\",ANZSIC06 groups C141 and C149',\n",
       " '2021,Level 4,CC311,Wood Product Manufacturing,Dollars (millions),H26,Fixed tangible assets,Financial position,\"1,531\",ANZSIC06 groups C141 and C149',\n",
       " '2021,Level 4,CC311,Wood Product Manufacturing,Dollars (millions),H27,Additions to fixed assets,Financial position,306,ANZSIC06 groups C141 and C149',\n",
       " '2021,Level 4,CC311,Wood Product Manufacturing,Dollars (millions),H28,Disposals of fixed assets,Financial position,134,ANZSIC06 groups C141 and C149',\n",
       " '2021,Level 4,CC311,Wood Product Manufacturing,Dollars (millions),H29,Other assets,Financial position,731,ANZSIC06 groups C141 and C149',\n",
       " '2021,Level 4,CC311,Wood Product Manufacturing,Dollars (millions),H30,Total equity and liabilities,Financial position,\"4,585\",ANZSIC06 groups C141 and C149',\n",
       " '2021,Level 4,CC311,Wood Product Manufacturing,Dollars (millions),H31,Shareholders funds or owners equity,Financial position,\"2,033\",ANZSIC06 groups C141 and C149',\n",
       " '2021,Level 4,CC311,Wood Product Manufacturing,Dollars (millions),H32,Current liabilities,Financial position,\"1,677\",ANZSIC06 groups C141 and C149',\n",
       " '2021,Level 4,CC311,Wood Product Manufacturing,Dollars (millions),H33,Other liabilities,Financial position,875,ANZSIC06 groups C141 and C149',\n",
       " '2021,Level 4,CC311,Wood Product Manufacturing,Dollars,H34,Total income per employee count,Financial ratios,\"364,600\",ANZSIC06 groups C141 and C149',\n",
       " '2021,Level 4,CC311,Wood Product Manufacturing,Dollars,H35,Surplus per employee count,Financial ratios,\"28,600\",ANZSIC06 groups C141 and C149',\n",
       " '2021,Level 4,CC311,Wood Product Manufacturing,Percentage,H36,Current ratio,Financial ratios,139,ANZSIC06 groups C141 and C149',\n",
       " '2021,Level 4,CC311,Wood Product Manufacturing,Percentage,H37,Quick ratio,Financial ratios,100,ANZSIC06 groups C141 and C149',\n",
       " '2021,Level 4,CC311,Wood Product Manufacturing,Percentage,H38,Margin on sales of goods for resale,Financial ratios,33,ANZSIC06 groups C141 and C149',\n",
       " '2021,Level 4,CC311,Wood Product Manufacturing,Percentage,H39,Return on equity,Financial ratios,24,ANZSIC06 groups C141 and C149',\n",
       " '2021,Level 4,CC311,Wood Product Manufacturing,Percentage,H40,Return on total assets,Financial ratios,11,ANZSIC06 groups C141 and C149',\n",
       " '2021,Level 4,CC311,Wood Product Manufacturing,Percentage,H41,Liabilities structure,Financial ratios,44,ANZSIC06 groups C141 and C149',\n",
       " '2021,Level 3,CC32,\"Pulp, Paper and Converted Paper Product Manufacturing\",Dollars (millions),H01,Total income,Financial performance,\"3,309\",ANZSIC06 groups C151 and C152',\n",
       " '2021,Level 3,CC32,\"Pulp, Paper and Converted Paper Product Manufacturing\",Dollars (millions),H02,Sales of goods not further processed,Financial performance,132,ANZSIC06 groups C151 and C152',\n",
       " '2021,Level 3,CC32,\"Pulp, Paper and Converted Paper Product Manufacturing\",Dollars (millions),H03,Sales of other goods and services,Financial performance,\"3,051\",ANZSIC06 groups C151 and C152',\n",
       " '2021,Level 3,CC32,\"Pulp, Paper and Converted Paper Product Manufacturing\",Dollars (millions),H05,\"Interest, dividends and donations\",Financial performance,3,ANZSIC06 groups C151 and C152',\n",
       " '2021,Level 3,CC32,\"Pulp, Paper and Converted Paper Product Manufacturing\",Dollars (millions),H06,\"Government funding, grants and subsidies\",Financial performance,14,ANZSIC06 groups C151 and C152',\n",
       " '2021,Level 3,CC32,\"Pulp, Paper and Converted Paper Product Manufacturing\",Dollars (millions),H07,Non-operating income,Financial performance,109,ANZSIC06 groups C151 and C152',\n",
       " '2021,Level 3,CC32,\"Pulp, Paper and Converted Paper Product Manufacturing\",Dollars (millions),H08,Total expenditure,Financial performance,\"3,255\",ANZSIC06 groups C151 and C152',\n",
       " '2021,Level 3,CC32,\"Pulp, Paper and Converted Paper Product Manufacturing\",Dollars (millions),H09,Interest and donations,Financial performance,36,ANZSIC06 groups C151 and C152',\n",
       " '2021,Level 3,CC32,\"Pulp, Paper and Converted Paper Product Manufacturing\",Dollars (millions),H10,Indirect taxes,Financial performance,7,ANZSIC06 groups C151 and C152',\n",
       " '2021,Level 3,CC32,\"Pulp, Paper and Converted Paper Product Manufacturing\",Dollars (millions),H11,Depreciation,Financial performance,156,ANZSIC06 groups C151 and C152',\n",
       " '2021,Level 3,CC32,\"Pulp, Paper and Converted Paper Product Manufacturing\",Dollars (millions),H12,Salaries and wages paid,Financial performance,445,ANZSIC06 groups C151 and C152',\n",
       " '2021,Level 3,CC32,\"Pulp, Paper and Converted Paper Product Manufacturing\",Dollars (millions),H13,Redundancy and severance,Financial performance,0,ANZSIC06 groups C151 and C152',\n",
       " '2021,Level 3,CC32,\"Pulp, Paper and Converted Paper Product Manufacturing\",Dollars (millions),H17,Purchases of goods bought for resale,Financial performance,83,ANZSIC06 groups C151 and C152',\n",
       " '2021,Level 3,CC32,\"Pulp, Paper and Converted Paper Product Manufacturing\",Dollars (millions),H18,Other Purchases and operating expenses,Financial performance,\"2,488\",ANZSIC06 groups C151 and C152',\n",
       " '2021,Level 3,CC32,\"Pulp, Paper and Converted Paper Product Manufacturing\",Dollars (millions),H20,Non-operating expenses,Financial performance,41,ANZSIC06 groups C151 and C152',\n",
       " '2021,Level 3,CC32,\"Pulp, Paper and Converted Paper Product Manufacturing\",Dollars (millions),H21,Opening stocks,Financial performance,C,ANZSIC06 groups C151 and C152',\n",
       " '2021,Level 3,CC32,\"Pulp, Paper and Converted Paper Product Manufacturing\",Dollars (millions),H22,Closing stocks,Financial performance,593,ANZSIC06 groups C151 and C152',\n",
       " '2021,Level 3,CC32,\"Pulp, Paper and Converted Paper Product Manufacturing\",Dollars (millions),H23,Surplus before income tax,Financial performance,C,ANZSIC06 groups C151 and C152',\n",
       " '2021,Level 3,CC32,\"Pulp, Paper and Converted Paper Product Manufacturing\",Dollars (millions),H24,Total assets,Financial position,\"4,712\",ANZSIC06 groups C151 and C152',\n",
       " '2021,Level 3,CC32,\"Pulp, Paper and Converted Paper Product Manufacturing\",Dollars (millions),H25,Current assets,Financial position,\"2,115\",ANZSIC06 groups C151 and C152',\n",
       " '2021,Level 3,CC32,\"Pulp, Paper and Converted Paper Product Manufacturing\",Dollars (millions),H26,Fixed tangible assets,Financial position,\"1,175\",ANZSIC06 groups C151 and C152',\n",
       " '2021,Level 3,CC32,\"Pulp, Paper and Converted Paper Product Manufacturing\",Dollars (millions),H27,Additions to fixed assets,Financial position,178,ANZSIC06 groups C151 and C152',\n",
       " '2021,Level 3,CC32,\"Pulp, Paper and Converted Paper Product Manufacturing\",Dollars (millions),H28,Disposals of fixed assets,Financial position,C,ANZSIC06 groups C151 and C152',\n",
       " '2021,Level 3,CC32,\"Pulp, Paper and Converted Paper Product Manufacturing\",Dollars (millions),H29,Other assets,Financial position,\"1,422\",ANZSIC06 groups C151 and C152',\n",
       " '2021,Level 3,CC32,\"Pulp, Paper and Converted Paper Product Manufacturing\",Dollars (millions),H30,Total equity and liabilities,Financial position,\"4,712\",ANZSIC06 groups C151 and C152',\n",
       " '2021,Level 3,CC32,\"Pulp, Paper and Converted Paper Product Manufacturing\",Dollars (millions),H31,Shareholders funds or owners equity,Financial position,C,ANZSIC06 groups C151 and C152',\n",
       " '2021,Level 3,CC32,\"Pulp, Paper and Converted Paper Product Manufacturing\",Dollars (millions),H32,Current liabilities,Financial position,\"1,066\",ANZSIC06 groups C151 and C152',\n",
       " '2021,Level 3,CC32,\"Pulp, Paper and Converted Paper Product Manufacturing\",Dollars (millions),H33,Other liabilities,Financial position,C,ANZSIC06 groups C151 and C152',\n",
       " '2021,Level 3,CC32,\"Pulp, Paper and Converted Paper Product Manufacturing\",Dollars,H34,Total income per employee count,Financial ratios,\"682,300\",ANZSIC06 groups C151 and C152',\n",
       " '2021,Level 3,CC32,\"Pulp, Paper and Converted Paper Product Manufacturing\",Dollars,H35,Surplus per employee count,Financial ratios,C,ANZSIC06 groups C151 and C152',\n",
       " '2021,Level 3,CC32,\"Pulp, Paper and Converted Paper Product Manufacturing\",Percentage,H36,Current ratio,Financial ratios,198,ANZSIC06 groups C151 and C152',\n",
       " '2021,Level 3,CC32,\"Pulp, Paper and Converted Paper Product Manufacturing\",Percentage,H37,Quick ratio,Financial ratios,143,ANZSIC06 groups C151 and C152',\n",
       " '2021,Level 3,CC32,\"Pulp, Paper and Converted Paper Product Manufacturing\",Percentage,H38,Margin on sales of goods for resale,Financial ratios,37,ANZSIC06 groups C151 and C152',\n",
       " '2021,Level 3,CC32,\"Pulp, Paper and Converted Paper Product Manufacturing\",Percentage,H39,Return on equity,Financial ratios,C,ANZSIC06 groups C151 and C152',\n",
       " '2021,Level 3,CC32,\"Pulp, Paper and Converted Paper Product Manufacturing\",Percentage,H40,Return on total assets,Financial ratios,C,ANZSIC06 groups C151 and C152',\n",
       " '2021,Level 3,CC32,\"Pulp, Paper and Converted Paper Product Manufacturing\",Percentage,H41,Liabilities structure,Financial ratios,C,ANZSIC06 groups C151 and C152',\n",
       " '2021,Level 4,CC321,\"Pulp, Paper and Converted Paper Product Manufacturing\",Dollars (millions),H01,Total income,Financial performance,\"3,309\",ANZSIC06 groups C151 and C152',\n",
       " '2021,Level 4,CC321,\"Pulp, Paper and Converted Paper Product Manufacturing\",Dollars (millions),H02,Sales of goods not further processed,Financial performance,132,ANZSIC06 groups C151 and C152',\n",
       " '2021,Level 4,CC321,\"Pulp, Paper and Converted Paper Product Manufacturing\",Dollars (millions),H03,Sales of other goods and services,Financial performance,\"3,051\",ANZSIC06 groups C151 and C152',\n",
       " '2021,Level 4,CC321,\"Pulp, Paper and Converted Paper Product Manufacturing\",Dollars (millions),H05,\"Interest, dividends and donations\",Financial performance,3,ANZSIC06 groups C151 and C152',\n",
       " '2021,Level 4,CC321,\"Pulp, Paper and Converted Paper Product Manufacturing\",Dollars (millions),H06,\"Government funding, grants and subsidies\",Financial performance,14,ANZSIC06 groups C151 and C152',\n",
       " '2021,Level 4,CC321,\"Pulp, Paper and Converted Paper Product Manufacturing\",Dollars (millions),H07,Non-operating income,Financial performance,109,ANZSIC06 groups C151 and C152',\n",
       " '2021,Level 4,CC321,\"Pulp, Paper and Converted Paper Product Manufacturing\",Dollars (millions),H08,Total expenditure,Financial performance,\"3,255\",ANZSIC06 groups C151 and C152',\n",
       " '2021,Level 4,CC321,\"Pulp, Paper and Converted Paper Product Manufacturing\",Dollars (millions),H09,Interest and donations,Financial performance,36,ANZSIC06 groups C151 and C152',\n",
       " '2021,Level 4,CC321,\"Pulp, Paper and Converted Paper Product Manufacturing\",Dollars (millions),H10,Indirect taxes,Financial performance,7,ANZSIC06 groups C151 and C152',\n",
       " '2021,Level 4,CC321,\"Pulp, Paper and Converted Paper Product Manufacturing\",Dollars (millions),H11,Depreciation,Financial performance,156,ANZSIC06 groups C151 and C152',\n",
       " '2021,Level 4,CC321,\"Pulp, Paper and Converted Paper Product Manufacturing\",Dollars (millions),H12,Salaries and wages paid,Financial performance,445,ANZSIC06 groups C151 and C152',\n",
       " '2021,Level 4,CC321,\"Pulp, Paper and Converted Paper Product Manufacturing\",Dollars (millions),H13,Redundancy and severance,Financial performance,0,ANZSIC06 groups C151 and C152',\n",
       " '2021,Level 4,CC321,\"Pulp, Paper and Converted Paper Product Manufacturing\",Dollars (millions),H17,Purchases of goods bought for resale,Financial performance,83,ANZSIC06 groups C151 and C152',\n",
       " '2021,Level 4,CC321,\"Pulp, Paper and Converted Paper Product Manufacturing\",Dollars (millions),H18,Other Purchases and operating expenses,Financial performance,\"2,488\",ANZSIC06 groups C151 and C152',\n",
       " '2021,Level 4,CC321,\"Pulp, Paper and Converted Paper Product Manufacturing\",Dollars (millions),H20,Non-operating expenses,Financial performance,41,ANZSIC06 groups C151 and C152',\n",
       " '2021,Level 4,CC321,\"Pulp, Paper and Converted Paper Product Manufacturing\",Dollars (millions),H21,Opening stocks,Financial performance,C,ANZSIC06 groups C151 and C152',\n",
       " '2021,Level 4,CC321,\"Pulp, Paper and Converted Paper Product Manufacturing\",Dollars (millions),H22,Closing stocks,Financial performance,593,ANZSIC06 groups C151 and C152',\n",
       " '2021,Level 4,CC321,\"Pulp, Paper and Converted Paper Product Manufacturing\",Dollars (millions),H23,Surplus before income tax,Financial performance,C,ANZSIC06 groups C151 and C152',\n",
       " '2021,Level 4,CC321,\"Pulp, Paper and Converted Paper Product Manufacturing\",Dollars (millions),H24,Total assets,Financial position,\"4,712\",ANZSIC06 groups C151 and C152',\n",
       " '2021,Level 4,CC321,\"Pulp, Paper and Converted Paper Product Manufacturing\",Dollars (millions),H25,Current assets,Financial position,\"2,115\",ANZSIC06 groups C151 and C152',\n",
       " '2021,Level 4,CC321,\"Pulp, Paper and Converted Paper Product Manufacturing\",Dollars (millions),H26,Fixed tangible assets,Financial position,\"1,175\",ANZSIC06 groups C151 and C152',\n",
       " '2021,Level 4,CC321,\"Pulp, Paper and Converted Paper Product Manufacturing\",Dollars (millions),H27,Additions to fixed assets,Financial position,178,ANZSIC06 groups C151 and C152',\n",
       " '2021,Level 4,CC321,\"Pulp, Paper and Converted Paper Product Manufacturing\",Dollars (millions),H28,Disposals of fixed assets,Financial position,C,ANZSIC06 groups C151 and C152',\n",
       " '2021,Level 4,CC321,\"Pulp, Paper and Converted Paper Product Manufacturing\",Dollars (millions),H29,Other assets,Financial position,\"1,422\",ANZSIC06 groups C151 and C152',\n",
       " '2021,Level 4,CC321,\"Pulp, Paper and Converted Paper Product Manufacturing\",Dollars (millions),H30,Total equity and liabilities,Financial position,\"4,712\",ANZSIC06 groups C151 and C152',\n",
       " '2021,Level 4,CC321,\"Pulp, Paper and Converted Paper Product Manufacturing\",Dollars (millions),H31,Shareholders funds or owners equity,Financial position,C,ANZSIC06 groups C151 and C152',\n",
       " '2021,Level 4,CC321,\"Pulp, Paper and Converted Paper Product Manufacturing\",Dollars (millions),H32,Current liabilities,Financial position,\"1,066\",ANZSIC06 groups C151 and C152',\n",
       " '2021,Level 4,CC321,\"Pulp, Paper and Converted Paper Product Manufacturing\",Dollars (millions),H33,Other liabilities,Financial position,C,ANZSIC06 groups C151 and C152',\n",
       " '2021,Level 4,CC321,\"Pulp, Paper and Converted Paper Product Manufacturing\",Dollars,H34,Total income per employee count,Financial ratios,\"682,300\",ANZSIC06 groups C151 and C152',\n",
       " '2021,Level 4,CC321,\"Pulp, Paper and Converted Paper Product Manufacturing\",Dollars,H35,Surplus per employee count,Financial ratios,C,ANZSIC06 groups C151 and C152',\n",
       " '2021,Level 4,CC321,\"Pulp, Paper and Converted Paper Product Manufacturing\",Percentage,H36,Current ratio,Financial ratios,198,ANZSIC06 groups C151 and C152',\n",
       " '2021,Level 4,CC321,\"Pulp, Paper and Converted Paper Product Manufacturing\",Percentage,H37,Quick ratio,Financial ratios,143,ANZSIC06 groups C151 and C152',\n",
       " '2021,Level 4,CC321,\"Pulp, Paper and Converted Paper Product Manufacturing\",Percentage,H38,Margin on sales of goods for resale,Financial ratios,37,ANZSIC06 groups C151 and C152',\n",
       " '2021,Level 4,CC321,\"Pulp, Paper and Converted Paper Product Manufacturing\",Percentage,H39,Return on equity,Financial ratios,C,ANZSIC06 groups C151 and C152',\n",
       " '2021,Level 4,CC321,\"Pulp, Paper and Converted Paper Product Manufacturing\",Percentage,H40,Return on total assets,Financial ratios,C,ANZSIC06 groups C151 and C152',\n",
       " '2021,Level 4,CC321,\"Pulp, Paper and Converted Paper Product Manufacturing\",Percentage,H41,Liabilities structure,Financial ratios,C,ANZSIC06 groups C151 and C152',\n",
       " '2021,Level 3,CC41,Printing,Dollars (millions),H01,Total income,Financial performance,\"1,371\",ANZSIC06 groups C161 and C162',\n",
       " '2021,Level 3,CC41,Printing,Dollars (millions),H02,Sales of goods not further processed,Financial performance,85,ANZSIC06 groups C161 and C162',\n",
       " '2021,Level 3,CC41,Printing,Dollars (millions),H03,Sales of other goods and services,Financial performance,\"1,209\",ANZSIC06 groups C161 and C162',\n",
       " '2021,Level 3,CC41,Printing,Dollars (millions),H05,\"Interest, dividends and donations\",Financial performance,1,ANZSIC06 groups C161 and C162',\n",
       " '2021,Level 3,CC41,Printing,Dollars (millions),H06,\"Government funding, grants and subsidies\",Financial performance,53,ANZSIC06 groups C161 and C162',\n",
       " '2021,Level 3,CC41,Printing,Dollars (millions),H07,Non-operating income,Financial performance,23,ANZSIC06 groups C161 and C162',\n",
       " '2021,Level 3,CC41,Printing,Dollars (millions),H08,Total expenditure,Financial performance,\"1,279\",ANZSIC06 groups C161 and C162',\n",
       " '2021,Level 3,CC41,Printing,Dollars (millions),H09,Interest and donations,Financial performance,16,ANZSIC06 groups C161 and C162',\n",
       " '2021,Level 3,CC41,Printing,Dollars (millions),H10,Indirect taxes,Financial performance,14,ANZSIC06 groups C161 and C162',\n",
       " '2021,Level 3,CC41,Printing,Dollars (millions),H11,Depreciation,Financial performance,60,ANZSIC06 groups C161 and C162',\n",
       " '2021,Level 3,CC41,Printing,Dollars (millions),H12,Salaries and wages paid,Financial performance,402,ANZSIC06 groups C161 and C162',\n",
       " '2021,Level 3,CC41,Printing,Dollars (millions),H13,Redundancy and severance,Financial performance,C,ANZSIC06 groups C161 and C162',\n",
       " '2021,Level 3,CC41,Printing,Dollars (millions),H17,Purchases of goods bought for resale,Financial performance,58,ANZSIC06 groups C161 and C162',\n",
       " '2021,Level 3,CC41,Printing,Dollars (millions),H18,Other Purchases and operating expenses,Financial performance,719,ANZSIC06 groups C161 and C162',\n",
       " '2021,Level 3,CC41,Printing,Dollars (millions),H20,Non-operating expenses,Financial performance,10,ANZSIC06 groups C161 and C162',\n",
       " '2021,Level 3,CC41,Printing,Dollars (millions),H21,Opening stocks,Financial performance,103,ANZSIC06 groups C161 and C162',\n",
       " '2021,Level 3,CC41,Printing,Dollars (millions),H22,Closing stocks,Financial performance,87,ANZSIC06 groups C161 and C162',\n",
       " '2021,Level 3,CC41,Printing,Dollars (millions),H23,Surplus before income tax,Financial performance,77,ANZSIC06 groups C161 and C162',\n",
       " '2021,Level 3,CC41,Printing,Dollars (millions),H24,Total assets,Financial position,931,ANZSIC06 groups C161 and C162',\n",
       " '2021,Level 3,CC41,Printing,Dollars (millions),H25,Current assets,Financial position,403,ANZSIC06 groups C161 and C162',\n",
       " '2021,Level 3,CC41,Printing,Dollars (millions),H26,Fixed tangible assets,Financial position,243,ANZSIC06 groups C161 and C162',\n",
       " '2021,Level 3,CC41,Printing,Dollars (millions),H27,Additions to fixed assets,Financial position,42,ANZSIC06 groups C161 and C162',\n",
       " '2021,Level 3,CC41,Printing,Dollars (millions),H28,Disposals of fixed assets,Financial position,12,ANZSIC06 groups C161 and C162',\n",
       " '2021,Level 3,CC41,Printing,Dollars (millions),H29,Other assets,Financial position,285,ANZSIC06 groups C161 and C162',\n",
       " '2021,Level 3,CC41,Printing,Dollars (millions),H30,Total equity and liabilities,Financial position,931,ANZSIC06 groups C161 and C162',\n",
       " '2021,Level 3,CC41,Printing,Dollars (millions),H31,Shareholders funds or owners equity,Financial position,250,ANZSIC06 groups C161 and C162',\n",
       " '2021,Level 3,CC41,Printing,Dollars (millions),H32,Current liabilities,Financial position,411,ANZSIC06 groups C161 and C162',\n",
       " '2021,Level 3,CC41,Printing,Dollars (millions),H33,Other liabilities,Financial position,270,ANZSIC06 groups C161 and C162',\n",
       " '2021,Level 3,CC41,Printing,Dollars,H34,Total income per employee count,Financial ratios,\"202,800\",ANZSIC06 groups C161 and C162',\n",
       " '2021,Level 3,CC41,Printing,Dollars,H35,Surplus per employee count,Financial ratios,\"11,400\",ANZSIC06 groups C161 and C162',\n",
       " '2021,Level 3,CC41,Printing,Percentage,H36,Current ratio,Financial ratios,98,ANZSIC06 groups C161 and C162',\n",
       " '2021,Level 3,CC41,Printing,Percentage,H37,Quick ratio,Financial ratios,77,ANZSIC06 groups C161 and C162',\n",
       " '2021,Level 3,CC41,Printing,Percentage,H38,Margin on sales of goods for resale,Financial ratios,31,ANZSIC06 groups C161 and C162',\n",
       " '2021,Level 3,CC41,Printing,Percentage,H39,Return on equity,Financial ratios,31,ANZSIC06 groups C161 and C162',\n",
       " '2021,Level 3,CC41,Printing,Percentage,H40,Return on total assets,Financial ratios,8,ANZSIC06 groups C161 and C162',\n",
       " '2021,Level 3,CC41,Printing,Percentage,H41,Liabilities structure,Financial ratios,27,ANZSIC06 groups C161 and C162',\n",
       " '2021,Level 4,CC411,Printing,Dollars (millions),H01,Total income,Financial performance,\"1,371\",ANZSIC06 groups C161 and C162',\n",
       " '2021,Level 4,CC411,Printing,Dollars (millions),H02,Sales of goods not further processed,Financial performance,85,ANZSIC06 groups C161 and C162',\n",
       " '2021,Level 4,CC411,Printing,Dollars (millions),H03,Sales of other goods and services,Financial performance,\"1,209\",ANZSIC06 groups C161 and C162',\n",
       " '2021,Level 4,CC411,Printing,Dollars (millions),H05,\"Interest, dividends and donations\",Financial performance,1,ANZSIC06 groups C161 and C162',\n",
       " '2021,Level 4,CC411,Printing,Dollars (millions),H06,\"Government funding, grants and subsidies\",Financial performance,53,ANZSIC06 groups C161 and C162',\n",
       " '2021,Level 4,CC411,Printing,Dollars (millions),H07,Non-operating income,Financial performance,23,ANZSIC06 groups C161 and C162',\n",
       " '2021,Level 4,CC411,Printing,Dollars (millions),H08,Total expenditure,Financial performance,\"1,279\",ANZSIC06 groups C161 and C162',\n",
       " '2021,Level 4,CC411,Printing,Dollars (millions),H09,Interest and donations,Financial performance,16,ANZSIC06 groups C161 and C162',\n",
       " '2021,Level 4,CC411,Printing,Dollars (millions),H10,Indirect taxes,Financial performance,14,ANZSIC06 groups C161 and C162',\n",
       " '2021,Level 4,CC411,Printing,Dollars (millions),H11,Depreciation,Financial performance,60,ANZSIC06 groups C161 and C162',\n",
       " '2021,Level 4,CC411,Printing,Dollars (millions),H12,Salaries and wages paid,Financial performance,402,ANZSIC06 groups C161 and C162',\n",
       " '2021,Level 4,CC411,Printing,Dollars (millions),H13,Redundancy and severance,Financial performance,C,ANZSIC06 groups C161 and C162',\n",
       " '2021,Level 4,CC411,Printing,Dollars (millions),H17,Purchases of goods bought for resale,Financial performance,58,ANZSIC06 groups C161 and C162',\n",
       " '2021,Level 4,CC411,Printing,Dollars (millions),H18,Other Purchases and operating expenses,Financial performance,719,ANZSIC06 groups C161 and C162',\n",
       " '2021,Level 4,CC411,Printing,Dollars (millions),H20,Non-operating expenses,Financial performance,10,ANZSIC06 groups C161 and C162',\n",
       " '2021,Level 4,CC411,Printing,Dollars (millions),H21,Opening stocks,Financial performance,103,ANZSIC06 groups C161 and C162',\n",
       " '2021,Level 4,CC411,Printing,Dollars (millions),H22,Closing stocks,Financial performance,87,ANZSIC06 groups C161 and C162',\n",
       " '2021,Level 4,CC411,Printing,Dollars (millions),H23,Surplus before income tax,Financial performance,77,ANZSIC06 groups C161 and C162',\n",
       " '2021,Level 4,CC411,Printing,Dollars (millions),H24,Total assets,Financial position,931,ANZSIC06 groups C161 and C162',\n",
       " '2021,Level 4,CC411,Printing,Dollars (millions),H25,Current assets,Financial position,403,ANZSIC06 groups C161 and C162',\n",
       " '2021,Level 4,CC411,Printing,Dollars (millions),H26,Fixed tangible assets,Financial position,243,ANZSIC06 groups C161 and C162',\n",
       " '2021,Level 4,CC411,Printing,Dollars (millions),H27,Additions to fixed assets,Financial position,42,ANZSIC06 groups C161 and C162',\n",
       " '2021,Level 4,CC411,Printing,Dollars (millions),H28,Disposals of fixed assets,Financial position,12,ANZSIC06 groups C161 and C162',\n",
       " '2021,Level 4,CC411,Printing,Dollars (millions),H29,Other assets,Financial position,285,ANZSIC06 groups C161 and C162',\n",
       " '2021,Level 4,CC411,Printing,Dollars (millions),H30,Total equity and liabilities,Financial position,931,ANZSIC06 groups C161 and C162',\n",
       " '2021,Level 4,CC411,Printing,Dollars (millions),H31,Shareholders funds or owners equity,Financial position,250,ANZSIC06 groups C161 and C162',\n",
       " '2021,Level 4,CC411,Printing,Dollars (millions),H32,Current liabilities,Financial position,411,ANZSIC06 groups C161 and C162',\n",
       " '2021,Level 4,CC411,Printing,Dollars (millions),H33,Other liabilities,Financial position,270,ANZSIC06 groups C161 and C162',\n",
       " '2021,Level 4,CC411,Printing,Dollars,H34,Total income per employee count,Financial ratios,\"202,800\",ANZSIC06 groups C161 and C162',\n",
       " '2021,Level 4,CC411,Printing,Dollars,H35,Surplus per employee count,Financial ratios,\"11,400\",ANZSIC06 groups C161 and C162',\n",
       " '2021,Level 4,CC411,Printing,Percentage,H36,Current ratio,Financial ratios,98,ANZSIC06 groups C161 and C162',\n",
       " '2021,Level 4,CC411,Printing,Percentage,H37,Quick ratio,Financial ratios,77,ANZSIC06 groups C161 and C162',\n",
       " '2021,Level 4,CC411,Printing,Percentage,H38,Margin on sales of goods for resale,Financial ratios,31,ANZSIC06 groups C161 and C162',\n",
       " '2021,Level 4,CC411,Printing,Percentage,H39,Return on equity,Financial ratios,31,ANZSIC06 groups C161 and C162',\n",
       " '2021,Level 4,CC411,Printing,Percentage,H40,Return on total assets,Financial ratios,8,ANZSIC06 groups C161 and C162',\n",
       " '2021,Level 4,CC411,Printing,Percentage,H41,Liabilities structure,Financial ratios,27,ANZSIC06 groups C161 and C162',\n",
       " '2021,Level 3,CC51,Petroleum and Coal Product Manufacturing,Dollars (millions),H01,Total income,Financial performance,\"9,525\",ANZSIC06 group C170',\n",
       " '2021,Level 3,CC51,Petroleum and Coal Product Manufacturing,Dollars (millions),H02,Sales of goods not further processed,Financial performance,\"3,049\",ANZSIC06 group C170',\n",
       " '2021,Level 3,CC51,Petroleum and Coal Product Manufacturing,Dollars (millions),H03,Sales of other goods and services,Financial performance,\"6,416\",ANZSIC06 group C170',\n",
       " '2021,Level 3,CC51,Petroleum and Coal Product Manufacturing,Dollars (millions),H05,\"Interest, dividends and donations\",Financial performance,C,ANZSIC06 group C170',\n",
       " '2021,Level 3,CC51,Petroleum and Coal Product Manufacturing,Dollars (millions),H06,\"Government funding, grants and subsidies\",Financial performance,C,ANZSIC06 group C170',\n",
       " '2021,Level 3,CC51,Petroleum and Coal Product Manufacturing,Dollars (millions),H07,Non-operating income,Financial performance,C,ANZSIC06 group C170',\n",
       " '2021,Level 3,CC51,Petroleum and Coal Product Manufacturing,Dollars (millions),H08,Total expenditure,Financial performance,\"9,876\",ANZSIC06 group C170',\n",
       " '2021,Level 3,CC51,Petroleum and Coal Product Manufacturing,Dollars (millions),H09,Interest and donations,Financial performance,106,ANZSIC06 group C170',\n",
       " '2021,Level 3,CC51,Petroleum and Coal Product Manufacturing,Dollars (millions),H10,Indirect taxes,Financial performance,\"2,300\",ANZSIC06 group C170',\n",
       " '2021,Level 3,CC51,Petroleum and Coal Product Manufacturing,Dollars (millions),H11,Depreciation,Financial performance,C,ANZSIC06 group C170',\n",
       " '2021,Level 3,CC51,Petroleum and Coal Product Manufacturing,Dollars (millions),H12,Salaries and wages paid,Financial performance,251,ANZSIC06 group C170',\n",
       " '2021,Level 3,CC51,Petroleum and Coal Product Manufacturing,Dollars (millions),H13,Redundancy and severance,Financial performance,13,ANZSIC06 group C170',\n",
       " '2021,Level 3,CC51,Petroleum and Coal Product Manufacturing,Dollars (millions),H17,Purchases of goods bought for resale,Financial performance,\"2,565\",ANZSIC06 group C170',\n",
       " '2021,Level 3,CC51,Petroleum and Coal Product Manufacturing,Dollars (millions),H18,Other Purchases and operating expenses,Financial performance,\"4,023\",ANZSIC06 group C170',\n",
       " '2021,Level 3,CC51,Petroleum and Coal Product Manufacturing,Dollars (millions),H20,Non-operating expenses,Financial performance,C,ANZSIC06 group C170',\n",
       " '2021,Level 3,CC51,Petroleum and Coal Product Manufacturing,Dollars (millions),H21,Opening stocks,Financial performance,\"1,212\",ANZSIC06 group C170',\n",
       " '2021,Level 3,CC51,Petroleum and Coal Product Manufacturing,Dollars (millions),H22,Closing stocks,Financial performance,\"1,066\",ANZSIC06 group C170',\n",
       " '2021,Level 3,CC51,Petroleum and Coal Product Manufacturing,Dollars (millions),H23,Surplus before income tax,Financial performance,-498,ANZSIC06 group C170',\n",
       " '2021,Level 3,CC51,Petroleum and Coal Product Manufacturing,Dollars (millions),H24,Total assets,Financial position,\"6,820\",ANZSIC06 group C170',\n",
       " '2021,Level 3,CC51,Petroleum and Coal Product Manufacturing,Dollars (millions),H25,Current assets,Financial position,\"2,962\",ANZSIC06 group C170',\n",
       " '2021,Level 3,CC51,Petroleum and Coal Product Manufacturing,Dollars (millions),H26,Fixed tangible assets,Financial position,\"2,381\",ANZSIC06 group C170',\n",
       " '2021,Level 3,CC51,Petroleum and Coal Product Manufacturing,Dollars (millions),H27,Additions to fixed assets,Financial position,141,ANZSIC06 group C170',\n",
       " '2021,Level 3,CC51,Petroleum and Coal Product Manufacturing,Dollars (millions),H28,Disposals of fixed assets,Financial position,C,ANZSIC06 group C170',\n",
       " '2021,Level 3,CC51,Petroleum and Coal Product Manufacturing,Dollars (millions),H29,Other assets,Financial position,\"1,477\",ANZSIC06 group C170',\n",
       " '2021,Level 3,CC51,Petroleum and Coal Product Manufacturing,Dollars (millions),H30,Total equity and liabilities,Financial position,\"6,820\",ANZSIC06 group C170',\n",
       " '2021,Level 3,CC51,Petroleum and Coal Product Manufacturing,Dollars (millions),H31,Shareholders funds or owners equity,Financial position,\"2,382\",ANZSIC06 group C170',\n",
       " '2021,Level 3,CC51,Petroleum and Coal Product Manufacturing,Dollars (millions),H32,Current liabilities,Financial position,\"1,858\",ANZSIC06 group C170',\n",
       " '2021,Level 3,CC51,Petroleum and Coal Product Manufacturing,Dollars (millions),H33,Other liabilities,Financial position,\"2,581\",ANZSIC06 group C170',\n",
       " '2021,Level 3,CC51,Petroleum and Coal Product Manufacturing,Dollars,H34,Total income per employee count,Financial ratios,\"2,915,100\",ANZSIC06 group C170',\n",
       " '2021,Level 3,CC51,Petroleum and Coal Product Manufacturing,Dollars,H35,Surplus per employee count,Financial ratios,\"-152,300\",ANZSIC06 group C170',\n",
       " '2021,Level 3,CC51,Petroleum and Coal Product Manufacturing,Percentage,H36,Current ratio,Financial ratios,159,ANZSIC06 group C170',\n",
       " '2021,Level 3,CC51,Petroleum and Coal Product Manufacturing,Percentage,H37,Quick ratio,Financial ratios,102,ANZSIC06 group C170',\n",
       " '2021,Level 3,CC51,Petroleum and Coal Product Manufacturing,Percentage,H38,Margin on sales of goods for resale,Financial ratios,16,ANZSIC06 group C170',\n",
       " '2021,Level 3,CC51,Petroleum and Coal Product Manufacturing,Percentage,H39,Return on equity,Financial ratios,-21,ANZSIC06 group C170',\n",
       " '2021,Level 3,CC51,Petroleum and Coal Product Manufacturing,Percentage,H40,Return on total assets,Financial ratios,-7,ANZSIC06 group C170',\n",
       " '2021,Level 3,CC51,Petroleum and Coal Product Manufacturing,Percentage,H41,Liabilities structure,Financial ratios,35,ANZSIC06 group C170',\n",
       " '2021,Level 4,CC511,Petroleum and Coal Product Manufacturing,Dollars (millions),H01,Total income,Financial performance,\"9,525\",ANZSIC06 group C170',\n",
       " '2021,Level 4,CC511,Petroleum and Coal Product Manufacturing,Dollars (millions),H02,Sales of goods not further processed,Financial performance,\"3,049\",ANZSIC06 group C170',\n",
       " '2021,Level 4,CC511,Petroleum and Coal Product Manufacturing,Dollars (millions),H03,Sales of other goods and services,Financial performance,\"6,416\",ANZSIC06 group C170',\n",
       " '2021,Level 4,CC511,Petroleum and Coal Product Manufacturing,Dollars (millions),H05,\"Interest, dividends and donations\",Financial performance,C,ANZSIC06 group C170',\n",
       " '2021,Level 4,CC511,Petroleum and Coal Product Manufacturing,Dollars (millions),H06,\"Government funding, grants and subsidies\",Financial performance,C,ANZSIC06 group C170',\n",
       " '2021,Level 4,CC511,Petroleum and Coal Product Manufacturing,Dollars (millions),H07,Non-operating income,Financial performance,C,ANZSIC06 group C170',\n",
       " '2021,Level 4,CC511,Petroleum and Coal Product Manufacturing,Dollars (millions),H08,Total expenditure,Financial performance,\"9,876\",ANZSIC06 group C170',\n",
       " '2021,Level 4,CC511,Petroleum and Coal Product Manufacturing,Dollars (millions),H09,Interest and donations,Financial performance,106,ANZSIC06 group C170',\n",
       " '2021,Level 4,CC511,Petroleum and Coal Product Manufacturing,Dollars (millions),H10,Indirect taxes,Financial performance,\"2,300\",ANZSIC06 group C170',\n",
       " '2021,Level 4,CC511,Petroleum and Coal Product Manufacturing,Dollars (millions),H11,Depreciation,Financial performance,C,ANZSIC06 group C170',\n",
       " '2021,Level 4,CC511,Petroleum and Coal Product Manufacturing,Dollars (millions),H12,Salaries and wages paid,Financial performance,251,ANZSIC06 group C170',\n",
       " '2021,Level 4,CC511,Petroleum and Coal Product Manufacturing,Dollars (millions),H13,Redundancy and severance,Financial performance,13,ANZSIC06 group C170',\n",
       " '2021,Level 4,CC511,Petroleum and Coal Product Manufacturing,Dollars (millions),H17,Purchases of goods bought for resale,Financial performance,\"2,565\",ANZSIC06 group C170',\n",
       " '2021,Level 4,CC511,Petroleum and Coal Product Manufacturing,Dollars (millions),H18,Other Purchases and operating expenses,Financial performance,\"4,023\",ANZSIC06 group C170',\n",
       " '2021,Level 4,CC511,Petroleum and Coal Product Manufacturing,Dollars (millions),H20,Non-operating expenses,Financial performance,C,ANZSIC06 group C170',\n",
       " '2021,Level 4,CC511,Petroleum and Coal Product Manufacturing,Dollars (millions),H21,Opening stocks,Financial performance,\"1,212\",ANZSIC06 group C170',\n",
       " '2021,Level 4,CC511,Petroleum and Coal Product Manufacturing,Dollars (millions),H22,Closing stocks,Financial performance,\"1,066\",ANZSIC06 group C170',\n",
       " '2021,Level 4,CC511,Petroleum and Coal Product Manufacturing,Dollars (millions),H23,Surplus before income tax,Financial performance,-498,ANZSIC06 group C170',\n",
       " '2021,Level 4,CC511,Petroleum and Coal Product Manufacturing,Dollars (millions),H24,Total assets,Financial position,\"6,820\",ANZSIC06 group C170',\n",
       " '2021,Level 4,CC511,Petroleum and Coal Product Manufacturing,Dollars (millions),H25,Current assets,Financial position,\"2,962\",ANZSIC06 group C170',\n",
       " '2021,Level 4,CC511,Petroleum and Coal Product Manufacturing,Dollars (millions),H26,Fixed tangible assets,Financial position,\"2,381\",ANZSIC06 group C170',\n",
       " '2021,Level 4,CC511,Petroleum and Coal Product Manufacturing,Dollars (millions),H27,Additions to fixed assets,Financial position,141,ANZSIC06 group C170',\n",
       " '2021,Level 4,CC511,Petroleum and Coal Product Manufacturing,Dollars (millions),H28,Disposals of fixed assets,Financial position,C,ANZSIC06 group C170',\n",
       " '2021,Level 4,CC511,Petroleum and Coal Product Manufacturing,Dollars (millions),H29,Other assets,Financial position,\"1,477\",ANZSIC06 group C170',\n",
       " '2021,Level 4,CC511,Petroleum and Coal Product Manufacturing,Dollars (millions),H30,Total equity and liabilities,Financial position,\"6,820\",ANZSIC06 group C170',\n",
       " '2021,Level 4,CC511,Petroleum and Coal Product Manufacturing,Dollars (millions),H31,Shareholders funds or owners equity,Financial position,\"2,382\",ANZSIC06 group C170',\n",
       " '2021,Level 4,CC511,Petroleum and Coal Product Manufacturing,Dollars (millions),H32,Current liabilities,Financial position,\"1,858\",ANZSIC06 group C170',\n",
       " '2021,Level 4,CC511,Petroleum and Coal Product Manufacturing,Dollars (millions),H33,Other liabilities,Financial position,\"2,581\",ANZSIC06 group C170',\n",
       " '2021,Level 4,CC511,Petroleum and Coal Product Manufacturing,Dollars,H34,Total income per employee count,Financial ratios,\"2,915,100\",ANZSIC06 group C170',\n",
       " '2021,Level 4,CC511,Petroleum and Coal Product Manufacturing,Dollars,H35,Surplus per employee count,Financial ratios,\"-152,300\",ANZSIC06 group C170',\n",
       " '2021,Level 4,CC511,Petroleum and Coal Product Manufacturing,Percentage,H36,Current ratio,Financial ratios,159,ANZSIC06 group C170',\n",
       " '2021,Level 4,CC511,Petroleum and Coal Product Manufacturing,Percentage,H37,Quick ratio,Financial ratios,102,ANZSIC06 group C170',\n",
       " '2021,Level 4,CC511,Petroleum and Coal Product Manufacturing,Percentage,H38,Margin on sales of goods for resale,Financial ratios,16,ANZSIC06 group C170',\n",
       " '2021,Level 4,CC511,Petroleum and Coal Product Manufacturing,Percentage,H39,Return on equity,Financial ratios,-21,ANZSIC06 group C170',\n",
       " '2021,Level 4,CC511,Petroleum and Coal Product Manufacturing,Percentage,H40,Return on total assets,Financial ratios,-7,ANZSIC06 group C170',\n",
       " '2021,Level 4,CC511,Petroleum and Coal Product Manufacturing,Percentage,H41,Liabilities structure,Financial ratios,35,ANZSIC06 group C170',\n",
       " '2021,Level 3,CC52,Basic Chemical and Chemical Product Manufacturing,Dollars (millions),H01,Total income,Financial performance,\"5,755\",\"ANZSIC06 groups C181, C182, C183, C184, C185, and C189\"',\n",
       " '2021,Level 3,CC52,Basic Chemical and Chemical Product Manufacturing,Dollars (millions),H02,Sales of goods not further processed,Financial performance,\"1,060\",\"ANZSIC06 groups C181, C182, C183, C184, C185, and C189\"',\n",
       " '2021,Level 3,CC52,Basic Chemical and Chemical Product Manufacturing,Dollars (millions),H03,Sales of other goods and services,Financial performance,\"4,561\",\"ANZSIC06 groups C181, C182, C183, C184, C185, and C189\"',\n",
       " '2021,Level 3,CC52,Basic Chemical and Chemical Product Manufacturing,Dollars (millions),H05,\"Interest, dividends and donations\",Financial performance,15,\"ANZSIC06 groups C181, C182, C183, C184, C185, and C189\"',\n",
       " '2021,Level 3,CC52,Basic Chemical and Chemical Product Manufacturing,Dollars (millions),H06,\"Government funding, grants and subsidies\",Financial performance,52,\"ANZSIC06 groups C181, C182, C183, C184, C185, and C189\"',\n",
       " '2021,Level 3,CC52,Basic Chemical and Chemical Product Manufacturing,Dollars (millions),H07,Non-operating income,Financial performance,66,\"ANZSIC06 groups C181, C182, C183, C184, C185, and C189\"',\n",
       " '2021,Level 3,CC52,Basic Chemical and Chemical Product Manufacturing,Dollars (millions),H08,Total expenditure,Financial performance,\"5,469\",\"ANZSIC06 groups C181, C182, C183, C184, C185, and C189\"',\n",
       " '2021,Level 3,CC52,Basic Chemical and Chemical Product Manufacturing,Dollars (millions),H09,Interest and donations,Financial performance,65,\"ANZSIC06 groups C181, C182, C183, C184, C185, and C189\"',\n",
       " '2021,Level 3,CC52,Basic Chemical and Chemical Product Manufacturing,Dollars (millions),H10,Indirect taxes,Financial performance,21,\"ANZSIC06 groups C181, C182, C183, C184, C185, and C189\"',\n",
       " '2021,Level 3,CC52,Basic Chemical and Chemical Product Manufacturing,Dollars (millions),H11,Depreciation,Financial performance,274,\"ANZSIC06 groups C181, C182, C183, C184, C185, and C189\"',\n",
       " '2021,Level 3,CC52,Basic Chemical and Chemical Product Manufacturing,Dollars (millions),H12,Salaries and wages paid,Financial performance,699,\"ANZSIC06 groups C181, C182, C183, C184, C185, and C189\"',\n",
       " '2021,Level 3,CC52,Basic Chemical and Chemical Product Manufacturing,Dollars (millions),H13,Redundancy and severance,Financial performance,5,\"ANZSIC06 groups C181, C182, C183, C184, C185, and C189\"',\n",
       " '2021,Level 3,CC52,Basic Chemical and Chemical Product Manufacturing,Dollars (millions),H17,Purchases of goods bought for resale,Financial performance,757,\"ANZSIC06 groups C181, C182, C183, C184, C185, and C189\"',\n",
       " '2021,Level 3,CC52,Basic Chemical and Chemical Product Manufacturing,Dollars (millions),H18,Other Purchases and operating expenses,Financial performance,\"3,579\",\"ANZSIC06 groups C181, C182, C183, C184, C185, and C189\"',\n",
       " '2021,Level 3,CC52,Basic Chemical and Chemical Product Manufacturing,Dollars (millions),H20,Non-operating expenses,Financial performance,76,\"ANZSIC06 groups C181, C182, C183, C184, C185, and C189\"',\n",
       " '2021,Level 3,CC52,Basic Chemical and Chemical Product Manufacturing,Dollars (millions),H21,Opening stocks,Financial performance,\"1,000\",\"ANZSIC06 groups C181, C182, C183, C184, C185, and C189\"',\n",
       " '2021,Level 3,CC52,Basic Chemical and Chemical Product Manufacturing,Dollars (millions),H22,Closing stocks,Financial performance,974,\"ANZSIC06 groups C181, C182, C183, C184, C185, and C189\"',\n",
       " '2021,Level 3,CC52,Basic Chemical and Chemical Product Manufacturing,Dollars (millions),H23,Surplus before income tax,Financial performance,260,\"ANZSIC06 groups C181, C182, C183, C184, C185, and C189\"',\n",
       " '2021,Level 3,CC52,Basic Chemical and Chemical Product Manufacturing,Dollars (millions),H24,Total assets,Financial position,\"5,598\",\"ANZSIC06 groups C181, C182, C183, C184, C185, and C189\"',\n",
       " '2021,Level 3,CC52,Basic Chemical and Chemical Product Manufacturing,Dollars (millions),H25,Current assets,Financial position,\"2,646\",\"ANZSIC06 groups C181, C182, C183, C184, C185, and C189\"',\n",
       " '2021,Level 3,CC52,Basic Chemical and Chemical Product Manufacturing,Dollars (millions),H26,Fixed tangible assets,Financial position,\"1,790\",\"ANZSIC06 groups C181, C182, C183, C184, C185, and C189\"',\n",
       " '2021,Level 3,CC52,Basic Chemical and Chemical Product Manufacturing,Dollars (millions),H27,Additions to fixed assets,Financial position,270,\"ANZSIC06 groups C181, C182, C183, C184, C185, and C189\"',\n",
       " '2021,Level 3,CC52,Basic Chemical and Chemical Product Manufacturing,Dollars (millions),H28,Disposals of fixed assets,Financial position,83,\"ANZSIC06 groups C181, C182, C183, C184, C185, and C189\"',\n",
       " '2021,Level 3,CC52,Basic Chemical and Chemical Product Manufacturing,Dollars (millions),H29,Other assets,Financial position,\"1,162\",\"ANZSIC06 groups C181, C182, C183, C184, C185, and C189\"',\n",
       " '2021,Level 3,CC52,Basic Chemical and Chemical Product Manufacturing,Dollars (millions),H30,Total equity and liabilities,Financial position,\"5,598\",\"ANZSIC06 groups C181, C182, C183, C184, C185, and C189\"',\n",
       " '2021,Level 3,CC52,Basic Chemical and Chemical Product Manufacturing,Dollars (millions),H31,Shareholders funds or owners equity,Financial position,\"2,821\",\"ANZSIC06 groups C181, C182, C183, C184, C185, and C189\"',\n",
       " '2021,Level 3,CC52,Basic Chemical and Chemical Product Manufacturing,Dollars (millions),H32,Current liabilities,Financial position,\"1,852\",\"ANZSIC06 groups C181, C182, C183, C184, C185, and C189\"',\n",
       " '2021,Level 3,CC52,Basic Chemical and Chemical Product Manufacturing,Dollars (millions),H33,Other liabilities,Financial position,925,\"ANZSIC06 groups C181, C182, C183, C184, C185, and C189\"',\n",
       " '2021,Level 3,CC52,Basic Chemical and Chemical Product Manufacturing,Dollars,H34,Total income per employee count,Financial ratios,\"645,200\",\"ANZSIC06 groups C181, C182, C183, C184, C185, and C189\"',\n",
       " '2021,Level 3,CC52,Basic Chemical and Chemical Product Manufacturing,Dollars,H35,Surplus per employee count,Financial ratios,\"29,200\",\"ANZSIC06 groups C181, C182, C183, C184, C185, and C189\"',\n",
       " '2021,Level 3,CC52,Basic Chemical and Chemical Product Manufacturing,Percentage,H36,Current ratio,Financial ratios,143,\"ANZSIC06 groups C181, C182, C183, C184, C185, and C189\"',\n",
       " '2021,Level 3,CC52,Basic Chemical and Chemical Product Manufacturing,Percentage,H37,Quick ratio,Financial ratios,90,\"ANZSIC06 groups C181, C182, C183, C184, C185, and C189\"',\n",
       " '2021,Level 3,CC52,Basic Chemical and Chemical Product Manufacturing,Percentage,H38,Margin on sales of goods for resale,Financial ratios,29,\"ANZSIC06 groups C181, C182, C183, C184, C185, and C189\"',\n",
       " '2021,Level 3,CC52,Basic Chemical and Chemical Product Manufacturing,Percentage,H39,Return on equity,Financial ratios,9,\"ANZSIC06 groups C181, C182, C183, C184, C185, and C189\"',\n",
       " '2021,Level 3,CC52,Basic Chemical and Chemical Product Manufacturing,Percentage,H40,Return on total assets,Financial ratios,5,\"ANZSIC06 groups C181, C182, C183, C184, C185, and C189\"',\n",
       " '2021,Level 3,CC52,Basic Chemical and Chemical Product Manufacturing,Percentage,H41,Liabilities structure,Financial ratios,50,\"ANZSIC06 groups C181, C182, C183, C184, C185, and C189\"',\n",
       " '2021,Level 4,CC521,Basic Chemical and Basic Polymer Manufacturing,Dollars (millions),H01,Total income,Financial performance,\"1,631\",ANZSIC06 groups C181 and C182',\n",
       " ...]"
      ]
     },
     "execution_count": 30,
     "metadata": {},
     "output_type": "execute_result"
    }
   ],
   "source": [
    "rdd3 = spark.sparkContext.textFile(\"annual-enterprise-survey-2021-financial-year-provisional-csv.csv\")\n",
    "rdd3.collect()"
   ]
  },
  {
   "cell_type": "code",
   "execution_count": 31,
   "id": "64235e8d-b54e-4de6-9abe-93b431aa2131",
   "metadata": {
    "tags": []
   },
   "outputs": [],
   "source": [
    "rdd4 = spark.sparkContext.emptyRDD"
   ]
  },
  {
   "cell_type": "code",
   "execution_count": 32,
   "id": "a4278d53-2fe8-46e3-8d31-4db164c98ca1",
   "metadata": {
    "tags": []
   },
   "outputs": [
    {
     "data": {
      "text/plain": [
       "[]"
      ]
     },
     "execution_count": 32,
     "metadata": {},
     "output_type": "execute_result"
    }
   ],
   "source": [
    "rdd5 = spark.sparkContext.parallelize([], 10)\n",
    "rdd5.collect()"
   ]
  },
  {
   "cell_type": "code",
   "execution_count": 33,
   "id": "9f4a9215-58c5-42db-beaa-5bf3e607af05",
   "metadata": {
    "tags": []
   },
   "outputs": [
    {
     "name": "stdout",
     "output_type": "stream",
     "text": [
      "Number of partitions in rdd 1\n"
     ]
    }
   ],
   "source": [
    "print(\"Number of partitions in rdd\", rdd.getNumPartitions())"
   ]
  },
  {
   "cell_type": "code",
   "execution_count": 56,
   "id": "f4dc6743-f4a0-4420-b1d4-1b7de5ee4aa4",
   "metadata": {
    "tags": []
   },
   "outputs": [
    {
     "name": "stdout",
     "output_type": "stream",
     "text": [
      "Number of partitions in rdd 4\n"
     ]
    }
   ],
   "source": [
    "rdd6 = rdd.repartition(4)\n",
    "print(\"Number of partitions in rdd\", rdd6.getNumPartitions())"
   ]
  },
  {
   "cell_type": "code",
   "execution_count": 35,
   "id": "453f8ca4-27f5-4baa-b97c-686ad509fea1",
   "metadata": {
    "tags": []
   },
   "outputs": [
    {
     "name": "stdout",
     "output_type": "stream",
     "text": [
      "Number of partitions in rdd 2\n"
     ]
    }
   ],
   "source": [
    "rdd7 = rdd6.coalesce(2)\n",
    "print(\"Number of partitions in rdd\", rdd7.getNumPartitions())"
   ]
  },
  {
   "cell_type": "code",
   "execution_count": 58,
   "id": "1a5f7063-f4be-4967-9250-0632a74137ca",
   "metadata": {
    "tags": []
   },
   "outputs": [],
   "source": [
    "rdd6.saveAsTextFile(\"/home/basu/xy.txt\")"
   ]
  },
  {
   "cell_type": "code",
   "execution_count": 39,
   "id": "a2bebec3-7388-4b8e-9e8e-93059ad0b628",
   "metadata": {
    "tags": []
   },
   "outputs": [
    {
     "data": {
      "text/plain": [
       "['a', 'b', 'c', 'd', 'e']"
      ]
     },
     "execution_count": 39,
     "metadata": {},
     "output_type": "execute_result"
    }
   ],
   "source": [
    "rdd8 = spark.sparkContext.textFile(\"/home/basu/xy.txt\")\n",
    "rdd8.collect()"
   ]
  },
  {
   "cell_type": "code",
   "execution_count": 40,
   "id": "5a873f50-1959-47fe-8094-1f9d17b91e9f",
   "metadata": {
    "tags": []
   },
   "outputs": [],
   "source": [
    "rdd9 = spark.sparkContext.parallelize(range(0, 20), 6)"
   ]
  },
  {
   "cell_type": "code",
   "execution_count": 41,
   "id": "1eee7c01-294d-4c05-a36f-341d53d2d1f2",
   "metadata": {
    "tags": []
   },
   "outputs": [
    {
     "data": {
      "text/plain": [
       "[0, 1, 2, 3, 4, 5, 6, 7, 8, 9, 10, 11, 12, 13, 14, 15, 16, 17, 18, 19]"
      ]
     },
     "execution_count": 41,
     "metadata": {},
     "output_type": "execute_result"
    }
   ],
   "source": [
    "rdd9.collect()"
   ]
  },
  {
   "cell_type": "code",
   "execution_count": 42,
   "id": "b6a92d72-3597-4460-9005-b2be2eb98a39",
   "metadata": {
    "collapsed": true,
    "jupyter": {
     "outputs_hidden": true
    },
    "tags": []
   },
   "outputs": [
    {
     "data": {
      "text/plain": [
       "['3',\n",
       " '4',\n",
       " '5',\n",
       " '0',\n",
       " '1',\n",
       " '2',\n",
       " '10',\n",
       " '11',\n",
       " '12',\n",
       " '6',\n",
       " '7',\n",
       " '8',\n",
       " '9',\n",
       " '16',\n",
       " '17',\n",
       " '18',\n",
       " '19',\n",
       " '13',\n",
       " '14',\n",
       " '15']"
      ]
     },
     "execution_count": 42,
     "metadata": {},
     "output_type": "execute_result"
    }
   ],
   "source": [
    "rdd9.saveAsTextFile(\"/home/basu/xyz.txt\")\n",
    "rdd10 = spark.sparkContext.textFile(\"/home/basu/xyz.txt\")\n",
    "rdd10.collect()"
   ]
  },
  {
   "cell_type": "code",
   "execution_count": 43,
   "id": "d4b23080-a9a6-4a9f-9758-741dcbaa103f",
   "metadata": {
    "tags": []
   },
   "outputs": [
    {
     "name": "stdout",
     "output_type": "stream",
     "text": [
      "parallelize : 6\n"
     ]
    }
   ],
   "source": [
    "rdd11 = spark.sparkContext.parallelize(range(0,25), 6)\n",
    "print(\"parallelize : \"+str(rdd11.getNumPartitions()))"
   ]
  },
  {
   "cell_type": "code",
   "execution_count": 44,
   "id": "bc84e338-4314-4063-8b73-8a97d6f60935",
   "metadata": {
    "tags": []
   },
   "outputs": [],
   "source": [
    "rdd11.saveAsTextFile(\"/home/basu/pyspark/xyz.txt\")"
   ]
  },
  {
   "cell_type": "code",
   "execution_count": 46,
   "id": "1dda40c8-c231-436b-a4d6-e874eaf44a01",
   "metadata": {
    "collapsed": true,
    "jupyter": {
     "outputs_hidden": true
    },
    "tags": []
   },
   "outputs": [
    {
     "data": {
      "text/plain": [
       "['4',\n",
       " '5',\n",
       " '6',\n",
       " '7',\n",
       " '0',\n",
       " '1',\n",
       " '2',\n",
       " '3',\n",
       " '12',\n",
       " '13',\n",
       " '14',\n",
       " '15',\n",
       " '8',\n",
       " '9',\n",
       " '10',\n",
       " '11',\n",
       " '20',\n",
       " '21',\n",
       " '22',\n",
       " '23',\n",
       " '24',\n",
       " '16',\n",
       " '17',\n",
       " '18',\n",
       " '19']"
      ]
     },
     "execution_count": 46,
     "metadata": {},
     "output_type": "execute_result"
    }
   ],
   "source": [
    "rdd12 = spark.sparkContext.textFile(\"/home/basu/pyspark/xyz.txt\")\n",
    "rdd12.collect()"
   ]
  },
  {
   "cell_type": "code",
   "execution_count": 49,
   "id": "4f817bcb-8e26-4775-9a7a-719a2836e5e7",
   "metadata": {},
   "outputs": [
    {
     "data": {
      "text/plain": [
       "[['4'],\n",
       " ['5'],\n",
       " ['6'],\n",
       " ['7'],\n",
       " ['0'],\n",
       " ['1'],\n",
       " ['2'],\n",
       " ['3'],\n",
       " ['12'],\n",
       " ['13'],\n",
       " ['14'],\n",
       " ['15'],\n",
       " ['8'],\n",
       " ['9'],\n",
       " ['10'],\n",
       " ['11'],\n",
       " ['20'],\n",
       " ['21'],\n",
       " ['22'],\n",
       " ['23'],\n",
       " ['24'],\n",
       " ['16'],\n",
       " ['17'],\n",
       " ['18'],\n",
       " ['19']]"
      ]
     },
     "execution_count": 49,
     "metadata": {},
     "output_type": "execute_result"
    }
   ],
   "source": [
    "rdd_x = rdd13.map(lambda x: x.split(\" \"))\n",
    "rdd_x.collect()"
   ]
  },
  {
   "cell_type": "code",
   "execution_count": 50,
   "id": "6f8629e5-9fc0-4d2a-a82e-0b23f49e06b2",
   "metadata": {
    "collapsed": true,
    "jupyter": {
     "outputs_hidden": true,
     "source_hidden": true
    },
    "tags": []
   },
   "outputs": [
    {
     "data": {
      "text/plain": [
       "['4',\n",
       " '5',\n",
       " '6',\n",
       " '7',\n",
       " '0',\n",
       " '1',\n",
       " '2',\n",
       " '3',\n",
       " '12',\n",
       " '13',\n",
       " '14',\n",
       " '15',\n",
       " '8',\n",
       " '9',\n",
       " '10',\n",
       " '11',\n",
       " '20',\n",
       " '21',\n",
       " '22',\n",
       " '23',\n",
       " '24',\n",
       " '16',\n",
       " '17',\n",
       " '18',\n",
       " '19']"
      ]
     },
     "execution_count": 50,
     "metadata": {},
     "output_type": "execute_result"
    }
   ],
   "source": [
    "rdd13 = spark.sparkContext.textFile(\"/home/basu/pyspark/xyz.txt\")\n",
    "reg = \" \"\n",
    "rdd14 = rdd13.flatMap(lambda x : x.split(\" \"))\n",
    "rdd14.collect()"
   ]
  },
  {
   "cell_type": "code",
   "execution_count": 1,
   "id": "da012e47-009a-40d2-8331-3948180f2692",
   "metadata": {
    "tags": []
   },
   "outputs": [
    {
     "ename": "NameError",
     "evalue": "name 'rdd14' is not defined",
     "output_type": "error",
     "traceback": [
      "\u001b[0;31m---------------------------------------------------------------------------\u001b[0m",
      "\u001b[0;31mNameError\u001b[0m                                 Traceback (most recent call last)",
      "Cell \u001b[0;32mIn[1], line 1\u001b[0m\n\u001b[0;32m----> 1\u001b[0m rdd15 \u001b[38;5;241m=\u001b[39m \u001b[43mrdd14\u001b[49m\u001b[38;5;241m.\u001b[39mmap(\u001b[38;5;28;01mlambda\u001b[39;00m x: (x, \u001b[38;5;241m1\u001b[39m))\n\u001b[1;32m      2\u001b[0m rdd15\u001b[38;5;241m.\u001b[39mcollect()\n",
      "\u001b[0;31mNameError\u001b[0m: name 'rdd14' is not defined"
     ]
    }
   ],
   "source": [
    "rdd15 = rdd14.map(lambda x: (x, 1))\n",
    "rdd15.collect()"
   ]
  },
  {
   "cell_type": "code",
   "execution_count": 30,
   "id": "3422051b-3d6e-4880-ae27-5841103eed2e",
   "metadata": {
    "tags": []
   },
   "outputs": [
    {
     "ename": "NameError",
     "evalue": "name 'rdd15' is not defined",
     "output_type": "error",
     "traceback": [
      "\u001b[0;31m---------------------------------------------------------------------------\u001b[0m",
      "\u001b[0;31mNameError\u001b[0m                                 Traceback (most recent call last)",
      "Cell \u001b[0;32mIn[30], line 1\u001b[0m\n\u001b[0;32m----> 1\u001b[0m rdd16 \u001b[38;5;241m=\u001b[39m \u001b[43mrdd15\u001b[49m\u001b[38;5;241m.\u001b[39mreduceByKey(\u001b[38;5;28;01mlambda\u001b[39;00m x, y: (x\u001b[38;5;241m+\u001b[39my))\n\u001b[1;32m      2\u001b[0m rdd16\u001b[38;5;241m.\u001b[39mcollect()\n",
      "\u001b[0;31mNameError\u001b[0m: name 'rdd15' is not defined"
     ]
    }
   ],
   "source": [
    "rdd16 = rdd15.reduceByKey(lambda x, y: (x+y))\n",
    "rdd16.collect()"
   ]
  },
  {
   "cell_type": "code",
   "execution_count": null,
   "id": "d2530ca3-3048-407b-9572-87480f787967",
   "metadata": {
    "tags": []
   },
   "outputs": [],
   "source": [
    "rdd16.remove(\" \")"
   ]
  },
  {
   "cell_type": "code",
   "execution_count": 29,
   "id": "7d74c0f4-cbf5-45a4-89db-1fbbe74ef754",
   "metadata": {
    "tags": []
   },
   "outputs": [
    {
     "data": {
      "text/plain": [
       "[('b', 4), ('b', 5)]"
      ]
     },
     "execution_count": 29,
     "metadata": {},
     "output_type": "execute_result"
    }
   ],
   "source": [
    "rddx = spark.sparkContext.parallelize([(\"a\", 1), (\"b\", 4), (\"b\", 5), (\"a\", 2)])\n",
    "\n",
    "rddy = spark.sparkContext.parallelize([(\"a\", 3), (\"c\", None)])\n",
    "\n",
    "rddx.subtractByKey(rddy).collect()\n"
   ]
  },
  {
   "cell_type": "code",
   "execution_count": 28,
   "id": "ab24b1db-f4c7-4758-93ff-f8fb275b912a",
   "metadata": {
    "tags": []
   },
   "outputs": [
    {
     "ename": "NameError",
     "evalue": "name 'rdd16' is not defined",
     "output_type": "error",
     "traceback": [
      "\u001b[0;31m---------------------------------------------------------------------------\u001b[0m",
      "\u001b[0;31mNameError\u001b[0m                                 Traceback (most recent call last)",
      "Cell \u001b[0;32mIn[28], line 1\u001b[0m\n\u001b[0;32m----> 1\u001b[0m rdd17 \u001b[38;5;241m=\u001b[39m \u001b[43mrdd16\u001b[49m\u001b[38;5;241m.\u001b[39mmap(\u001b[38;5;28;01mlambda\u001b[39;00m x: (x[\u001b[38;5;241m1\u001b[39m],x[\u001b[38;5;241m0\u001b[39m]))\u001b[38;5;241m.\u001b[39msortByKey()\n\u001b[1;32m      2\u001b[0m \u001b[38;5;66;03m#Print rdd5 result to console\u001b[39;00m\n\u001b[1;32m      3\u001b[0m \u001b[38;5;28mprint\u001b[39m(rdd17\u001b[38;5;241m.\u001b[39mcollect())\n",
      "\u001b[0;31mNameError\u001b[0m: name 'rdd16' is not defined"
     ]
    }
   ],
   "source": [
    "rdd17 = rdd16.map(lambda x: (x[1],x[0])).sortByKey()\n",
    "#Print rdd5 result to console\n",
    "print(rdd17.collect())"
   ]
  },
  {
   "cell_type": "code",
   "execution_count": 27,
   "id": "b69a94c2-1b10-4e19-b757-9ceb1524f1d6",
   "metadata": {
    "tags": []
   },
   "outputs": [
    {
     "ename": "NameError",
     "evalue": "name 'rdd16' is not defined",
     "output_type": "error",
     "traceback": [
      "\u001b[0;31m---------------------------------------------------------------------------\u001b[0m",
      "\u001b[0;31mNameError\u001b[0m                                 Traceback (most recent call last)",
      "Cell \u001b[0;32mIn[27], line 1\u001b[0m\n\u001b[0;32m----> 1\u001b[0m rdd17 \u001b[38;5;241m=\u001b[39m \u001b[43mrdd16\u001b[49m\u001b[38;5;241m.\u001b[39mmap(\u001b[38;5;28;01mlambda\u001b[39;00m x: (x[\u001b[38;5;241m1\u001b[39m],x[\u001b[38;5;241m0\u001b[39m]))\u001b[38;5;241m.\u001b[39msortByKey()\n\u001b[1;32m      2\u001b[0m \u001b[38;5;28mprint\u001b[39m(rdd17\u001b[38;5;241m.\u001b[39mcollect())\n",
      "\u001b[0;31mNameError\u001b[0m: name 'rdd16' is not defined"
     ]
    }
   ],
   "source": [
    "rdd17 = rdd16.map(lambda x: (x[1],x[0])).sortByKey()\n",
    "print(rdd17.collect())"
   ]
  },
  {
   "cell_type": "code",
   "execution_count": null,
   "id": "c8d4e8e9-5c39-4c8b-bd4f-0df029db43ca",
   "metadata": {
    "tags": []
   },
   "outputs": [],
   "source": [
    "rdd18 = rdd17.filter(lambda x : 'an' in x[1])\n",
    "print(rdd18.collect())\n"
   ]
  },
  {
   "cell_type": "code",
   "execution_count": null,
   "id": "ee24891e-d049-493f-81ee-61dbd904f2b8",
   "metadata": {
    "tags": []
   },
   "outputs": [],
   "source": [
    "rdd17.count()"
   ]
  },
  {
   "cell_type": "code",
   "execution_count": null,
   "id": "3baaab1b-2acb-4673-bd38-8988b2b3012f",
   "metadata": {
    "tags": []
   },
   "outputs": [],
   "source": [
    "rdd17.first()"
   ]
  },
  {
   "cell_type": "code",
   "execution_count": null,
   "id": "2e0fd9f9-f721-4acc-bb67-bf92a76fbd88",
   "metadata": {
    "tags": []
   },
   "outputs": [],
   "source": [
    "rdd17.max()"
   ]
  },
  {
   "cell_type": "code",
   "execution_count": null,
   "id": "f48616cb-0afe-4e3d-b815-8d40ef9b6217",
   "metadata": {
    "tags": []
   },
   "outputs": [],
   "source": [
    "rdd17.reduce(lambda a,b: (a[0]+b[0],a[1]))"
   ]
  },
  {
   "cell_type": "code",
   "execution_count": 26,
   "id": "c1fbb972-9799-49f5-a8b0-aa9e0cf032c1",
   "metadata": {
    "tags": []
   },
   "outputs": [
    {
     "ename": "NameError",
     "evalue": "name 'rdd17' is not defined",
     "output_type": "error",
     "traceback": [
      "\u001b[0;31m---------------------------------------------------------------------------\u001b[0m",
      "\u001b[0;31mNameError\u001b[0m                                 Traceback (most recent call last)",
      "Cell \u001b[0;32mIn[26], line 1\u001b[0m\n\u001b[0;32m----> 1\u001b[0m \u001b[43mrdd17\u001b[49m\u001b[38;5;241m.\u001b[39mtake(\u001b[38;5;241m70\u001b[39m)\n",
      "\u001b[0;31mNameError\u001b[0m: name 'rdd17' is not defined"
     ]
    }
   ],
   "source": [
    "rdd17.take(70)"
   ]
  },
  {
   "cell_type": "code",
   "execution_count": 32,
   "id": "0675f858-c5f0-4b77-b0c4-8425b0cd45e7",
   "metadata": {},
   "outputs": [],
   "source": [
    "spark = SparkSession.builder.master('local[1]').getOrCreate()"
   ]
  },
  {
   "cell_type": "code",
   "execution_count": 35,
   "id": "dd614983-7b51-4e92-8524-882c8897118b",
   "metadata": {
    "tags": []
   },
   "outputs": [
    {
     "data": {
      "text/plain": [
       "['Germany India USA', 'USA India Russia', 'India Brazil Canada China']"
      ]
     },
     "execution_count": 35,
     "metadata": {},
     "output_type": "execute_result"
    }
   ],
   "source": [
    "li = [\"Germany India USA\",\"USA India Russia\",\"India Brazil Canada China\"]\n",
    "rdd18 = spark.sparkContext.parallelize(li)\n",
    "rdd18.collect()"
   ]
  },
  {
   "cell_type": "code",
   "execution_count": 36,
   "id": "dd22e43f-744c-458d-89d4-b617b9f98234",
   "metadata": {
    "tags": []
   },
   "outputs": [
    {
     "data": {
      "text/plain": [
       "['Germany',\n",
       " 'India',\n",
       " 'USA',\n",
       " 'USA',\n",
       " 'India',\n",
       " 'Russia',\n",
       " 'India',\n",
       " 'Brazil',\n",
       " 'Canada',\n",
       " 'China']"
      ]
     },
     "execution_count": 36,
     "metadata": {},
     "output_type": "execute_result"
    }
   ],
   "source": [
    "rdd19 = rdd18.flatMap(lambda x: x.split(\" \"))\n",
    "rdd19.collect()"
   ]
  },
  {
   "cell_type": "code",
   "execution_count": 37,
   "id": "d98ea528-5783-48b3-aa6f-695a397ceacb",
   "metadata": {
    "tags": []
   },
   "outputs": [
    {
     "data": {
      "text/plain": [
       "[('Germany', 1),\n",
       " ('India', 1),\n",
       " ('USA', 1),\n",
       " ('USA', 1),\n",
       " ('India', 1),\n",
       " ('Russia', 1),\n",
       " ('India', 1),\n",
       " ('Brazil', 1),\n",
       " ('Canada', 1),\n",
       " ('China', 1)]"
      ]
     },
     "execution_count": 37,
     "metadata": {},
     "output_type": "execute_result"
    }
   ],
   "source": [
    "rdd20 = rdd19.map(lambda x: (x, 1))\n",
    "rdd20.collect()"
   ]
  },
  {
   "cell_type": "code",
   "execution_count": 39,
   "id": "ff6a344a-cf35-4842-8b2a-4cb2bef33fbe",
   "metadata": {
    "tags": []
   },
   "outputs": [
    {
     "data": {
      "text/plain": [
       "[('Germany', 1),\n",
       " ('India', 3),\n",
       " ('USA', 2),\n",
       " ('Russia', 1),\n",
       " ('Brazil', 1),\n",
       " ('Canada', 1),\n",
       " ('China', 1)]"
      ]
     },
     "execution_count": 39,
     "metadata": {},
     "output_type": "execute_result"
    }
   ],
   "source": [
    "rdd21 = rdd20.reduceByKey(lambda x,y: (x+y))\n",
    "rdd21.collect()"
   ]
  },
  {
   "cell_type": "code",
   "execution_count": 41,
   "id": "e197bbaa-cc73-4eec-8dd2-56ae20f08468",
   "metadata": {
    "tags": []
   },
   "outputs": [
    {
     "data": {
      "text/plain": [
       "[('Germany', 1),\n",
       " ('India', 1),\n",
       " ('USA', 1),\n",
       " ('USA', 1),\n",
       " ('India', 1),\n",
       " ('Russia', 1),\n",
       " ('India', 1),\n",
       " ('Brazil', 1),\n",
       " ('Canada', 1),\n",
       " ('China', 1)]"
      ]
     },
     "execution_count": 41,
     "metadata": {},
     "output_type": "execute_result"
    }
   ],
   "source": [
    "rdd20.collect()"
   ]
  },
  {
   "cell_type": "code",
   "execution_count": 48,
   "id": "128d7b0b-0fb0-4e95-a526-b26f30f6c93b",
   "metadata": {
    "tags": []
   },
   "outputs": [
    {
     "data": {
      "text/plain": [
       "[('Germany', 1),\n",
       " ('India', 1),\n",
       " ('USA', 1),\n",
       " ('USA', 1),\n",
       " ('India', 1),\n",
       " ('Russia', 1),\n",
       " ('India', 1),\n",
       " ('Brazil', 1),\n",
       " ('Canada', 1),\n",
       " ('China', 1)]"
      ]
     },
     "execution_count": 48,
     "metadata": {},
     "output_type": "execute_result"
    }
   ],
   "source": [
    "rdd21 = rdd20.cache()\n",
    "rdd21.collect()"
   ]
  },
  {
   "cell_type": "code",
   "execution_count": 52,
   "id": "8330c1e5-3e91-4d62-a85e-cd371e5ce159",
   "metadata": {
    "tags": []
   },
   "outputs": [
    {
     "data": {
      "text/plain": [
       "[('Germany', 1),\n",
       " ('India', 1),\n",
       " ('USA', 1),\n",
       " ('USA', 1),\n",
       " ('India', 1),\n",
       " ('Russia', 1),\n",
       " ('India', 1),\n",
       " ('Brazil', 1),\n",
       " ('Canada', 1),\n",
       " ('China', 1)]"
      ]
     },
     "execution_count": 52,
     "metadata": {},
     "output_type": "execute_result"
    }
   ],
   "source": [
    "persist = rdd20.persist(pyspark.StorageLevel.MEMORY_ONLY)\n",
    "persist.collect()"
   ]
  },
  {
   "cell_type": "code",
   "execution_count": 7,
   "id": "c267b874-9789-41a9-8f96-9ba4283929fc",
   "metadata": {},
   "outputs": [
    {
     "data": {
      "text/plain": [
       "[1, 2, 3, 4, 5]"
      ]
     },
     "execution_count": 7,
     "metadata": {},
     "output_type": "execute_result"
    }
   ],
   "source": [
    "import findspark\n",
    "findspark.init()\n",
    "import pyspark\n",
    "from pyspark.sql import SparkSession\n",
    "\n",
    "spark = SparkSession.builder.master('local[1]').getOrCreate()\n",
    "li = [1, 2, 3, 4, 5]\n",
    "rdd = spark.sparkContext.parallelize(li)\n",
    "rdd.collect()"
   ]
  },
  {
   "cell_type": "code",
   "execution_count": 8,
   "id": "d73443de-7c42-4b3e-bcc2-ccb603f60c44",
   "metadata": {
    "tags": []
   },
   "outputs": [
    {
     "data": {
      "text/plain": [
       "[1, 2, 3, 4, 5]"
      ]
     },
     "execution_count": 8,
     "metadata": {},
     "output_type": "execute_result"
    }
   ],
   "source": [
    "rdd.take(5)"
   ]
  },
  {
   "cell_type": "code",
   "execution_count": 3,
   "id": "edb176af-0267-4dc4-8aad-59ef6ee2d9a0",
   "metadata": {},
   "outputs": [
    {
     "ename": "ValueError",
     "evalue": "Couldn't find Spark, make sure SPARK_HOME env is set or Spark is in an expected location (e.g. from homebrew installation).",
     "output_type": "error",
     "traceback": [
      "\u001b[1;31m---------------------------------------------------------------------------\u001b[0m",
      "\u001b[1;31mValueError\u001b[0m                                Traceback (most recent call last)",
      "Cell \u001b[1;32mIn[3], line 2\u001b[0m\n\u001b[0;32m      1\u001b[0m \u001b[38;5;28;01mimport\u001b[39;00m \u001b[38;5;21;01mfindspark\u001b[39;00m\n\u001b[1;32m----> 2\u001b[0m \u001b[43mfindspark\u001b[49m\u001b[38;5;241;43m.\u001b[39;49m\u001b[43minit\u001b[49m\u001b[43m(\u001b[49m\u001b[43m)\u001b[49m\n\u001b[0;32m      3\u001b[0m \u001b[38;5;28;01mimport\u001b[39;00m \u001b[38;5;21;01mpyspark\u001b[39;00m\n\u001b[0;32m      4\u001b[0m \u001b[38;5;28;01mfrom\u001b[39;00m \u001b[38;5;21;01mpyspark\u001b[39;00m\u001b[38;5;21;01m.\u001b[39;00m\u001b[38;5;21;01msql\u001b[39;00m \u001b[38;5;28;01mimport\u001b[39;00m SparkSession\n",
      "File \u001b[1;32m~\\AppData\\Local\\Programs\\Python\\Python310\\lib\\site-packages\\findspark.py:143\u001b[0m, in \u001b[0;36minit\u001b[1;34m(spark_home, python_path, edit_rc, edit_profile)\u001b[0m\n\u001b[0;32m    121\u001b[0m \u001b[38;5;250m\u001b[39m\u001b[38;5;124;03m\"\"\"Make pyspark importable.\u001b[39;00m\n\u001b[0;32m    122\u001b[0m \n\u001b[0;32m    123\u001b[0m \u001b[38;5;124;03mSets environment variables and adds dependencies to sys.path.\u001b[39;00m\n\u001b[1;32m   (...)\u001b[0m\n\u001b[0;32m    139\u001b[0m \u001b[38;5;124;03m    configure and import pyspark.\u001b[39;00m\n\u001b[0;32m    140\u001b[0m \u001b[38;5;124;03m\"\"\"\u001b[39;00m\n\u001b[0;32m    142\u001b[0m \u001b[38;5;28;01mif\u001b[39;00m \u001b[38;5;129;01mnot\u001b[39;00m spark_home:\n\u001b[1;32m--> 143\u001b[0m     spark_home \u001b[38;5;241m=\u001b[39m \u001b[43mfind\u001b[49m\u001b[43m(\u001b[49m\u001b[43m)\u001b[49m\n\u001b[0;32m    145\u001b[0m \u001b[38;5;28;01mif\u001b[39;00m \u001b[38;5;129;01mnot\u001b[39;00m python_path:\n\u001b[0;32m    146\u001b[0m     python_path \u001b[38;5;241m=\u001b[39m os\u001b[38;5;241m.\u001b[39menviron\u001b[38;5;241m.\u001b[39mget(\u001b[38;5;124m\"\u001b[39m\u001b[38;5;124mPYSPARK_PYTHON\u001b[39m\u001b[38;5;124m\"\u001b[39m, sys\u001b[38;5;241m.\u001b[39mexecutable)\n",
      "File \u001b[1;32m~\\AppData\\Local\\Programs\\Python\\Python310\\lib\\site-packages\\findspark.py:46\u001b[0m, in \u001b[0;36mfind\u001b[1;34m()\u001b[0m\n\u001b[0;32m     43\u001b[0m         spark_home \u001b[38;5;241m=\u001b[39m os\u001b[38;5;241m.\u001b[39mpath\u001b[38;5;241m.\u001b[39mdirname(pyspark\u001b[38;5;241m.\u001b[39m\u001b[38;5;18m__file__\u001b[39m)\n\u001b[0;32m     45\u001b[0m \u001b[38;5;28;01mif\u001b[39;00m \u001b[38;5;129;01mnot\u001b[39;00m spark_home:\n\u001b[1;32m---> 46\u001b[0m     \u001b[38;5;28;01mraise\u001b[39;00m \u001b[38;5;167;01mValueError\u001b[39;00m(\n\u001b[0;32m     47\u001b[0m         \u001b[38;5;124m\"\u001b[39m\u001b[38;5;124mCouldn\u001b[39m\u001b[38;5;124m'\u001b[39m\u001b[38;5;124mt find Spark, make sure SPARK_HOME env is set\u001b[39m\u001b[38;5;124m\"\u001b[39m\n\u001b[0;32m     48\u001b[0m         \u001b[38;5;124m\"\u001b[39m\u001b[38;5;124m or Spark is in an expected location (e.g. from homebrew installation).\u001b[39m\u001b[38;5;124m\"\u001b[39m\n\u001b[0;32m     49\u001b[0m     )\n\u001b[0;32m     51\u001b[0m \u001b[38;5;28;01mreturn\u001b[39;00m spark_home\n",
      "\u001b[1;31mValueError\u001b[0m: Couldn't find Spark, make sure SPARK_HOME env is set or Spark is in an expected location (e.g. from homebrew installation)."
     ]
    }
   ],
   "source": [
    "import findspark\n",
    "findspark.init()\n",
    "import pyspark\n",
    "from pyspark.sql import SparkSession\n",
    "\n",
    "spark = SparkSession.builder.master('local[1]').appName('Sample').getOrCreate()"
   ]
  },
  {
   "cell_type": "code",
   "execution_count": 4,
   "id": "78e18d07-fbe9-43e1-a505-62ae95539a2d",
   "metadata": {
    "tags": []
   },
   "outputs": [
    {
     "name": "stdout",
     "output_type": "stream",
     "text": [
      "[('James', 'Smith', 'USA', 'California'), ('Michael', 'Rose', 'USA', 'New York'), ('Robert', 'Williams', 'USA', 'California'), ('Maria', 'Jones', 'USA', 'Florida')]\n"
     ]
    }
   ],
   "source": [
    "states = {\"NY\":\"New York\", \"CA\":\"California\", \"FL\":\"Florida\"}\n",
    "bv = spark.sparkContext.broadcast(states)\n",
    "data = [(\"James\",\"Smith\",\"USA\",\"CA\"),\n",
    "    (\"Michael\",\"Rose\",\"USA\",\"NY\"),\n",
    "    (\"Robert\",\"Williams\",\"USA\",\"CA\"),\n",
    "    (\"Maria\",\"Jones\",\"USA\",\"FL\")\n",
    "  ]\n",
    "rdd = spark.sparkContext.parallelize(data)\n",
    "def st(cp):\n",
    "    return bv.value[cp]\n",
    "    \n",
    "rs = rdd.map(lambda x: (x[0], x[1], x[2], st(x[3]))).collect()\n",
    "print(rs)"
   ]
  },
  {
   "cell_type": "code",
   "execution_count": 7,
   "id": "2ce75af0-a6c5-4bdf-94f7-01b5c644bbb3",
   "metadata": {},
   "outputs": [],
   "source": [
    "df = rdd.toDF()"
   ]
  },
  {
   "cell_type": "code",
   "execution_count": 8,
   "id": "b802ac92",
   "metadata": {},
   "outputs": [
    {
     "name": "stdout",
     "output_type": "stream",
     "text": [
      "+-------+--------+---+---+\n",
      "|     _1|      _2| _3| _4|\n",
      "+-------+--------+---+---+\n",
      "|  James|   Smith|USA| CA|\n",
      "|Michael|    Rose|USA| NY|\n",
      "| Robert|Williams|USA| CA|\n",
      "|  Maria|   Jones|USA| FL|\n",
      "+-------+--------+---+---+\n",
      "\n"
     ]
    }
   ],
   "source": [
    "df.show()"
   ]
  },
  {
   "cell_type": "code",
   "execution_count": 8,
   "id": "060c6d2e",
   "metadata": {},
   "outputs": [],
   "source": [
    "data = [('James','','Smith','1991-04-01','M',3000),\n",
    "  ('Michael','Rose','','2000-05-19','M',4000),\n",
    "  ('Robert','','Williams','1978-09-05','M',4000),\n",
    "  ('Maria','Anne','Jones','1967-12-01','F',4000),\n",
    "  ('Jen','Mary','Brown','1980-02-17','F',-1)\n",
    "]\n",
    "\n",
    "columns = [\"firstname\",\"middlename\",\"lastname\",\"dob\",\"gender\",\"salary\"]\n",
    "df = spark.createDataFrame(data=data, schema = columns)"
   ]
  },
  {
   "cell_type": "code",
   "execution_count": 28,
   "id": "4cc836e1",
   "metadata": {},
   "outputs": [
    {
     "name": "stdout",
     "output_type": "stream",
     "text": [
      "+----------+\n",
      "|sum_salary|\n",
      "+----------+\n",
      "|     14999|\n",
      "+----------+\n",
      "\n"
     ]
    }
   ],
   "source": [
    "df1 = df.select(sum('salary').alias('sum_salary'))\n",
    "df1.show()"
   ]
  },
  {
   "cell_type": "code",
   "execution_count": 25,
   "id": "5642c8ba",
   "metadata": {},
   "outputs": [
    {
     "data": {
      "text/plain": [
       "'/home/basu'"
      ]
     },
     "execution_count": 25,
     "metadata": {},
     "output_type": "execute_result"
    }
   ],
   "source": [
    "pwd"
   ]
  },
  {
   "cell_type": "code",
   "execution_count": 4,
   "id": "c7ccc63c-7054-4ee8-81d6-b18341ac19b4",
   "metadata": {},
   "outputs": [],
   "source": [
    "df = spark.read.text('sample.txt')"
   ]
  },
  {
   "cell_type": "code",
   "execution_count": 5,
   "id": "dd953311-6160-4679-bd84-d1848c86a441",
   "metadata": {
    "collapsed": true,
    "jupyter": {
     "outputs_hidden": true
    }
   },
   "outputs": [
    {
     "name": "stdout",
     "output_type": "stream",
     "text": [
      "+--------------------------------------------------------------------------------------------------------------------------------------------------------------------------------------------------------------------------------------------------------------------------------------------------------------------------------------------------------------------------------------------------------------------------------------------------------------------------------------------------------------------------------------------------------------------------------------------------------------------------------------------------------------------------------------------------------------------------------------------------------------------------------------------------------------------------------------------------+\n",
      "|value                                                                                                                                                                                                                                                                                                                                                                                                                                                                                                                                                                                                                                                                                                                                                                                                                                             |\n",
      "+--------------------------------------------------------------------------------------------------------------------------------------------------------------------------------------------------------------------------------------------------------------------------------------------------------------------------------------------------------------------------------------------------------------------------------------------------------------------------------------------------------------------------------------------------------------------------------------------------------------------------------------------------------------------------------------------------------------------------------------------------------------------------------------------------------------------------------------------------+\n",
      "|Quod equidem non reprehendo;                                                                                                                                                                                                                                                                                                                                                                                                                                                                                                                                                                                                                                                                                                                                                                                                                      |\n",
      "|Lorem ipsum dolor sit amet, consectetur adipiscing elit. Quibus natura iure responderit non esse verum aliunde finem beate vivendi, a se principia rei gerendae peti; Quae enim adhuc protulisti, popularia sunt, ego autem a te elegantiora desidero. Duo Reges: constructio interrete. Tum Lucius: Mihi vero ista valde probata sunt, quod item fratri puto. Bestiarum vero nullum iudicium puto. Nihil enim iam habes, quod ad corpus referas; Deinde prima illa, quae in congressu solemus: Quid tu, inquit, huc? Et homini, qui ceteris animantibus plurimum praestat, praecipue a natura nihil datum esse dicemus?                                                                                                                                                                                                                          |\n",
      "|                                                                                                                                                                                                                                                                                                                                                                                                                                                                                                                                                                                                                                                                                                                                                                                                                                                  |\n",
      "|Iam id ipsum absurdum, maximum malum neglegi. Quod ea non occurrentia fingunt, vincunt Aristonem; Atqui perspicuum est hominem e corpore animoque constare, cum primae sint animi partes, secundae corporis. Fieri, inquam, Triari, nullo pacto potest, ut non dicas, quid non probes eius, a quo dissentias. Equidem e Cn. An dubium est, quin virtus ita maximam partem optineat in rebus humanis, ut reliquas obruat?                                                                                                                                                                                                                                                                                                                                                                                                                          |\n",
      "|                                                                                                                                                                                                                                                                                                                                                                                                                                                                                                                                                                                                                                                                                                                                                                                                                                                  |\n",
      "|Quis istum dolorem timet?                                                                                                                                                                                                                                                                                                                                                                                                                                                                                                                                                                                                                                                                                                                                                                                                                         |\n",
      "|Summus dolor plures dies manere non potest? Dicet pro me ipsa virtus nec dubitabit isti vestro beato M. Tubulum fuisse, qua illum, cuius is condemnatus est rogatione, P. Quod si ita sit, cur opera philosophiae sit danda nescio.                                                                                                                                                                                                                                                                                                                                                                                                                                                                                                                                                                                                               |\n",
      "|                                                                                                                                                                                                                                                                                                                                                                                                                                                                                                                                                                                                                                                                                                                                                                                                                                                  |\n",
      "|Ex eorum enim scriptis et institutis cum omnis doctrina liberalis, omnis historia.                                                                                                                                                                                                                                                                                                                                                                                                                                                                                                                                                                                                                                                                                                                                                                |\n",
      "|Quod si ita est, sequitur id ipsum, quod te velle video, omnes semper beatos esse sapientes. Cum enim fertur quasi torrens oratio, quamvis multa cuiusque modi rapiat, nihil tamen teneas, nihil apprehendas, nusquam orationem rapidam coerceas. Ita redarguitur ipse a sese, convincunturque scripta eius probitate ipsius ac moribus. At quanta conantur! Mundum hunc omnem oppidum esse nostrum! Incendi igitur eos, qui audiunt, vides. Vide, ne magis, inquam, tuum fuerit, cum re idem tibi, quod mihi, videretur, non nova te rebus nomina inponere. Qui-vere falsone, quaerere mittimus-dicitur oculis se privasse; Si ista mala sunt, in quae potest incidere sapiens, sapientem esse non esse ad beate vivendum satis. At vero si ad vitem sensus accesserit, ut appetitum quendam habeat et per se ipsa moveatur, quid facturam putas?|\n",
      "|                                                                                                                                                                                                                                                                                                                                                                                                                                                                                                                                                                                                                                                                                                                                                                                                                                                  |\n",
      "|Quem si tenueris, non modo meum Ciceronem, sed etiam me ipsum abducas licebit.                                                                                                                                                                                                                                                                                                                                                                                                                                                                                                                                                                                                                                                                                                                                                                    |\n",
      "|Stulti autem malorum memoria torquentur, sapientes bona praeterita grata recordatione renovata delectant.                                                                                                                                                                                                                                                                                                                                                                                                                                                                                                                                                                                                                                                                                                                                         |\n",
      "|Esse enim quam vellet iniquus iustus poterat inpune.                                                                                                                                                                                                                                                                                                                                                                                                                                                                                                                                                                                                                                                                                                                                                                                              |\n",
      "|Quae autem natura suae primae institutionis oblita est?                                                                                                                                                                                                                                                                                                                                                                                                                                                                                                                                                                                                                                                                                                                                                                                           |\n",
      "|Verum tamen cum de rebus grandioribus dicas, ipsae res verba rapiunt;                                                                                                                                                                                                                                                                                                                                                                                                                                                                                                                                                                                                                                                                                                                                                                             |\n",
      "|Hoc est non modo cor non habere, sed ne palatum quidem.                                                                                                                                                                                                                                                                                                                                                                                                                                                                                                                                                                                                                                                                                                                                                                                           |\n",
      "|Voluptatem cum summum bonum diceret, primum in eo ipso parum vidit, deinde hoc quoque alienum; Sed tu istuc dixti bene Latine, parum plane. Nam haec ipsa mihi erunt in promptu, quae modo audivi, nec ante aggrediar, quam te ab istis, quos dicis, instructum videro. Fatebuntur Stoici haec omnia dicta esse praeclare, neque eam causam Zenoni desciscendi fuisse. Non autem hoc: igitur ne illud quidem. Ratio quidem vestra sic cogit. Cum audissem Antiochum, Brute, ut solebam, cum M. An quod ita callida est, ut optime possit architectari voluptates?                                                                                                                                                                                                                                                                                 |\n",
      "|                                                                                                                                                                                                                                                                                                                                                                                                                                                                                                                                                                                                                                                                                                                                                                                                                                                  |\n",
      "|Idemne, quod iucunde?                                                                                                                                                                                                                                                                                                                                                                                                                                                                                                                                                                                                                                                                                                                                                                                                                             |\n",
      "+--------------------------------------------------------------------------------------------------------------------------------------------------------------------------------------------------------------------------------------------------------------------------------------------------------------------------------------------------------------------------------------------------------------------------------------------------------------------------------------------------------------------------------------------------------------------------------------------------------------------------------------------------------------------------------------------------------------------------------------------------------------------------------------------------------------------------------------------------+\n",
      "only showing top 20 rows\n",
      "\n"
     ]
    }
   ],
   "source": [
    "df.show(truncate=False)"
   ]
  },
  {
   "cell_type": "code",
   "execution_count": 30,
   "id": "3c7d5989-7bba-401e-9969-6eeac7913cab",
   "metadata": {},
   "outputs": [
    {
     "data": {
      "text/plain": [
       "True"
      ]
     },
     "execution_count": 30,
     "metadata": {},
     "output_type": "execute_result"
    }
   ],
   "source": [
    "rdd = spark.sparkContext.parallelize(range(100), 4)\n",
    "6 <= rdd.sample(False, 0.1, 81).count() <= 14"
   ]
  },
  {
   "cell_type": "code",
   "execution_count": 36,
   "id": "af023559-838e-4544-aca8-bb599a031f55",
   "metadata": {},
   "outputs": [
    {
     "data": {
      "text/plain": [
       "[1, 17, 92, 24, 0, 58, 14, 44, 54, 2]"
      ]
     },
     "execution_count": 36,
     "metadata": {},
     "output_type": "execute_result"
    },
    {
     "name": "stderr",
     "output_type": "stream",
     "text": [
      "----------------------------------------\n",
      "Exception occurred during processing of request from ('127.0.0.1', 45794)\n",
      "Traceback (most recent call last):\n",
      "  File \"/usr/lib/python3.10/socketserver.py\", line 316, in _handle_request_noblock\n",
      "    self.process_request(request, client_address)\n",
      "  File \"/usr/lib/python3.10/socketserver.py\", line 347, in process_request\n",
      "    self.finish_request(request, client_address)\n",
      "  File \"/usr/lib/python3.10/socketserver.py\", line 360, in finish_request\n",
      "    self.RequestHandlerClass(request, client_address, self)\n",
      "  File \"/usr/lib/python3.10/socketserver.py\", line 747, in __init__\n",
      "    self.handle()\n",
      "  File \"/home/basu/spark/python/pyspark/accumulators.py\", line 295, in handle\n",
      "    poll(accum_updates)\n",
      "  File \"/home/basu/spark/python/pyspark/accumulators.py\", line 267, in poll\n",
      "    if self.rfile in r and func():\n",
      "  File \"/home/basu/spark/python/pyspark/accumulators.py\", line 271, in accum_updates\n",
      "    num_updates = read_int(self.rfile)\n",
      "  File \"/home/basu/spark/python/pyspark/serializers.py\", line 596, in read_int\n",
      "    raise EOFError\n",
      "EOFError\n",
      "----------------------------------------\n"
     ]
    }
   ],
   "source": [
    "rdd.takeSample(False, 10)"
   ]
  }
 ],
 "metadata": {
  "kernelspec": {
   "display_name": "Python 3 (ipykernel)",
   "language": "python",
   "name": "python3"
  },
  "language_info": {
   "codemirror_mode": {
    "name": "ipython",
    "version": 3
   },
   "file_extension": ".py",
   "mimetype": "text/x-python",
   "name": "python",
   "nbconvert_exporter": "python",
   "pygments_lexer": "ipython3",
   "version": "3.10.12"
  }
 },
 "nbformat": 4,
 "nbformat_minor": 5
}
